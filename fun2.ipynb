{
 "cells": [
  {
   "cell_type": "code",
   "execution_count": 680,
   "id": "ce5bdc58",
   "metadata": {},
   "outputs": [],
   "source": [
    "import pandas as pd\n",
    "import sklearn as sk\n",
    "import numpy as np\n",
    "import matplotlib.pyplot as plt"
   ]
  },
  {
   "cell_type": "code",
   "execution_count": 681,
   "id": "6474b765",
   "metadata": {},
   "outputs": [],
   "source": [
    "df1 = pd.read_csv(\"faceit_elo.csv\", sep=\";\")"
   ]
  },
  {
   "cell_type": "code",
   "execution_count": 682,
   "id": "d4437f42",
   "metadata": {},
   "outputs": [
    {
     "data": {
      "text/html": [
       "<div>\n",
       "<style scoped>\n",
       "    .dataframe tbody tr th:only-of-type {\n",
       "        vertical-align: middle;\n",
       "    }\n",
       "\n",
       "    .dataframe tbody tr th {\n",
       "        vertical-align: top;\n",
       "    }\n",
       "\n",
       "    .dataframe thead th {\n",
       "        text-align: right;\n",
       "    }\n",
       "</style>\n",
       "<table border=\"1\" class=\"dataframe\">\n",
       "  <thead>\n",
       "    <tr style=\"text-align: right;\">\n",
       "      <th></th>\n",
       "      <th>age</th>\n",
       "      <th>th</th>\n",
       "      <th>tmf</th>\n",
       "      <th>reg</th>\n",
       "      <th>kd</th>\n",
       "      <th>hs</th>\n",
       "      <th>snip</th>\n",
       "      <th>elo</th>\n",
       "    </tr>\n",
       "  </thead>\n",
       "  <tbody>\n",
       "    <tr>\n",
       "      <th>0</th>\n",
       "      <td>19</td>\n",
       "      <td>700</td>\n",
       "      <td>53</td>\n",
       "      <td>as</td>\n",
       "      <td>0.76</td>\n",
       "      <td>45</td>\n",
       "      <td>0</td>\n",
       "      <td>1025</td>\n",
       "    </tr>\n",
       "    <tr>\n",
       "      <th>1</th>\n",
       "      <td>17</td>\n",
       "      <td>2500</td>\n",
       "      <td>300</td>\n",
       "      <td>oce</td>\n",
       "      <td>0.78</td>\n",
       "      <td>36</td>\n",
       "      <td>0</td>\n",
       "      <td>763</td>\n",
       "    </tr>\n",
       "    <tr>\n",
       "      <th>2</th>\n",
       "      <td>30</td>\n",
       "      <td>3200</td>\n",
       "      <td>2000</td>\n",
       "      <td>eu</td>\n",
       "      <td>1.15</td>\n",
       "      <td>48</td>\n",
       "      <td>0</td>\n",
       "      <td>2600</td>\n",
       "    </tr>\n",
       "    <tr>\n",
       "      <th>3</th>\n",
       "      <td>17</td>\n",
       "      <td>1200</td>\n",
       "      <td>120</td>\n",
       "      <td>na</td>\n",
       "      <td>1.07</td>\n",
       "      <td>51</td>\n",
       "      <td>0</td>\n",
       "      <td>1050</td>\n",
       "    </tr>\n",
       "    <tr>\n",
       "      <th>4</th>\n",
       "      <td>16</td>\n",
       "      <td>2700</td>\n",
       "      <td>371</td>\n",
       "      <td>eu</td>\n",
       "      <td>1.22</td>\n",
       "      <td>22</td>\n",
       "      <td>1</td>\n",
       "      <td>1625</td>\n",
       "    </tr>\n",
       "  </tbody>\n",
       "</table>\n",
       "</div>"
      ],
      "text/plain": [
       "   age    th   tmf  reg    kd  hs  snip   elo\n",
       "0   19   700    53   as  0.76  45     0  1025\n",
       "1   17  2500   300  oce  0.78  36     0   763\n",
       "2   30  3200  2000   eu  1.15  48     0  2600\n",
       "3   17  1200   120   na  1.07  51     0  1050\n",
       "4   16  2700   371   eu  1.22  22     1  1625"
      ]
     },
     "execution_count": 682,
     "metadata": {},
     "output_type": "execute_result"
    }
   ],
   "source": [
    "df1.head()"
   ]
  },
  {
   "cell_type": "code",
   "execution_count": 683,
   "id": "c632ce1f",
   "metadata": {},
   "outputs": [],
   "source": [
    "X = df1.iloc[:,:-1]\n",
    "y = df1.iloc[:,-1]"
   ]
  },
  {
   "cell_type": "code",
   "execution_count": 684,
   "id": "6bdd17f7",
   "metadata": {},
   "outputs": [],
   "source": [
    "X_num = df1[['age', 'th', 'tmf', 'kd', 'hs', 'snip']]\n",
    "X_cat = df1[['reg']]"
   ]
  },
  {
   "cell_type": "code",
   "execution_count": 685,
   "id": "8767b2ee",
   "metadata": {},
   "outputs": [],
   "source": [
    "from sklearn.preprocessing import OneHotEncoder\n",
    "ohe = OneHotEncoder(sparse=False)\n",
    "X_cat2 = ohe.fit_transform(X_cat)"
   ]
  },
  {
   "cell_type": "code",
   "execution_count": 686,
   "id": "b490a261",
   "metadata": {},
   "outputs": [],
   "source": [
    "X_cat2 = pd.DataFrame(X_cat2, columns=ohe.get_feature_names())"
   ]
  },
  {
   "cell_type": "code",
   "execution_count": 687,
   "id": "3c8cf36a",
   "metadata": {},
   "outputs": [
    {
     "data": {
      "text/html": [
       "<div>\n",
       "<style scoped>\n",
       "    .dataframe tbody tr th:only-of-type {\n",
       "        vertical-align: middle;\n",
       "    }\n",
       "\n",
       "    .dataframe tbody tr th {\n",
       "        vertical-align: top;\n",
       "    }\n",
       "\n",
       "    .dataframe thead th {\n",
       "        text-align: right;\n",
       "    }\n",
       "</style>\n",
       "<table border=\"1\" class=\"dataframe\">\n",
       "  <thead>\n",
       "    <tr style=\"text-align: right;\">\n",
       "      <th></th>\n",
       "      <th>x0_as</th>\n",
       "      <th>x0_cis</th>\n",
       "      <th>x0_eu</th>\n",
       "      <th>x0_na</th>\n",
       "      <th>x0_o</th>\n",
       "      <th>x0_oce</th>\n",
       "    </tr>\n",
       "  </thead>\n",
       "  <tbody>\n",
       "    <tr>\n",
       "      <th>0</th>\n",
       "      <td>1.0</td>\n",
       "      <td>0.0</td>\n",
       "      <td>0.0</td>\n",
       "      <td>0.0</td>\n",
       "      <td>0.0</td>\n",
       "      <td>0.0</td>\n",
       "    </tr>\n",
       "    <tr>\n",
       "      <th>1</th>\n",
       "      <td>0.0</td>\n",
       "      <td>0.0</td>\n",
       "      <td>0.0</td>\n",
       "      <td>0.0</td>\n",
       "      <td>0.0</td>\n",
       "      <td>1.0</td>\n",
       "    </tr>\n",
       "    <tr>\n",
       "      <th>2</th>\n",
       "      <td>0.0</td>\n",
       "      <td>0.0</td>\n",
       "      <td>1.0</td>\n",
       "      <td>0.0</td>\n",
       "      <td>0.0</td>\n",
       "      <td>0.0</td>\n",
       "    </tr>\n",
       "    <tr>\n",
       "      <th>3</th>\n",
       "      <td>0.0</td>\n",
       "      <td>0.0</td>\n",
       "      <td>0.0</td>\n",
       "      <td>1.0</td>\n",
       "      <td>0.0</td>\n",
       "      <td>0.0</td>\n",
       "    </tr>\n",
       "    <tr>\n",
       "      <th>4</th>\n",
       "      <td>0.0</td>\n",
       "      <td>0.0</td>\n",
       "      <td>1.0</td>\n",
       "      <td>0.0</td>\n",
       "      <td>0.0</td>\n",
       "      <td>0.0</td>\n",
       "    </tr>\n",
       "  </tbody>\n",
       "</table>\n",
       "</div>"
      ],
      "text/plain": [
       "   x0_as  x0_cis  x0_eu  x0_na  x0_o  x0_oce\n",
       "0    1.0     0.0    0.0    0.0   0.0     0.0\n",
       "1    0.0     0.0    0.0    0.0   0.0     1.0\n",
       "2    0.0     0.0    1.0    0.0   0.0     0.0\n",
       "3    0.0     0.0    0.0    1.0   0.0     0.0\n",
       "4    0.0     0.0    1.0    0.0   0.0     0.0"
      ]
     },
     "execution_count": 687,
     "metadata": {},
     "output_type": "execute_result"
    }
   ],
   "source": [
    "X_cat2.head()"
   ]
  },
  {
   "cell_type": "code",
   "execution_count": 688,
   "id": "42f569e5",
   "metadata": {},
   "outputs": [],
   "source": [
    "X_train1 = X_num.join(X_cat2)"
   ]
  },
  {
   "cell_type": "code",
   "execution_count": 689,
   "id": "8d99ef0e",
   "metadata": {},
   "outputs": [],
   "source": [
    "from sklearn.preprocessing import StandardScaler\n",
    "sc = StandardScaler()"
   ]
  },
  {
   "cell_type": "code",
   "execution_count": 690,
   "id": "c43affa8",
   "metadata": {},
   "outputs": [],
   "source": [
    "X_train1_sc = sc.fit_transform(X_train1)"
   ]
  },
  {
   "cell_type": "code",
   "execution_count": 691,
   "id": "eefd83a3",
   "metadata": {},
   "outputs": [
    {
     "data": {
      "text/plain": [
       "71"
      ]
     },
     "execution_count": 691,
     "metadata": {},
     "output_type": "execute_result"
    }
   ],
   "source": [
    "X_train1.shape[0]"
   ]
  },
  {
   "cell_type": "code",
   "execution_count": 692,
   "id": "d08c7ef5",
   "metadata": {},
   "outputs": [
    {
     "name": "stdout",
     "output_type": "stream",
     "text": [
      "<class 'pandas.core.frame.DataFrame'>\n"
     ]
    },
    {
     "data": {
      "text/html": [
       "<style  type=\"text/css\" >\n",
       "#T_65905_row0_col0,#T_65905_row1_col1,#T_65905_row2_col2,#T_65905_row3_col3,#T_65905_row4_col4,#T_65905_row5_col5,#T_65905_row6_col6,#T_65905_row7_col7,#T_65905_row8_col8,#T_65905_row9_col9,#T_65905_row10_col10,#T_65905_row11_col11,#T_65905_row12_col12{\n",
       "            background-color:  #b40426;\n",
       "            color:  #f1f1f1;\n",
       "        }#T_65905_row0_col1,#T_65905_row12_col9{\n",
       "            background-color:  #82a6fb;\n",
       "            color:  #000000;\n",
       "        }#T_65905_row0_col2{\n",
       "            background-color:  #b6cefa;\n",
       "            color:  #000000;\n",
       "        }#T_65905_row0_col3,#T_65905_row1_col0,#T_65905_row7_col10{\n",
       "            background-color:  #688aef;\n",
       "            color:  #000000;\n",
       "        }#T_65905_row0_col4,#T_65905_row6_col3,#T_65905_row7_col11{\n",
       "            background-color:  #6f92f3;\n",
       "            color:  #000000;\n",
       "        }#T_65905_row0_col5,#T_65905_row4_col8{\n",
       "            background-color:  #8badfd;\n",
       "            color:  #000000;\n",
       "        }#T_65905_row0_col6{\n",
       "            background-color:  #93b5fe;\n",
       "            color:  #000000;\n",
       "        }#T_65905_row0_col7,#T_65905_row5_col7{\n",
       "            background-color:  #9bbcff;\n",
       "            color:  #000000;\n",
       "        }#T_65905_row0_col8{\n",
       "            background-color:  #ccd9ed;\n",
       "            color:  #000000;\n",
       "        }#T_65905_row0_col9,#T_65905_row2_col7,#T_65905_row8_col5,#T_65905_row10_col7,#T_65905_row11_col7{\n",
       "            background-color:  #a7c5fe;\n",
       "            color:  #000000;\n",
       "        }#T_65905_row0_col10,#T_65905_row0_col11{\n",
       "            background-color:  #5e7de7;\n",
       "            color:  #000000;\n",
       "        }#T_65905_row0_col12{\n",
       "            background-color:  #a3c2fe;\n",
       "            color:  #000000;\n",
       "        }#T_65905_row1_col2{\n",
       "            background-color:  #f7a98b;\n",
       "            color:  #000000;\n",
       "        }#T_65905_row1_col3{\n",
       "            background-color:  #d1dae9;\n",
       "            color:  #000000;\n",
       "        }#T_65905_row1_col4,#T_65905_row4_col9,#T_65905_row10_col4{\n",
       "            background-color:  #a6c4fe;\n",
       "            color:  #000000;\n",
       "        }#T_65905_row1_col5{\n",
       "            background-color:  #9dbdff;\n",
       "            color:  #000000;\n",
       "        }#T_65905_row1_col6,#T_65905_row3_col2,#T_65905_row9_col11{\n",
       "            background-color:  #7093f3;\n",
       "            color:  #000000;\n",
       "        }#T_65905_row1_col7{\n",
       "            background-color:  #b2ccfb;\n",
       "            color:  #000000;\n",
       "        }#T_65905_row1_col8{\n",
       "            background-color:  #dedcdb;\n",
       "            color:  #000000;\n",
       "        }#T_65905_row1_col9,#T_65905_row6_col11,#T_65905_row11_col4{\n",
       "            background-color:  #7295f4;\n",
       "            color:  #000000;\n",
       "        }#T_65905_row1_col10,#T_65905_row5_col2{\n",
       "            background-color:  #89acfd;\n",
       "            color:  #000000;\n",
       "        }#T_65905_row1_col11{\n",
       "            background-color:  #6282ea;\n",
       "            color:  #000000;\n",
       "        }#T_65905_row1_col12{\n",
       "            background-color:  #e97a5f;\n",
       "            color:  #000000;\n",
       "        }#T_65905_row2_col0,#T_65905_row2_col5{\n",
       "            background-color:  #a9c6fd;\n",
       "            color:  #000000;\n",
       "        }#T_65905_row2_col1{\n",
       "            background-color:  #f7a688;\n",
       "            color:  #000000;\n",
       "        }#T_65905_row2_col3,#T_65905_row7_col12{\n",
       "            background-color:  #7da0f9;\n",
       "            color:  #000000;\n",
       "        }#T_65905_row2_col4,#T_65905_row6_col5,#T_65905_row8_col12{\n",
       "            background-color:  #aac7fd;\n",
       "            color:  #000000;\n",
       "        }#T_65905_row2_col6,#T_65905_row7_col5{\n",
       "            background-color:  #779af7;\n",
       "            color:  #000000;\n",
       "        }#T_65905_row2_col8{\n",
       "            background-color:  #e2dad5;\n",
       "            color:  #000000;\n",
       "        }#T_65905_row2_col9{\n",
       "            background-color:  #7b9ff9;\n",
       "            color:  #000000;\n",
       "        }#T_65905_row2_col10,#T_65905_row3_col10{\n",
       "            background-color:  #6687ed;\n",
       "            color:  #000000;\n",
       "        }#T_65905_row2_col11,#T_65905_row10_col2{\n",
       "            background-color:  #6180e9;\n",
       "            color:  #000000;\n",
       "        }#T_65905_row2_col12{\n",
       "            background-color:  #f49a7b;\n",
       "            color:  #000000;\n",
       "        }#T_65905_row3_col0{\n",
       "            background-color:  #4b64d5;\n",
       "            color:  #f1f1f1;\n",
       "        }#T_65905_row3_col1{\n",
       "            background-color:  #cfdaea;\n",
       "            color:  #000000;\n",
       "        }#T_65905_row3_col4{\n",
       "            background-color:  #b5cdfa;\n",
       "            color:  #000000;\n",
       "        }#T_65905_row3_col5,#T_65905_row5_col6,#T_65905_row12_col7{\n",
       "            background-color:  #b7cff9;\n",
       "            color:  #000000;\n",
       "        }#T_65905_row3_col6{\n",
       "            background-color:  #97b8ff;\n",
       "            color:  #000000;\n",
       "        }#T_65905_row3_col7{\n",
       "            background-color:  #bfd3f6;\n",
       "            color:  #000000;\n",
       "        }#T_65905_row3_col8{\n",
       "            background-color:  #bed2f6;\n",
       "            color:  #000000;\n",
       "        }#T_65905_row3_col9,#T_65905_row5_col3{\n",
       "            background-color:  #a5c3fe;\n",
       "            color:  #000000;\n",
       "        }#T_65905_row3_col11,#T_65905_row4_col0,#T_65905_row4_col5,#T_65905_row5_col4,#T_65905_row7_col8,#T_65905_row8_col6,#T_65905_row8_col7,#T_65905_row8_col9,#T_65905_row8_col10,#T_65905_row9_col1,#T_65905_row9_col2,#T_65905_row11_col3,#T_65905_row11_col12{\n",
       "            background-color:  #3b4cc0;\n",
       "            color:  #f1f1f1;\n",
       "        }#T_65905_row3_col12{\n",
       "            background-color:  #dadce0;\n",
       "            color:  #000000;\n",
       "        }#T_65905_row4_col1,#T_65905_row9_col6,#T_65905_row12_col0{\n",
       "            background-color:  #8fb1fe;\n",
       "            color:  #000000;\n",
       "        }#T_65905_row4_col2,#T_65905_row4_col10,#T_65905_row8_col3{\n",
       "            background-color:  #8caffe;\n",
       "            color:  #000000;\n",
       "        }#T_65905_row4_col3{\n",
       "            background-color:  #a2c1ff;\n",
       "            color:  #000000;\n",
       "        }#T_65905_row4_col6,#T_65905_row7_col4{\n",
       "            background-color:  #bcd2f7;\n",
       "            color:  #000000;\n",
       "        }#T_65905_row4_col7{\n",
       "            background-color:  #d4dbe6;\n",
       "            color:  #000000;\n",
       "        }#T_65905_row4_col11{\n",
       "            background-color:  #5a78e4;\n",
       "            color:  #000000;\n",
       "        }#T_65905_row4_col12,#T_65905_row5_col9{\n",
       "            background-color:  #9abbff;\n",
       "            color:  #000000;\n",
       "        }#T_65905_row5_col0{\n",
       "            background-color:  #5875e1;\n",
       "            color:  #000000;\n",
       "        }#T_65905_row5_col1,#T_65905_row10_col12{\n",
       "            background-color:  #85a8fc;\n",
       "            color:  #000000;\n",
       "        }#T_65905_row5_col8{\n",
       "            background-color:  #c3d5f4;\n",
       "            color:  #000000;\n",
       "        }#T_65905_row5_col10{\n",
       "            background-color:  #5d7ce6;\n",
       "            color:  #000000;\n",
       "        }#T_65905_row5_col11,#T_65905_row7_col2{\n",
       "            background-color:  #6384eb;\n",
       "            color:  #000000;\n",
       "        }#T_65905_row5_col12,#T_65905_row7_col9{\n",
       "            background-color:  #94b6ff;\n",
       "            color:  #000000;\n",
       "        }#T_65905_row6_col0,#T_65905_row6_col8{\n",
       "            background-color:  #4f69d9;\n",
       "            color:  #000000;\n",
       "        }#T_65905_row6_col1,#T_65905_row9_col8{\n",
       "            background-color:  #445acc;\n",
       "            color:  #f1f1f1;\n",
       "        }#T_65905_row6_col2,#T_65905_row8_col11{\n",
       "            background-color:  #4257c9;\n",
       "            color:  #f1f1f1;\n",
       "        }#T_65905_row6_col4{\n",
       "            background-color:  #aec9fc;\n",
       "            color:  #000000;\n",
       "        }#T_65905_row6_col7{\n",
       "            background-color:  #9fbfff;\n",
       "            color:  #000000;\n",
       "        }#T_65905_row6_col9,#T_65905_row10_col6,#T_65905_row11_col6{\n",
       "            background-color:  #98b9ff;\n",
       "            color:  #000000;\n",
       "        }#T_65905_row6_col10,#T_65905_row9_col10{\n",
       "            background-color:  #6a8bef;\n",
       "            color:  #000000;\n",
       "        }#T_65905_row6_col12{\n",
       "            background-color:  #4e68d8;\n",
       "            color:  #000000;\n",
       "        }#T_65905_row7_col0{\n",
       "            background-color:  #4358cb;\n",
       "            color:  #f1f1f1;\n",
       "        }#T_65905_row7_col1{\n",
       "            background-color:  #799cf8;\n",
       "            color:  #000000;\n",
       "        }#T_65905_row7_col3,#T_65905_row7_col6,#T_65905_row9_col4,#T_65905_row10_col1{\n",
       "            background-color:  #8db0fe;\n",
       "            color:  #000000;\n",
       "        }#T_65905_row8_col0{\n",
       "            background-color:  #86a9fc;\n",
       "            color:  #000000;\n",
       "        }#T_65905_row8_col1{\n",
       "            background-color:  #bad0f8;\n",
       "            color:  #000000;\n",
       "        }#T_65905_row8_col2{\n",
       "            background-color:  #bbd1f8;\n",
       "            color:  #000000;\n",
       "        }#T_65905_row8_col4{\n",
       "            background-color:  #6485ec;\n",
       "            color:  #000000;\n",
       "        }#T_65905_row9_col0{\n",
       "            background-color:  #5b7ae5;\n",
       "            color:  #000000;\n",
       "        }#T_65905_row9_col3{\n",
       "            background-color:  #7597f6;\n",
       "            color:  #000000;\n",
       "        }#T_65905_row9_col5,#T_65905_row12_col6{\n",
       "            background-color:  #7ea1fa;\n",
       "            color:  #000000;\n",
       "        }#T_65905_row9_col7{\n",
       "            background-color:  #9ebeff;\n",
       "            color:  #000000;\n",
       "        }#T_65905_row9_col12,#T_65905_row10_col0{\n",
       "            background-color:  #4961d2;\n",
       "            color:  #f1f1f1;\n",
       "        }#T_65905_row10_col3,#T_65905_row11_col10{\n",
       "            background-color:  #6e90f2;\n",
       "            color:  #000000;\n",
       "        }#T_65905_row10_col5,#T_65905_row11_col5{\n",
       "            background-color:  #7a9df8;\n",
       "            color:  #000000;\n",
       "        }#T_65905_row10_col8,#T_65905_row11_col8{\n",
       "            background-color:  #80a3fa;\n",
       "            color:  #000000;\n",
       "        }#T_65905_row10_col9,#T_65905_row11_col9{\n",
       "            background-color:  #a1c0ff;\n",
       "            color:  #000000;\n",
       "        }#T_65905_row10_col11{\n",
       "            background-color:  #7699f6;\n",
       "            color:  #000000;\n",
       "        }#T_65905_row11_col0,#T_65905_row12_col11{\n",
       "            background-color:  #4055c8;\n",
       "            color:  #f1f1f1;\n",
       "        }#T_65905_row11_col1{\n",
       "            background-color:  #5f7fe8;\n",
       "            color:  #000000;\n",
       "        }#T_65905_row11_col2{\n",
       "            background-color:  #5572df;\n",
       "            color:  #000000;\n",
       "        }#T_65905_row12_col1{\n",
       "            background-color:  #e9785d;\n",
       "            color:  #000000;\n",
       "        }#T_65905_row12_col2{\n",
       "            background-color:  #f59d7e;\n",
       "            color:  #000000;\n",
       "        }#T_65905_row12_col3{\n",
       "            background-color:  #dddcdc;\n",
       "            color:  #000000;\n",
       "        }#T_65905_row12_col4{\n",
       "            background-color:  #b1cbfc;\n",
       "            color:  #000000;\n",
       "        }#T_65905_row12_col5{\n",
       "            background-color:  #adc9fd;\n",
       "            color:  #000000;\n",
       "        }#T_65905_row12_col8{\n",
       "            background-color:  #d6dce4;\n",
       "            color:  #000000;\n",
       "        }#T_65905_row12_col10{\n",
       "            background-color:  #84a7fc;\n",
       "            color:  #000000;\n",
       "        }</style><table id=\"T_65905_\" ><thead>    <tr>        <th class=\"blank level0\" ></th>        <th class=\"col_heading level0 col0\" >age</th>        <th class=\"col_heading level0 col1\" >th</th>        <th class=\"col_heading level0 col2\" >tmf</th>        <th class=\"col_heading level0 col3\" >kd</th>        <th class=\"col_heading level0 col4\" >hs</th>        <th class=\"col_heading level0 col5\" >snip</th>        <th class=\"col_heading level0 col6\" >x0_as</th>        <th class=\"col_heading level0 col7\" >x0_cis</th>        <th class=\"col_heading level0 col8\" >x0_eu</th>        <th class=\"col_heading level0 col9\" >x0_na</th>        <th class=\"col_heading level0 col10\" >x0_o</th>        <th class=\"col_heading level0 col11\" >x0_oce</th>        <th class=\"col_heading level0 col12\" >elo</th>    </tr></thead><tbody>\n",
       "                <tr>\n",
       "                        <th id=\"T_65905_level0_row0\" class=\"row_heading level0 row0\" >age</th>\n",
       "                        <td id=\"T_65905_row0_col0\" class=\"data row0 col0\" >1.000000</td>\n",
       "                        <td id=\"T_65905_row0_col1\" class=\"data row0 col1\" >0.040261</td>\n",
       "                        <td id=\"T_65905_row0_col2\" class=\"data row0 col2\" >0.247448</td>\n",
       "                        <td id=\"T_65905_row0_col3\" class=\"data row0 col3\" >-0.063230</td>\n",
       "                        <td id=\"T_65905_row0_col4\" class=\"data row0 col4\" >-0.125531</td>\n",
       "                        <td id=\"T_65905_row0_col5\" class=\"data row0 col5\" >-0.017697</td>\n",
       "                        <td id=\"T_65905_row0_col6\" class=\"data row0 col6\" >-0.050509</td>\n",
       "                        <td id=\"T_65905_row0_col7\" class=\"data row0 col7\" >-0.091499</td>\n",
       "                        <td id=\"T_65905_row0_col8\" class=\"data row0 col8\" >0.136558</td>\n",
       "                        <td id=\"T_65905_row0_col9\" class=\"data row0 col9\" >-0.003866</td>\n",
       "                        <td id=\"T_65905_row0_col10\" class=\"data row0 col10\" >-0.072119</td>\n",
       "                        <td id=\"T_65905_row0_col11\" class=\"data row0 col11\" >-0.099211</td>\n",
       "                        <td id=\"T_65905_row0_col12\" class=\"data row0 col12\" >0.164017</td>\n",
       "            </tr>\n",
       "            <tr>\n",
       "                        <th id=\"T_65905_level0_row1\" class=\"row_heading level0 row1\" >th</th>\n",
       "                        <td id=\"T_65905_row1_col0\" class=\"data row1 col0\" >0.040261</td>\n",
       "                        <td id=\"T_65905_row1_col1\" class=\"data row1 col1\" >1.000000</td>\n",
       "                        <td id=\"T_65905_row1_col2\" class=\"data row1 col2\" >0.653015</td>\n",
       "                        <td id=\"T_65905_row1_col3\" class=\"data row1 col3\" >0.324082</td>\n",
       "                        <td id=\"T_65905_row1_col4\" class=\"data row1 col4\" >0.084994</td>\n",
       "                        <td id=\"T_65905_row1_col5\" class=\"data row1 col5\" >0.051123</td>\n",
       "                        <td id=\"T_65905_row1_col6\" class=\"data row1 col6\" >-0.190604</td>\n",
       "                        <td id=\"T_65905_row1_col7\" class=\"data row1 col7\" >0.008086</td>\n",
       "                        <td id=\"T_65905_row1_col8\" class=\"data row1 col8\" >0.238146</td>\n",
       "                        <td id=\"T_65905_row1_col9\" class=\"data row1 col9\" >-0.231381</td>\n",
       "                        <td id=\"T_65905_row1_col10\" class=\"data row1 col10\" >0.078623</td>\n",
       "                        <td id=\"T_65905_row1_col11\" class=\"data row1 col11\" >-0.084789</td>\n",
       "                        <td id=\"T_65905_row1_col12\" class=\"data row1 col12\" >0.783664</td>\n",
       "            </tr>\n",
       "            <tr>\n",
       "                        <th id=\"T_65905_level0_row2\" class=\"row_heading level0 row2\" >tmf</th>\n",
       "                        <td id=\"T_65905_row2_col0\" class=\"data row2 col0\" >0.247448</td>\n",
       "                        <td id=\"T_65905_row2_col1\" class=\"data row2 col1\" >0.653015</td>\n",
       "                        <td id=\"T_65905_row2_col2\" class=\"data row2 col2\" >1.000000</td>\n",
       "                        <td id=\"T_65905_row2_col3\" class=\"data row2 col3\" >0.012275</td>\n",
       "                        <td id=\"T_65905_row2_col4\" class=\"data row2 col4\" >0.104825</td>\n",
       "                        <td id=\"T_65905_row2_col5\" class=\"data row2 col5\" >0.094654</td>\n",
       "                        <td id=\"T_65905_row2_col6\" class=\"data row2 col6\" >-0.162710</td>\n",
       "                        <td id=\"T_65905_row2_col7\" class=\"data row2 col7\" >-0.038218</td>\n",
       "                        <td id=\"T_65905_row2_col8\" class=\"data row2 col8\" >0.264701</td>\n",
       "                        <td id=\"T_65905_row2_col9\" class=\"data row2 col9\" >-0.191941</td>\n",
       "                        <td id=\"T_65905_row2_col10\" class=\"data row2 col10\" >-0.044700</td>\n",
       "                        <td id=\"T_65905_row2_col11\" class=\"data row2 col11\" >-0.088550</td>\n",
       "                        <td id=\"T_65905_row2_col12\" class=\"data row2 col12\" >0.691937</td>\n",
       "            </tr>\n",
       "            <tr>\n",
       "                        <th id=\"T_65905_level0_row3\" class=\"row_heading level0 row3\" >kd</th>\n",
       "                        <td id=\"T_65905_row3_col0\" class=\"data row3 col0\" >-0.063230</td>\n",
       "                        <td id=\"T_65905_row3_col1\" class=\"data row3 col1\" >0.324082</td>\n",
       "                        <td id=\"T_65905_row3_col2\" class=\"data row3 col2\" >0.012275</td>\n",
       "                        <td id=\"T_65905_row3_col3\" class=\"data row3 col3\" >1.000000</td>\n",
       "                        <td id=\"T_65905_row3_col4\" class=\"data row3 col4\" >0.145297</td>\n",
       "                        <td id=\"T_65905_row3_col5\" class=\"data row3 col5\" >0.153537</td>\n",
       "                        <td id=\"T_65905_row3_col6\" class=\"data row3 col6\" >-0.035928</td>\n",
       "                        <td id=\"T_65905_row3_col7\" class=\"data row3 col7\" >0.069385</td>\n",
       "                        <td id=\"T_65905_row3_col8\" class=\"data row3 col8\" >0.064543</td>\n",
       "                        <td id=\"T_65905_row3_col9\" class=\"data row3 col9\" >-0.018877</td>\n",
       "                        <td id=\"T_65905_row3_col10\" class=\"data row3 col10\" >-0.043287</td>\n",
       "                        <td id=\"T_65905_row3_col11\" class=\"data row3 col11\" >-0.242935</td>\n",
       "                        <td id=\"T_65905_row3_col12\" class=\"data row3 col12\" >0.380070</td>\n",
       "            </tr>\n",
       "            <tr>\n",
       "                        <th id=\"T_65905_level0_row4\" class=\"row_heading level0 row4\" >hs</th>\n",
       "                        <td id=\"T_65905_row4_col0\" class=\"data row4 col0\" >-0.125531</td>\n",
       "                        <td id=\"T_65905_row4_col1\" class=\"data row4 col1\" >0.084994</td>\n",
       "                        <td id=\"T_65905_row4_col2\" class=\"data row4 col2\" >0.104825</td>\n",
       "                        <td id=\"T_65905_row4_col3\" class=\"data row4 col3\" >0.145297</td>\n",
       "                        <td id=\"T_65905_row4_col4\" class=\"data row4 col4\" >1.000000</td>\n",
       "                        <td id=\"T_65905_row4_col5\" class=\"data row4 col5\" >-0.347734</td>\n",
       "                        <td id=\"T_65905_row4_col6\" class=\"data row4 col6\" >0.119687</td>\n",
       "                        <td id=\"T_65905_row4_col7\" class=\"data row4 col7\" >0.178312</td>\n",
       "                        <td id=\"T_65905_row4_col8\" class=\"data row4 col8\" >-0.166995</td>\n",
       "                        <td id=\"T_65905_row4_col9\" class=\"data row4 col9\" >-0.009431</td>\n",
       "                        <td id=\"T_65905_row4_col10\" class=\"data row4 col10\" >0.085615</td>\n",
       "                        <td id=\"T_65905_row4_col11\" class=\"data row4 col11\" >-0.115460</td>\n",
       "                        <td id=\"T_65905_row4_col12\" class=\"data row4 col12\" >0.131077</td>\n",
       "            </tr>\n",
       "            <tr>\n",
       "                        <th id=\"T_65905_level0_row5\" class=\"row_heading level0 row5\" >snip</th>\n",
       "                        <td id=\"T_65905_row5_col0\" class=\"data row5 col0\" >-0.017697</td>\n",
       "                        <td id=\"T_65905_row5_col1\" class=\"data row5 col1\" >0.051123</td>\n",
       "                        <td id=\"T_65905_row5_col2\" class=\"data row5 col2\" >0.094654</td>\n",
       "                        <td id=\"T_65905_row5_col3\" class=\"data row5 col3\" >0.153537</td>\n",
       "                        <td id=\"T_65905_row5_col4\" class=\"data row5 col4\" >-0.347734</td>\n",
       "                        <td id=\"T_65905_row5_col5\" class=\"data row5 col5\" >1.000000</td>\n",
       "                        <td id=\"T_65905_row5_col6\" class=\"data row5 col6\" >0.100466</td>\n",
       "                        <td id=\"T_65905_row5_col7\" class=\"data row5 col7\" >-0.094078</td>\n",
       "                        <td id=\"T_65905_row5_col8\" class=\"data row5 col8\" >0.090471</td>\n",
       "                        <td id=\"T_65905_row5_col9\" class=\"data row5 col9\" >-0.065388</td>\n",
       "                        <td id=\"T_65905_row5_col10\" class=\"data row5 col10\" >-0.080087</td>\n",
       "                        <td id=\"T_65905_row5_col11\" class=\"data row5 col11\" >-0.080087</td>\n",
       "                        <td id=\"T_65905_row5_col12\" class=\"data row5 col12\" >0.114476</td>\n",
       "            </tr>\n",
       "            <tr>\n",
       "                        <th id=\"T_65905_level0_row6\" class=\"row_heading level0 row6\" >x0_as</th>\n",
       "                        <td id=\"T_65905_row6_col0\" class=\"data row6 col0\" >-0.050509</td>\n",
       "                        <td id=\"T_65905_row6_col1\" class=\"data row6 col1\" >-0.190604</td>\n",
       "                        <td id=\"T_65905_row6_col2\" class=\"data row6 col2\" >-0.162710</td>\n",
       "                        <td id=\"T_65905_row6_col3\" class=\"data row6 col3\" >-0.035928</td>\n",
       "                        <td id=\"T_65905_row6_col4\" class=\"data row6 col4\" >0.119687</td>\n",
       "                        <td id=\"T_65905_row6_col5\" class=\"data row6 col5\" >0.100466</td>\n",
       "                        <td id=\"T_65905_row6_col6\" class=\"data row6 col6\" >1.000000</td>\n",
       "                        <td id=\"T_65905_row6_col7\" class=\"data row6 col7\" >-0.074235</td>\n",
       "                        <td id=\"T_65905_row6_col8\" class=\"data row6 col8\" >-0.435477</td>\n",
       "                        <td id=\"T_65905_row6_col9\" class=\"data row6 col9\" >-0.067252</td>\n",
       "                        <td id=\"T_65905_row6_col10\" class=\"data row6 col10\" >-0.029204</td>\n",
       "                        <td id=\"T_65905_row6_col11\" class=\"data row6 col11\" >-0.029204</td>\n",
       "                        <td id=\"T_65905_row6_col12\" class=\"data row6 col12\" >-0.136126</td>\n",
       "            </tr>\n",
       "            <tr>\n",
       "                        <th id=\"T_65905_level0_row7\" class=\"row_heading level0 row7\" >x0_cis</th>\n",
       "                        <td id=\"T_65905_row7_col0\" class=\"data row7 col0\" >-0.091499</td>\n",
       "                        <td id=\"T_65905_row7_col1\" class=\"data row7 col1\" >0.008086</td>\n",
       "                        <td id=\"T_65905_row7_col2\" class=\"data row7 col2\" >-0.038218</td>\n",
       "                        <td id=\"T_65905_row7_col3\" class=\"data row7 col3\" >0.069385</td>\n",
       "                        <td id=\"T_65905_row7_col4\" class=\"data row7 col4\" >0.178312</td>\n",
       "                        <td id=\"T_65905_row7_col5\" class=\"data row7 col5\" >-0.094078</td>\n",
       "                        <td id=\"T_65905_row7_col6\" class=\"data row7 col6\" >-0.074235</td>\n",
       "                        <td id=\"T_65905_row7_col7\" class=\"data row7 col7\" >1.000000</td>\n",
       "                        <td id=\"T_65905_row7_col8\" class=\"data row7 col8\" >-0.541491</td>\n",
       "                        <td id=\"T_65905_row7_col9\" class=\"data row7 col9\" >-0.083624</td>\n",
       "                        <td id=\"T_65905_row7_col10\" class=\"data row7 col10\" >-0.036314</td>\n",
       "                        <td id=\"T_65905_row7_col11\" class=\"data row7 col11\" >-0.036314</td>\n",
       "                        <td id=\"T_65905_row7_col12\" class=\"data row7 col12\" >0.032721</td>\n",
       "            </tr>\n",
       "            <tr>\n",
       "                        <th id=\"T_65905_level0_row8\" class=\"row_heading level0 row8\" >x0_eu</th>\n",
       "                        <td id=\"T_65905_row8_col0\" class=\"data row8 col0\" >0.136558</td>\n",
       "                        <td id=\"T_65905_row8_col1\" class=\"data row8 col1\" >0.238146</td>\n",
       "                        <td id=\"T_65905_row8_col2\" class=\"data row8 col2\" >0.264701</td>\n",
       "                        <td id=\"T_65905_row8_col3\" class=\"data row8 col3\" >0.064543</td>\n",
       "                        <td id=\"T_65905_row8_col4\" class=\"data row8 col4\" >-0.166995</td>\n",
       "                        <td id=\"T_65905_row8_col5\" class=\"data row8 col5\" >0.090471</td>\n",
       "                        <td id=\"T_65905_row8_col6\" class=\"data row8 col6\" >-0.435477</td>\n",
       "                        <td id=\"T_65905_row8_col7\" class=\"data row8 col7\" >-0.541491</td>\n",
       "                        <td id=\"T_65905_row8_col8\" class=\"data row8 col8\" >1.000000</td>\n",
       "                        <td id=\"T_65905_row8_col9\" class=\"data row8 col9\" >-0.490552</td>\n",
       "                        <td id=\"T_65905_row8_col10\" class=\"data row8 col10\" >-0.213021</td>\n",
       "                        <td id=\"T_65905_row8_col11\" class=\"data row8 col11\" >-0.213021</td>\n",
       "                        <td id=\"T_65905_row8_col12\" class=\"data row8 col12\" >0.191102</td>\n",
       "            </tr>\n",
       "            <tr>\n",
       "                        <th id=\"T_65905_level0_row9\" class=\"row_heading level0 row9\" >x0_na</th>\n",
       "                        <td id=\"T_65905_row9_col0\" class=\"data row9 col0\" >-0.003866</td>\n",
       "                        <td id=\"T_65905_row9_col1\" class=\"data row9 col1\" >-0.231381</td>\n",
       "                        <td id=\"T_65905_row9_col2\" class=\"data row9 col2\" >-0.191941</td>\n",
       "                        <td id=\"T_65905_row9_col3\" class=\"data row9 col3\" >-0.018877</td>\n",
       "                        <td id=\"T_65905_row9_col4\" class=\"data row9 col4\" >-0.009431</td>\n",
       "                        <td id=\"T_65905_row9_col5\" class=\"data row9 col5\" >-0.065388</td>\n",
       "                        <td id=\"T_65905_row9_col6\" class=\"data row9 col6\" >-0.067252</td>\n",
       "                        <td id=\"T_65905_row9_col7\" class=\"data row9 col7\" >-0.083624</td>\n",
       "                        <td id=\"T_65905_row9_col8\" class=\"data row9 col8\" >-0.490552</td>\n",
       "                        <td id=\"T_65905_row9_col9\" class=\"data row9 col9\" >1.000000</td>\n",
       "                        <td id=\"T_65905_row9_col10\" class=\"data row9 col10\" >-0.032898</td>\n",
       "                        <td id=\"T_65905_row9_col11\" class=\"data row9 col11\" >-0.032898</td>\n",
       "                        <td id=\"T_65905_row9_col12\" class=\"data row9 col12\" >-0.159464</td>\n",
       "            </tr>\n",
       "            <tr>\n",
       "                        <th id=\"T_65905_level0_row10\" class=\"row_heading level0 row10\" >x0_o</th>\n",
       "                        <td id=\"T_65905_row10_col0\" class=\"data row10 col0\" >-0.072119</td>\n",
       "                        <td id=\"T_65905_row10_col1\" class=\"data row10 col1\" >0.078623</td>\n",
       "                        <td id=\"T_65905_row10_col2\" class=\"data row10 col2\" >-0.044700</td>\n",
       "                        <td id=\"T_65905_row10_col3\" class=\"data row10 col3\" >-0.043287</td>\n",
       "                        <td id=\"T_65905_row10_col4\" class=\"data row10 col4\" >0.085615</td>\n",
       "                        <td id=\"T_65905_row10_col5\" class=\"data row10 col5\" >-0.080087</td>\n",
       "                        <td id=\"T_65905_row10_col6\" class=\"data row10 col6\" >-0.029204</td>\n",
       "                        <td id=\"T_65905_row10_col7\" class=\"data row10 col7\" >-0.036314</td>\n",
       "                        <td id=\"T_65905_row10_col8\" class=\"data row10 col8\" >-0.213021</td>\n",
       "                        <td id=\"T_65905_row10_col9\" class=\"data row10 col9\" >-0.032898</td>\n",
       "                        <td id=\"T_65905_row10_col10\" class=\"data row10 col10\" >1.000000</td>\n",
       "                        <td id=\"T_65905_row10_col11\" class=\"data row10 col11\" >-0.014286</td>\n",
       "                        <td id=\"T_65905_row10_col12\" class=\"data row10 col12\" >0.060150</td>\n",
       "            </tr>\n",
       "            <tr>\n",
       "                        <th id=\"T_65905_level0_row11\" class=\"row_heading level0 row11\" >x0_oce</th>\n",
       "                        <td id=\"T_65905_row11_col0\" class=\"data row11 col0\" >-0.099211</td>\n",
       "                        <td id=\"T_65905_row11_col1\" class=\"data row11 col1\" >-0.084789</td>\n",
       "                        <td id=\"T_65905_row11_col2\" class=\"data row11 col2\" >-0.088550</td>\n",
       "                        <td id=\"T_65905_row11_col3\" class=\"data row11 col3\" >-0.242935</td>\n",
       "                        <td id=\"T_65905_row11_col4\" class=\"data row11 col4\" >-0.115460</td>\n",
       "                        <td id=\"T_65905_row11_col5\" class=\"data row11 col5\" >-0.080087</td>\n",
       "                        <td id=\"T_65905_row11_col6\" class=\"data row11 col6\" >-0.029204</td>\n",
       "                        <td id=\"T_65905_row11_col7\" class=\"data row11 col7\" >-0.036314</td>\n",
       "                        <td id=\"T_65905_row11_col8\" class=\"data row11 col8\" >-0.213021</td>\n",
       "                        <td id=\"T_65905_row11_col9\" class=\"data row11 col9\" >-0.032898</td>\n",
       "                        <td id=\"T_65905_row11_col10\" class=\"data row11 col10\" >-0.014286</td>\n",
       "                        <td id=\"T_65905_row11_col11\" class=\"data row11 col11\" >1.000000</td>\n",
       "                        <td id=\"T_65905_row11_col12\" class=\"data row11 col12\" >-0.216845</td>\n",
       "            </tr>\n",
       "            <tr>\n",
       "                        <th id=\"T_65905_level0_row12\" class=\"row_heading level0 row12\" >elo</th>\n",
       "                        <td id=\"T_65905_row12_col0\" class=\"data row12 col0\" >0.164017</td>\n",
       "                        <td id=\"T_65905_row12_col1\" class=\"data row12 col1\" >0.783664</td>\n",
       "                        <td id=\"T_65905_row12_col2\" class=\"data row12 col2\" >0.691937</td>\n",
       "                        <td id=\"T_65905_row12_col3\" class=\"data row12 col3\" >0.380070</td>\n",
       "                        <td id=\"T_65905_row12_col4\" class=\"data row12 col4\" >0.131077</td>\n",
       "                        <td id=\"T_65905_row12_col5\" class=\"data row12 col5\" >0.114476</td>\n",
       "                        <td id=\"T_65905_row12_col6\" class=\"data row12 col6\" >-0.136126</td>\n",
       "                        <td id=\"T_65905_row12_col7\" class=\"data row12 col7\" >0.032721</td>\n",
       "                        <td id=\"T_65905_row12_col8\" class=\"data row12 col8\" >0.191102</td>\n",
       "                        <td id=\"T_65905_row12_col9\" class=\"data row12 col9\" >-0.159464</td>\n",
       "                        <td id=\"T_65905_row12_col10\" class=\"data row12 col10\" >0.060150</td>\n",
       "                        <td id=\"T_65905_row12_col11\" class=\"data row12 col11\" >-0.216845</td>\n",
       "                        <td id=\"T_65905_row12_col12\" class=\"data row12 col12\" >1.000000</td>\n",
       "            </tr>\n",
       "    </tbody></table>"
      ],
      "text/plain": [
       "<pandas.io.formats.style.Styler at 0x296c0d378e0>"
      ]
     },
     "execution_count": 692,
     "metadata": {},
     "output_type": "execute_result"
    }
   ],
   "source": [
    "### corr matrix\n",
    "corr = X_train1.join(y).corr()\n",
    "print(type(corr))\n",
    "corr.style.background_gradient(cmap='coolwarm')"
   ]
  },
  {
   "cell_type": "code",
   "execution_count": 693,
   "id": "654c82ad",
   "metadata": {},
   "outputs": [
    {
     "data": {
      "image/png": "[encoded data removed]",
      "text/plain": [
       "<Figure size 640x400 with 1 Axes>"
      ]
     },
     "metadata": {
      "needs_background": "light"
     },
     "output_type": "display_data"
    }
   ],
   "source": [
    "#### Elo/total hours plot\n",
    "from sklearn.preprocessing import LabelEncoder\n",
    "le = LabelEncoder()\n",
    "plt.figure(figsize=(8, 5), dpi=80)\n",
    "plt.scatter(df1['th'], df1['elo'], s=10, c=le.fit_transform(df1['reg']));\n",
    "z = np.polyfit(df1['th'], df1['elo'], 1)\n",
    "p = np.poly1d(z)\n",
    "plt.plot(df1['th'], p(df1['th']), \"r--\")\n",
    "plt.xlabel(\"total hours\")\n",
    "plt.ylabel(\"elo\");\n",
    "corr = np.round(np.corrcoef([df1['th'], df1['elo']])[0, 1], 2)\n",
    "plt.annotate(\n",
    "        \"r = \" + str(corr),\n",
    "        xy=(0.05, 0.92),\n",
    "        xycoords=\"axes fraction\",\n",
    "        fontsize=14,\n",
    "    );"
   ]
  },
  {
   "cell_type": "code",
   "execution_count": 694,
   "id": "7542f8e7",
   "metadata": {},
   "outputs": [
    {
     "data": {
      "image/png": "[encoded data removed]",
      "text/plain": [
       "<Figure size 640x400 with 1 Axes>"
      ]
     },
     "metadata": {
      "needs_background": "light"
     },
     "output_type": "display_data"
    }
   ],
   "source": [
    "#### Elo/total faceit matches plot\n",
    "le = LabelEncoder()\n",
    "plt.figure(figsize=(8, 5), dpi=80)\n",
    "plt.scatter(df1['tmf'], df1['elo'], s=10, c=le.fit_transform(df1['reg']));\n",
    "z = np.polyfit(df1['tmf'], df1['elo'], 1)\n",
    "p = np.poly1d(z)\n",
    "plt.plot(df1['tmf'], p(df1['tmf']), \"r--\")\n",
    "# z1 = np.polyfit(np.log(df1['tmf']), df1['elo'], 1)\n",
    "# p1 = np.poly1d(z1)\n",
    "# plt.plot(df1['tmf'], p1(np.log(df1['tmf'])), \"b--\")\n",
    "plt.xlabel(\"faceit matches\")\n",
    "plt.ylabel(\"elo\");\n",
    "corr = np.round(np.corrcoef([df1['tmf'], df1['elo']])[0, 1], 2)\n",
    "plt.annotate(\n",
    "        \"r = \" + str(corr),\n",
    "        xy=(0.05, 0.92),\n",
    "        xycoords=\"axes fraction\",\n",
    "        fontsize=14,\n",
    "    );"
   ]
  },
  {
   "cell_type": "code",
   "execution_count": 695,
   "id": "2b2cfef1",
   "metadata": {},
   "outputs": [
    {
     "data": {
      "image/png": "[encoded data removed]",
      "text/plain": [
       "<Figure size 640x400 with 1 Axes>"
      ]
     },
     "metadata": {
      "needs_background": "light"
     },
     "output_type": "display_data"
    }
   ],
   "source": [
    "#### Elo/KD plot\n",
    "le = LabelEncoder()\n",
    "plt.figure(figsize=(8, 5), dpi=80)\n",
    "plt.scatter(df1[df1['kd']<1.8]['kd'], df1[df1['kd']<1.8]['elo'], \n",
    "            s=10, c=le.fit_transform(df1[df1['kd']<1.8]['reg']));\n",
    "z = np.polyfit(df1[df1['kd']<1.8]['kd'], df1[df1['kd']<1.8]['elo'], 1)\n",
    "p = np.poly1d(z)\n",
    "plt.plot(df1[df1['kd']<1.8]['kd'], p(df1[df1['kd']<1.8]['kd']), \"r--\")\n",
    "plt.xlabel(\"K/D ratio\")\n",
    "plt.ylabel(\"elo\");\n",
    "corr = np.round(np.corrcoef([df1['kd'], df1['elo']])[0, 1], 2)\n",
    "plt.annotate(\n",
    "        \"r = \" + str(corr),\n",
    "        xy=(0.05, 0.92),\n",
    "        xycoords=\"axes fraction\",\n",
    "        fontsize=14,\n",
    "    );"
   ]
  },
  {
   "cell_type": "code",
   "execution_count": 696,
   "id": "934082e3",
   "metadata": {},
   "outputs": [
    {
     "data": {
      "image/png": "[encoded data removed]",
      "text/plain": [
       "<Figure size 640x400 with 1 Axes>"
      ]
     },
     "metadata": {
      "needs_background": "light"
     },
     "output_type": "display_data"
    }
   ],
   "source": [
    "#### Elo/age plot\n",
    "le = LabelEncoder()\n",
    "plt.figure(figsize=(8, 5), dpi=80)\n",
    "plt.scatter(df1['age'], df1['elo'], s=10, c=le.fit_transform(df1['reg']));\n",
    "z = np.polyfit(df1['age'], df1['elo'], 1)\n",
    "p = np.poly1d(z)\n",
    "plt.plot(df1['age'], p(df1['age']), \"r--\")\n",
    "plt.xlabel(\"Age\")\n",
    "plt.ylabel(\"elo\");\n",
    "corr = np.round(np.corrcoef([df1['age'], df1['elo']])[0, 1], 2)\n",
    "plt.annotate(\n",
    "        \"r = \" + str(corr),\n",
    "        xy=(0.05, 0.92),\n",
    "        xycoords=\"axes fraction\",\n",
    "        fontsize=14,\n",
    "    );"
   ]
  },
  {
   "cell_type": "code",
   "execution_count": 697,
   "id": "a8a22545",
   "metadata": {},
   "outputs": [
    {
     "data": {
      "image/png": "[encoded data removed]",
      "text/plain": [
       "<Figure size 640x400 with 1 Axes>"
      ]
     },
     "metadata": {
      "needs_background": "light"
     },
     "output_type": "display_data"
    }
   ],
   "source": [
    "#### Elo/HS plot\n",
    "le = LabelEncoder()\n",
    "plt.figure(figsize=(8, 5), dpi=80)\n",
    "plt.scatter(df1['hs'], df1['elo'], s=10, c=le.fit_transform(df1['reg']));\n",
    "z = np.polyfit(df1['hs'], df1['elo'], 1)\n",
    "p = np.poly1d(z)\n",
    "plt.plot(df1['hs'], p(df1['hs']), \"r--\")\n",
    "plt.xlabel(\"HS%\")\n",
    "plt.ylabel(\"elo\");\n",
    "corr = np.round(np.corrcoef([df1['hs'], df1['elo']])[0, 1], 2)\n",
    "plt.annotate(\n",
    "        \"r = \" + str(corr),\n",
    "        xy=(0.05, 0.92),\n",
    "        xycoords=\"axes fraction\",\n",
    "        fontsize=14,\n",
    "    );"
   ]
  },
  {
   "cell_type": "code",
   "execution_count": 698,
   "id": "3f79ab8d",
   "metadata": {},
   "outputs": [
    {
     "data": {
      "image/png": "[encoded data removed]",
      "text/plain": [
       "<Figure size 640x400 with 1 Axes>"
      ]
     },
     "metadata": {
      "needs_background": "light"
     },
     "output_type": "display_data"
    }
   ],
   "source": [
    "#### KD/total hours plot\n",
    "plt.figure(figsize=(8, 5), dpi=80)\n",
    "plt.scatter(df1['th'], df1['kd'], s=10, c=df1['elo'], cmap='inferno');\n",
    "z = np.polyfit(df1['th'], df1['kd'], 1)\n",
    "p = np.poly1d(z)\n",
    "plt.plot(df1['th'], p(df1['th']), \"b--\")\n",
    "plt.xlabel(\"total hours\")\n",
    "plt.ylabel(\"KD\");\n",
    "corr = np.round(np.corrcoef([df1['th'], df1['kd']])[0, 1], 2)\n",
    "plt.annotate(\n",
    "        \"r = \" + str(corr),\n",
    "        xy=(0.05, 0.92),\n",
    "        xycoords=\"axes fraction\",\n",
    "        fontsize=14,\n",
    "    );"
   ]
  },
  {
   "cell_type": "code",
   "execution_count": 699,
   "id": "1c8b59c9",
   "metadata": {},
   "outputs": [],
   "source": [
    "r_l = 651"
   ]
  },
  {
   "cell_type": "code",
   "execution_count": 700,
   "id": "9d93de1a",
   "metadata": {},
   "outputs": [],
   "source": [
    "r_r = (y.max() - r_l) - (y.max() - r_l)%150 + r_l + 150"
   ]
  },
  {
   "cell_type": "code",
   "execution_count": 701,
   "id": "0227ff89",
   "metadata": {},
   "outputs": [
    {
     "data": {
      "text/plain": [
       "19.0"
      ]
     },
     "execution_count": 701,
     "metadata": {},
     "output_type": "execute_result"
    }
   ],
   "source": [
    "(r_r-r_l)/150"
   ]
  },
  {
   "cell_type": "code",
   "execution_count": 702,
   "id": "05f99f79",
   "metadata": {},
   "outputs": [],
   "source": [
    "bins1 = int((r_r-r_l)/150)"
   ]
  },
  {
   "cell_type": "code",
   "execution_count": 703,
   "id": "557fe355",
   "metadata": {},
   "outputs": [
    {
     "data": {
      "text/plain": [
       "19"
      ]
     },
     "execution_count": 703,
     "metadata": {},
     "output_type": "execute_result"
    }
   ],
   "source": [
    "bins1"
   ]
  },
  {
   "cell_type": "code",
   "execution_count": 704,
   "id": "dc67d16e",
   "metadata": {},
   "outputs": [
    {
     "data": {
      "text/plain": [
       "array([ 763,  875,  880,  962, 1025, 1025, 1025, 1050, 1075, 1100, 1100,\n",
       "       1175, 1175, 1175, 1187, 1193, 1300, 1376, 1400, 1460, 1475, 1492,\n",
       "       1625, 1625, 1625, 1625, 1625, 1625, 1775, 1830, 1925, 2033, 2050,\n",
       "       2050, 2100, 2100, 2200, 2200, 2200, 2200, 2200, 2200, 2200, 2278,\n",
       "       2300, 2300, 2300, 2364, 2372, 2396, 2400, 2400, 2400, 2400, 2450,\n",
       "       2487, 2500, 2500, 2600, 2600, 2600, 2700, 2745, 2800, 2800, 2880,\n",
       "       2900, 2930, 3200, 3300, 3400], dtype=int64)"
      ]
     },
     "execution_count": 704,
     "metadata": {},
     "output_type": "execute_result"
    }
   ],
   "source": [
    "np.sort(y)"
   ]
  },
  {
   "cell_type": "code",
   "execution_count": 705,
   "id": "c02b2779",
   "metadata": {},
   "outputs": [
    {
     "data": {
      "image/png": "[encoded data removed]",
      "text/plain": [
       "<Figure size 640x400 with 1 Axes>"
      ]
     },
     "metadata": {
      "needs_background": "light"
     },
     "output_type": "display_data"
    }
   ],
   "source": [
    "# elo distribution\n",
    "plt.figure(figsize=(8, 5), dpi=80)\n",
    "ax = y.hist(bins=bins1, range=(r_l,r_r));\n",
    "for p in ax.patches:\n",
    "    ax.annotate(str(int(p.get_height())), (p.get_x() + 0.15, p.get_height() * 1.005))\n",
    "#     print(p.get_width())"
   ]
  },
  {
   "cell_type": "code",
   "execution_count": 706,
   "id": "bbf77e84",
   "metadata": {},
   "outputs": [
    {
     "data": {
      "image/png": "[encoded data removed]",
      "text/plain": [
       "<Figure size 640x400 with 1 Axes>"
      ]
     },
     "metadata": {
      "needs_background": "light"
     },
     "output_type": "display_data"
    }
   ],
   "source": [
    "#### Mean elo by region\n",
    "plt.figure(figsize=(8, 5), dpi=80)\n",
    "ax = df1.groupby('reg').agg('mean')['elo'].plot(kind='bar', rot=0)\n",
    "for p in ax.patches:\n",
    "    ax.annotate(str(int(p.get_height())), (p.get_x() + 0.1, p.get_height() * 1.005))\n",
    "plt.ylabel(\"Mean elo by reg\");"
   ]
  },
  {
   "cell_type": "code",
   "execution_count": 707,
   "id": "8e164caa",
   "metadata": {},
   "outputs": [
    {
     "data": {
      "image/png": "[encoded data removed]",
      "text/plain": [
       "<Figure size 640x400 with 1 Axes>"
      ]
     },
     "metadata": {
      "needs_background": "light"
     },
     "output_type": "display_data"
    }
   ],
   "source": [
    "#### Number of samples by region\n",
    "plt.figure(figsize=(8, 5), dpi=80)\n",
    "ax = df1['reg'].value_counts().plot(kind='bar', rot=0)\n",
    "for p in ax.patches:\n",
    "    ax.annotate(str(int(p.get_height())), (p.get_x() + 0.1, p.get_height() * 1.005))\n",
    "plt.ylabel(\"Samples by reg\");"
   ]
  },
  {
   "cell_type": "code",
   "execution_count": 708,
   "id": "969db35a",
   "metadata": {},
   "outputs": [
    {
     "data": {
      "image/png": "[encoded data removed]",
      "text/plain": [
       "<Figure size 640x400 with 1 Axes>"
      ]
     },
     "metadata": {
      "needs_background": "light"
     },
     "output_type": "display_data"
    }
   ],
   "source": [
    "#### Mean elo by role\n",
    "plt.figure(figsize=(8, 5), dpi=80)\n",
    "ax = df1.groupby('snip').agg('mean')['elo'].plot(kind='bar', rot=0)\n",
    "for p in ax.patches:\n",
    "    ax.annotate(str(int(p.get_height())), (p.get_x() + 0.1, p.get_height() * 1.005))\n",
    "plt.ylabel(\"Mean elo by role\");"
   ]
  },
  {
   "cell_type": "code",
   "execution_count": 709,
   "id": "b641a57a",
   "metadata": {},
   "outputs": [
    {
     "data": {
      "image/png": "[encoded data removed]",
      "text/plain": [
       "<Figure size 640x400 with 1 Axes>"
      ]
     },
     "metadata": {
      "needs_background": "light"
     },
     "output_type": "display_data"
    }
   ],
   "source": [
    "#### Number of samples by role\n",
    "plt.figure(figsize=(8, 5), dpi=80)\n",
    "ax = df1['snip'].value_counts().plot(kind='bar', rot=0)\n",
    "for p in ax.patches:\n",
    "    ax.annotate(str(int(p.get_height())), (p.get_x() + 0.1, p.get_height() * 1.005))\n",
    "plt.ylabel(\"Samples by role\");"
   ]
  },
  {
   "cell_type": "markdown",
   "id": "71bcd9ca",
   "metadata": {},
   "source": [
    "#### Linear Regression"
   ]
  },
  {
   "cell_type": "code",
   "execution_count": 710,
   "id": "a27d818e",
   "metadata": {},
   "outputs": [
    {
     "data": {
      "text/plain": [
       "0.7317664914232532"
      ]
     },
     "execution_count": 710,
     "metadata": {},
     "output_type": "execute_result"
    }
   ],
   "source": [
    "# Linear Regression\n",
    "from sklearn.linear_model import LinearRegression\n",
    "lin1 = LinearRegression()\n",
    "lin1.fit(X_train1, y)\n",
    "pr_tr1 = lin1.predict(X_train1)\n",
    "from sklearn.metrics import r2_score\n",
    "r2_score(y, pr_tr1)"
   ]
  },
  {
   "cell_type": "code",
   "execution_count": 711,
   "id": "5006b750",
   "metadata": {},
   "outputs": [
    {
     "data": {
      "text/plain": [
       "{'age': 10.877682524393858,\n",
       " 'th': 0.1729779725110347,\n",
       " 'tmf': 0.2589593077378696,\n",
       " 'kd': 666.9051344009484,\n",
       " 'hs': 1.9127579067398854,\n",
       " 'snip': 51.48281819366832,\n",
       " 'x0_as': 47.52919337648463,\n",
       " 'x0_cis': 74.84326913975273,\n",
       " 'x0_eu': -16.28671831325156,\n",
       " 'x0_na': 63.0677269733139,\n",
       " 'x0_o': 295.89608127932706,\n",
       " 'x0_oce': -465.0495524556256}"
      ]
     },
     "execution_count": 711,
     "metadata": {},
     "output_type": "execute_result"
    }
   ],
   "source": [
    "dict(zip(X_train1.columns, lin1.coef_))"
   ]
  },
  {
   "cell_type": "code",
   "execution_count": 712,
   "id": "7188b926",
   "metadata": {},
   "outputs": [
    {
     "data": {
      "text/plain": [
       "-56.04906353339334"
      ]
     },
     "execution_count": 712,
     "metadata": {},
     "output_type": "execute_result"
    }
   ],
   "source": [
    "lin1.intercept_"
   ]
  },
  {
   "cell_type": "code",
   "execution_count": 713,
   "id": "0abab163",
   "metadata": {},
   "outputs": [],
   "source": [
    "from sklearn.model_selection import cross_validate "
   ]
  },
  {
   "cell_type": "code",
   "execution_count": 714,
   "id": "c31b611e",
   "metadata": {},
   "outputs": [
    {
     "name": "stdout",
     "output_type": "stream",
     "text": [
      "-424.54189964585777\n",
      "0.4941390908542786\n",
      "-458.453899763166\n",
      "0.38609094877035904\n",
      "-480.91221265219866\n",
      "0.43726540706765366\n",
      "---------------------\n",
      "-454.64\n",
      "0.44\n"
     ]
    }
   ],
   "source": [
    "# Linear Regression\n",
    "#print(np.mean(cross_validate(lin1, X_train1, y, cv=5, scoring='neg_mean_absolute_error')['test_score']))\n",
    "rmse_5 = np.mean(cross_validate(lin1, X_train1, y, cv=5, scoring='neg_root_mean_squared_error')['test_score'])\n",
    "print(rmse_5)\n",
    "r2_5 = np.mean(cross_validate(lin1, X_train1, y, cv=5, scoring='r2')['test_score'])\n",
    "print(r2_5)\n",
    "#print(np.mean(cross_validate(lin1, X_train1, y, cv=4, scoring='neg_mean_absolute_error')['test_score']))\n",
    "rmse_4 = np.mean(cross_validate(lin1, X_train1, y, cv=4, scoring='neg_root_mean_squared_error')['test_score'])\n",
    "print(rmse_4)\n",
    "r2_4 = np.mean(cross_validate(lin1, X_train1, y, cv=4, scoring='r2')['test_score'])\n",
    "print(r2_4)\n",
    "#print(np.mean(cross_validate(lin1, X_train1, y, cv=3, scoring='neg_mean_absolute_error')['test_score']))\n",
    "rmse_3 = np.mean(cross_validate(lin1, X_train1, y, cv=3, scoring='neg_root_mean_squared_error')['test_score'])\n",
    "print(rmse_3)\n",
    "r2_3 = np.mean(cross_validate(lin1, X_train1, y, cv=3, scoring='r2')['test_score'])\n",
    "print(r2_3)\n",
    "lin_m = np.mean([r2_3, r2_4, r2_5])\n",
    "lin_rmse_m = np.mean([rmse_3, rmse_4, rmse_5])\n",
    "print(\"---------------------\")\n",
    "print(np.round(lin_rmse_m, 2))\n",
    "print(np.round(lin_m, 2))"
   ]
  },
  {
   "cell_type": "markdown",
   "id": "a1595083",
   "metadata": {},
   "source": [
    "#### Random Forest"
   ]
  },
  {
   "cell_type": "code",
   "execution_count": 715,
   "id": "06a18589",
   "metadata": {},
   "outputs": [
    {
     "data": {
      "text/plain": [
       "0.957715613318724"
      ]
     },
     "execution_count": 715,
     "metadata": {},
     "output_type": "execute_result"
    }
   ],
   "source": [
    "#Random Forest\n",
    "from sklearn.ensemble import RandomForestRegressor\n",
    "rfr = RandomForestRegressor()\n",
    "rfr.fit(X_train1, y)\n",
    "pr_tr2 = rfr.predict(X_train1)\n",
    "r2_score(y, pr_tr2)"
   ]
  },
  {
   "cell_type": "code",
   "execution_count": 716,
   "id": "60013c48",
   "metadata": {},
   "outputs": [
    {
     "data": {
      "text/plain": [
       "{'age': 3.5246880068566897,\n",
       " 'th': 44.651829472972324,\n",
       " 'tmf': 40.188468200763644,\n",
       " 'kd': 5.83204907988777,\n",
       " 'hs': 2.097386506910901,\n",
       " 'snip': 0.6254499648787692,\n",
       " 'x0_as': 1.5085952559115825,\n",
       " 'x0_cis': 0.4155882591996902,\n",
       " 'x0_eu': 0.9555290048310627,\n",
       " 'x0_na': 0.11248140667472784,\n",
       " 'x0_o': 0.018794875205667503,\n",
       " 'x0_oce': 0.06913996590718431}"
      ]
     },
     "execution_count": 716,
     "metadata": {},
     "output_type": "execute_result"
    }
   ],
   "source": [
    "np.set_printoptions(suppress=True)\n",
    "dict(zip(X_train1.columns, rfr.feature_importances_ * 100))"
   ]
  },
  {
   "cell_type": "code",
   "execution_count": 717,
   "id": "d3f1f9e9",
   "metadata": {},
   "outputs": [
    {
     "name": "stdout",
     "output_type": "stream",
     "text": [
      "-365.23933035980446\n",
      "0.5898975407700119\n",
      "-396.01347589287974\n",
      "0.5102301079509741\n",
      "-363.0968755900955\n",
      "0.6702343636679826\n",
      "---------------------\n",
      "-374.78\n",
      "0.59\n"
     ]
    }
   ],
   "source": [
    "# RF\n",
    "#print(np.mean(cross_validate(rfr, X_train1, y, cv=5, scoring='neg_mean_absolute_error')['test_score']))\n",
    "rmse_5 = np.mean(cross_validate(rfr, X_train1, y, cv=5, scoring='neg_root_mean_squared_error')['test_score'])\n",
    "print(rmse_5)\n",
    "r2_5 = np.mean(cross_validate(rfr, X_train1, y, cv=5, scoring='r2')['test_score'])\n",
    "print(r2_5)\n",
    "#print(np.mean(cross_validate(rfr, X_train1, y, cv=4, scoring='neg_mean_absolute_error')['test_score']))\n",
    "rmse_4 = np.mean(cross_validate(rfr, X_train1, y, cv=4, scoring='neg_root_mean_squared_error')['test_score'])\n",
    "print(rmse_4)\n",
    "r2_4 = np.mean(cross_validate(rfr, X_train1, y, cv=4, scoring='r2')['test_score'])\n",
    "print(r2_4)\n",
    "#print(np.mean(cross_validate(rfr, X_train1, y, cv=3, scoring='neg_mean_absolute_error')['test_score']))\n",
    "rmse_3 = np.mean(cross_validate(rfr, X_train1, y, cv=3, scoring='neg_root_mean_squared_error')['test_score'])\n",
    "print(rmse_3)\n",
    "r2_3 = np.mean(cross_validate(rfr, X_train1, y, cv=3, scoring='r2')['test_score'])\n",
    "print(r2_3)\n",
    "rf_m = np.mean([r2_3, r2_4, r2_5])\n",
    "rf_rmse_m = np.mean([rmse_3, rmse_4, rmse_5])\n",
    "print(\"---------------------\")\n",
    "print(np.round(rf_rmse_m, 2))\n",
    "print(np.round(rf_m, 2))"
   ]
  },
  {
   "cell_type": "markdown",
   "id": "9ecd63e3",
   "metadata": {},
   "source": [
    "#### Random Forest GS"
   ]
  },
  {
   "cell_type": "code",
   "execution_count": 718,
   "id": "b315521e",
   "metadata": {},
   "outputs": [
    {
     "data": {
      "text/plain": [
       "GridSearchCV(cv=4, estimator=RandomForestRegressor(),\n",
       "             param_grid={'max_depth': [2, 3, 4, 5, None],\n",
       "                         'max_samples': [None, 0.9],\n",
       "                         'n_estimators': [50, 30, 20, 10],\n",
       "                         'random_state': [42]})"
      ]
     },
     "execution_count": 718,
     "metadata": {},
     "output_type": "execute_result"
    }
   ],
   "source": [
    "from sklearn.model_selection import GridSearchCV\n",
    "gcv_rf = GridSearchCV(\n",
    "    rfr, param_grid={\n",
    "    'n_estimators': [50 ,30, 20, 10], \n",
    "    'max_depth': [2, 3, 4, 5, None],\n",
    "    'max_samples': [None, 0.9],\n",
    "    'random_state': [42]\n",
    "    },\n",
    "    cv=4\n",
    ")\n",
    "gcv_rf.fit(X_train1, y)"
   ]
  },
  {
   "cell_type": "code",
   "execution_count": 719,
   "id": "d70665c8",
   "metadata": {},
   "outputs": [
    {
     "data": {
      "text/plain": [
       "({'max_depth': 4, 'max_samples': 0.9, 'n_estimators': 20, 'random_state': 42},\n",
       " 0.5338585500292199)"
      ]
     },
     "execution_count": 719,
     "metadata": {},
     "output_type": "execute_result"
    }
   ],
   "source": [
    "(gcv_rf.best_params_, gcv_rf.best_score_)"
   ]
  },
  {
   "cell_type": "code",
   "execution_count": 720,
   "id": "98bb0398",
   "metadata": {},
   "outputs": [
    {
     "data": {
      "text/plain": [
       "{'age': 2.982810844147493,\n",
       " 'th': 46.24502323860519,\n",
       " 'tmf': 40.04904142878852,\n",
       " 'kd': 6.157790144970147,\n",
       " 'hs': 0.6884017688804829,\n",
       " 'snip': 0.33998111272936354,\n",
       " 'x0_as': 1.41336661141404,\n",
       " 'x0_cis': 0.8088450767944254,\n",
       " 'x0_eu': 1.1714641953859166,\n",
       " 'x0_na': 0.14327557828441745,\n",
       " 'x0_o': 0.0,\n",
       " 'x0_oce': 0.0}"
      ]
     },
     "execution_count": 720,
     "metadata": {},
     "output_type": "execute_result"
    }
   ],
   "source": [
    "dict(zip(X_train1.columns, gcv_rf.best_estimator_.feature_importances_ * 100))"
   ]
  },
  {
   "cell_type": "code",
   "execution_count": 721,
   "id": "23188e81",
   "metadata": {},
   "outputs": [
    {
     "name": "stdout",
     "output_type": "stream",
     "text": [
      "-360.18208796640954\n",
      "0.613920005530139\n",
      "-382.41051187860523\n",
      "0.5338585500292199\n",
      "-362.12139524167964\n",
      "0.6798935360858703\n",
      "---------------------\n",
      "-368.24\n",
      "0.61\n"
     ]
    }
   ],
   "source": [
    "# Optimized RF\n",
    "#print(np.mean(cross_validate(gcv_rf.best_estimator_, X_train1, y, cv=5, scoring='neg_mean_absolute_error')['test_score']))\n",
    "rmse_5 = np.mean(cross_validate(gcv_rf.best_estimator_, X_train1, y, cv=5, scoring='neg_root_mean_squared_error')['test_score'])\n",
    "print(rmse_5)\n",
    "r2_5 = np.mean(cross_validate(gcv_rf.best_estimator_, X_train1, y, cv=5, scoring='r2')['test_score'])\n",
    "print(r2_5)\n",
    "#print(np.mean(cross_validate(gcv_rf.best_estimator_, X_train1, y, cv=4, scoring='neg_mean_absolute_error')['test_score']))\n",
    "rmse_4 = np.mean(cross_validate(gcv_rf.best_estimator_, X_train1, y, cv=4, scoring='neg_root_mean_squared_error')['test_score'])\n",
    "print(rmse_4)\n",
    "r2_4 = np.mean(cross_validate(gcv_rf.best_estimator_, X_train1, y, cv=4, scoring='r2')['test_score'])\n",
    "print(r2_4)\n",
    "#print(np.mean(cross_validate(gcv_rf.best_estimator_, X_train1, y, cv=3, scoring='neg_mean_absolute_error')['test_score']))\n",
    "rmse_3 = np.mean(cross_validate(gcv_rf.best_estimator_, X_train1, y, cv=3, scoring='neg_root_mean_squared_error')['test_score'])\n",
    "print(rmse_3)\n",
    "r2_3 = np.mean(cross_validate(gcv_rf.best_estimator_, X_train1, y, cv=3, scoring='r2')['test_score'])\n",
    "print(r2_3)\n",
    "rf_gc_m = np.mean([r2_3, r2_4, r2_5])\n",
    "rf_gc_rmse_m = np.mean([rmse_3, rmse_4, rmse_5])\n",
    "print(\"---------------------\")\n",
    "print(np.round(rf_gc_rmse_m, 2))\n",
    "print(np.round(rf_gc_m, 2))"
   ]
  },
  {
   "cell_type": "markdown",
   "id": "c6c0761e",
   "metadata": {},
   "source": [
    "#### SVR"
   ]
  },
  {
   "cell_type": "code",
   "execution_count": 722,
   "id": "3192bae5",
   "metadata": {},
   "outputs": [],
   "source": [
    "from sklearn.svm import SVR\n",
    "svr = SVR()"
   ]
  },
  {
   "cell_type": "code",
   "execution_count": 723,
   "id": "082e5cd2",
   "metadata": {},
   "outputs": [
    {
     "data": {
      "text/plain": [
       "({'C': 70, 'epsilon': 0.01, 'kernel': 'linear'}, 0.48107366964072906)"
      ]
     },
     "execution_count": 723,
     "metadata": {},
     "output_type": "execute_result"
    }
   ],
   "source": [
    "gcv_svr = GridSearchCV(\n",
    "    svr, param_grid={\n",
    "    'kernel': ['poly', 'rbf', 'linear', 'sigmoid'],\n",
    "    'C': [70, 60, 50, 40, 30, 25, 20, 15, 10, 1, 0.1],\n",
    "    'epsilon': [0.01, 0.1, 0.3, 0.65, 1., 1.3, 1.65, 2, 2.3, 2.65, 3, 5, 10, 20]\n",
    "    },\n",
    "    cv=4\n",
    ")\n",
    "gcv_svr.fit(X_train1_sc, y)\n",
    "(gcv_svr.best_params_, gcv_svr.best_score_)"
   ]
  },
  {
   "cell_type": "code",
   "execution_count": 724,
   "id": "342c6c71",
   "metadata": {},
   "outputs": [
    {
     "name": "stdout",
     "output_type": "stream",
     "text": [
      "-394.3857053649405\n",
      "0.5507892576730977\n",
      "-409.3080373818957\n",
      "0.48107366964072906\n",
      "-479.0570405027491\n",
      "0.43751511655943354\n",
      "---------------------\n",
      "-427.58\n",
      "0.49\n"
     ]
    }
   ],
   "source": [
    "#SVR\n",
    "#print(np.mean(cross_validate(gcv_svr.best_estimator_, X_train1_sc, y, cv=5, scoring='neg_mean_absolute_error')['test_score']))\n",
    "rmse_5 = np.mean(cross_validate(gcv_svr.best_estimator_, X_train1_sc, y, cv=5, scoring='neg_root_mean_squared_error')['test_score'])\n",
    "print(rmse_5)\n",
    "r2_5 = np.mean(cross_validate(gcv_svr.best_estimator_, X_train1_sc, y, cv=5, scoring='r2')['test_score'])\n",
    "print(r2_5)\n",
    "#print(np.mean(cross_validate(gcv_svr.best_estimator_, X_train1_sc, y, cv=4, scoring='neg_mean_absolute_error')['test_score']))\n",
    "rmse_4 = np.mean(cross_validate(gcv_svr.best_estimator_, X_train1_sc, y, cv=4, scoring='neg_root_mean_squared_error')['test_score'])\n",
    "print(rmse_4)\n",
    "r2_4 = np.mean(cross_validate(gcv_svr.best_estimator_, X_train1_sc, y, cv=4, scoring='r2')['test_score'])\n",
    "print(r2_4)\n",
    "#print(np.mean(cross_validate(gcv_svr.best_estimator_, X_train1_sc, y, cv=3, scoring='neg_mean_absolute_error')['test_score']))\n",
    "rmse_3 = np.mean(cross_validate(gcv_svr.best_estimator_, X_train1_sc, y, cv=3, scoring='neg_root_mean_squared_error')['test_score'])\n",
    "print(rmse_3)\n",
    "r2_3 = np.mean(cross_validate(gcv_svr.best_estimator_, X_train1_sc, y, cv=3, scoring='r2')['test_score'])\n",
    "print(r2_3)\n",
    "svr_gc_m = np.mean([r2_3, r2_4, r2_5])\n",
    "svr_gc_rmse_m = np.mean([rmse_3, rmse_4, rmse_5])\n",
    "print(\"---------------------\")\n",
    "print(np.round(svr_gc_rmse_m, 2))\n",
    "print(np.round(svr_gc_m, 2))"
   ]
  },
  {
   "cell_type": "markdown",
   "id": "d8a65499",
   "metadata": {},
   "source": [
    "#### KNR"
   ]
  },
  {
   "cell_type": "code",
   "execution_count": 725,
   "id": "53e5a6ed",
   "metadata": {},
   "outputs": [],
   "source": [
    "from sklearn.neighbors import KNeighborsRegressor\n",
    "knr = KNeighborsRegressor()"
   ]
  },
  {
   "cell_type": "code",
   "execution_count": 726,
   "id": "5d13e49a",
   "metadata": {},
   "outputs": [
    {
     "data": {
      "text/plain": [
       "({'n_neighbors': 8, 'weights': 'uniform'}, 0.2904524598722597)"
      ]
     },
     "execution_count": 726,
     "metadata": {},
     "output_type": "execute_result"
    }
   ],
   "source": [
    "gcv_knr = GridSearchCV(\n",
    "    knr, \n",
    "    param_grid={\n",
    "        'n_neighbors': [10,8,6,5,4,3,2],\n",
    "        'weights': ['uniform', 'distance']\n",
    "    }, \n",
    "    cv=4\n",
    ")\n",
    "gcv_knr.fit(X_train1_sc, y)\n",
    "(gcv_knr.best_params_, gcv_knr.best_score_)"
   ]
  },
  {
   "cell_type": "code",
   "execution_count": 727,
   "id": "207bf2f1",
   "metadata": {},
   "outputs": [
    {
     "name": "stdout",
     "output_type": "stream",
     "text": [
      "-462.05539808443507\n",
      "0.41717375917379745\n",
      "-492.30772867523444\n",
      "0.2904524598722597\n",
      "-492.6146285781624\n",
      "0.41074528508955943\n",
      "---------------------\n",
      "-482.33\n",
      "0.37\n"
     ]
    }
   ],
   "source": [
    "# KNR\n",
    "#print(np.mean(cross_validate(gcv_knr.best_estimator_, X_train1_sc, y, cv=5, scoring='neg_mean_absolute_error')['test_score']))\n",
    "rmse_5 = np.mean(cross_validate(gcv_knr.best_estimator_, X_train1_sc, y, cv=5, scoring='neg_root_mean_squared_error')['test_score'])\n",
    "print(rmse_5)\n",
    "r2_5 = np.mean(cross_validate(gcv_knr.best_estimator_, X_train1_sc, y, cv=5, scoring='r2')['test_score'])\n",
    "print(r2_5)\n",
    "#print(np.mean(cross_validate(gcv_knr.best_estimator_, X_train1_sc, y, cv=4, scoring='neg_mean_absolute_error')['test_score']))\n",
    "rmse_4 = np.mean(cross_validate(gcv_knr.best_estimator_, X_train1_sc, y, cv=4, scoring='neg_root_mean_squared_error')['test_score'])\n",
    "print(rmse_4)\n",
    "r2_4 = np.mean(cross_validate(gcv_knr.best_estimator_, X_train1_sc, y, cv=4, scoring='r2')['test_score'])\n",
    "print(r2_4)\n",
    "#print(np.mean(cross_validate(gcv_knr.best_estimator_, X_train1_sc, y, cv=3, scoring='neg_mean_absolute_error')['test_score']))\n",
    "rmse_3 = np.mean(cross_validate(gcv_knr.best_estimator_, X_train1_sc, y, cv=3, scoring='neg_root_mean_squared_error')['test_score'])\n",
    "print(rmse_3)\n",
    "r2_3 = np.mean(cross_validate(gcv_knr.best_estimator_, X_train1_sc, y, cv=3, scoring='r2')['test_score'])\n",
    "print(r2_3)\n",
    "knr_gc_m = np.mean([r2_3, r2_4, r2_5])\n",
    "knr_gc_rmse_m = np.mean([rmse_3, rmse_4, rmse_5])\n",
    "print(\"---------------------\")\n",
    "print(np.round(knr_gc_rmse_m, 2))\n",
    "print(np.round(knr_gc_m, 2))"
   ]
  },
  {
   "cell_type": "markdown",
   "id": "d721d1d7",
   "metadata": {},
   "source": [
    "#### BayesianRidge"
   ]
  },
  {
   "cell_type": "code",
   "execution_count": 728,
   "id": "f9c15936",
   "metadata": {},
   "outputs": [],
   "source": [
    "from sklearn.linear_model import BayesianRidge\n",
    "br = BayesianRidge()"
   ]
  },
  {
   "cell_type": "code",
   "execution_count": 729,
   "id": "cbef8e1f",
   "metadata": {},
   "outputs": [
    {
     "data": {
      "text/plain": [
       "({'alpha_1': 1e-07, 'alpha_2': 1e-05, 'lambda_1': 1e-05, 'lambda_2': 1e-07},\n",
       " 0.42374324337437064)"
      ]
     },
     "execution_count": 729,
     "metadata": {},
     "output_type": "execute_result"
    }
   ],
   "source": [
    "gcv_br = GridSearchCV(br, \n",
    "                    param_grid={'alpha_1':[1e-05,1e-06,1e-07], \n",
    "                                'alpha_2':[1e-05,1e-06,1e-07], \n",
    "                                'lambda_1':[1e-05,1e-06,1e-07], \n",
    "                                'lambda_2':[1e-05,1e-06,1e-07]}, \n",
    "                    cv=4\n",
    ")\n",
    "gcv_br.fit(X_train1_sc, y)\n",
    "(gcv_br.best_params_, gcv_br.best_score_)"
   ]
  },
  {
   "cell_type": "code",
   "execution_count": 730,
   "id": "4494f116",
   "metadata": {},
   "outputs": [
    {
     "name": "stdout",
     "output_type": "stream",
     "text": [
      "-413.7031690881448\n",
      "0.5198174870623893\n",
      "-444.92620538122037\n",
      "0.42374324337437064\n",
      "-462.2091799137381\n",
      "0.482453143459761\n",
      "---------------------\n",
      "-440.28\n",
      "0.48\n"
     ]
    }
   ],
   "source": [
    "# BR\n",
    "#print(np.mean(cross_validate(gcv_br.best_estimator_, X_train1_sc, y, cv=5, scoring='neg_mean_absolute_error')['test_score']))\n",
    "rmse_5 = np.mean(cross_validate(gcv_br.best_estimator_, X_train1_sc, y, cv=5, scoring='neg_root_mean_squared_error')['test_score'])\n",
    "print(rmse_5)\n",
    "r2_5 = np.mean(cross_validate(gcv_br.best_estimator_, X_train1_sc, y, cv=5, scoring='r2')['test_score'])\n",
    "print(r2_5)\n",
    "#print(np.mean(cross_validate(gcv_br.best_estimator_, X_train1_sc, y, cv=4, scoring='neg_mean_absolute_error')['test_score']))\n",
    "rmse_4 = np.mean(cross_validate(gcv_br.best_estimator_, X_train1_sc, y, cv=4, scoring='neg_root_mean_squared_error')['test_score'])\n",
    "print(rmse_4)\n",
    "r2_4 = np.mean(cross_validate(gcv_br.best_estimator_, X_train1_sc, y, cv=4, scoring='r2')['test_score'])\n",
    "print(r2_4)\n",
    "#print(np.mean(cross_validate(gcv_br.best_estimator_, X_train1_sc, y, cv=3, scoring='neg_mean_absolute_error')['test_score']))\n",
    "rmse_3 = np.mean(cross_validate(gcv_br.best_estimator_, X_train1_sc, y, cv=3, scoring='neg_root_mean_squared_error')['test_score'])\n",
    "print(rmse_3)\n",
    "r2_3 = np.mean(cross_validate(gcv_br.best_estimator_, X_train1_sc, y, cv=3, scoring='r2')['test_score'])\n",
    "print(r2_3)\n",
    "br_gc_m = np.mean([r2_3, r2_4, r2_5])\n",
    "br_gc_rmse_m = np.mean([rmse_3, rmse_4, rmse_5])\n",
    "print(\"---------------------\")\n",
    "print(np.round(br_gc_rmse_m, 2))\n",
    "print(np.round(br_gc_m, 2))"
   ]
  },
  {
   "cell_type": "markdown",
   "id": "abeea891",
   "metadata": {},
   "source": [
    "#### NN"
   ]
  },
  {
   "cell_type": "code",
   "execution_count": 731,
   "id": "5e5097f3",
   "metadata": {},
   "outputs": [],
   "source": [
    "# from sklearn.model_selection import train_test_split\n",
    "# from sklearn.preprocessing import LabelEncoder\n",
    "# from sklearn.preprocessing import OneHotEncoder\n",
    "# import tensorflow as tf\n",
    "# import tensorflow.keras as keras\n",
    "# from tensorflow.keras import Sequential, layers\n",
    "# from tensorflow.keras.callbacks import TensorBoard\n",
    "# from tensorflow.keras.callbacks import EarlyStopping\n",
    "# from tensorflow.keras.callbacks import ModelCheckpoint\n",
    "# from tensorflow.keras.callbacks import ReduceLROnPlateau\n",
    "# from time import time\n",
    "# from keras.models import load_model"
   ]
  },
  {
   "cell_type": "code",
   "execution_count": 732,
   "id": "1cfa5d2d",
   "metadata": {},
   "outputs": [],
   "source": [
    "# VALIDATION_FRACTION = 0.15\n",
    "# train_X, val_X, train_y, val_y = train_test_split(X_train1_sc, y, test_size=VALIDATION_FRACTION, random_state=0)"
   ]
  },
  {
   "cell_type": "code",
   "execution_count": 733,
   "id": "d59ed1a6",
   "metadata": {},
   "outputs": [],
   "source": [
    "# train_X.shape[1]"
   ]
  },
  {
   "cell_type": "code",
   "execution_count": 734,
   "id": "9fcfe8eb",
   "metadata": {},
   "outputs": [],
   "source": [
    "# from sklearn.model_selection import train_test_split, KFold\n",
    "# import scipy\n",
    "# first_col = True\n",
    "# cross_fold = KFold(n_splits = 4, shuffle=True)\n",
    "# for train_index, test_index in cross_fold.split(X_train1_sc):\n",
    "#     validation_X, validation_y = X_train1_sc[test_index], y[test_index]\n",
    "#     train_X, train_y = X_train1_sc[train_index], y[train_index]\n",
    "    \n",
    "#     # determine the number of input features\n",
    "#     n_features = X_train1_sc.shape[1]\n",
    "#     # define model\n",
    "#     model = Sequential()\n",
    "#     model.add(layers.Dense(512, kernel_initializer='he_normal', input_shape=(n_features,)))\n",
    "#     model.add(layers.BatchNormalization())\n",
    "#     model.add(layers.Activation('elu'))\n",
    "#     model.add(layers.Dropout(0.5))\n",
    "#     model.add(layers.Dense(128, kernel_initializer='he_normal'))\n",
    "#     model.add(layers.BatchNormalization())\n",
    "#     model.add(layers.Activation('elu'))\n",
    "#     model.add(layers.Dropout(0.5))\n",
    "#     model.add(layers.Dense(1))\n",
    "#     # compile the model\n",
    "#     model.compile(optimizer=keras.optimizers.Adam(lr=0.5, \\\n",
    "#         beta_1=0.9, beta_2=0.999, epsilon=1e-08), loss='msle')\n",
    "#     #callbacks\n",
    "#     # simple early stopping\n",
    "#     es = EarlyStopping(monitor='val_loss', mode='min', min_delta=0.0001, verbose=1, patience=20)\n",
    "#     mc = ModelCheckpoint('best_model.h5', monitor='val_loss', mode='min', verbose=1, save_best_only=True)\n",
    "\n",
    "#     tensorboard = TensorBoard(log_dir=\"logs/{}\".format(time()))\n",
    "    \n",
    "#     rlrop = ReduceLROnPlateau(monitor='loss', factor=0.2, patience=5, verbose=1)\n",
    "    \n",
    "#     # fit model and save the best\n",
    "#     history = model.fit(x=train_X, y=train_y, \n",
    "# #                         steps_per_epoch=steps_per_epoch, \n",
    "#                         batch_size=32, \n",
    "#                         epochs=1000, \n",
    "#                         validation_data=(validation_X, validation_y), \n",
    "# #                         validation_steps=validation_steps, \n",
    "#                         shuffle=True, \n",
    "#                         callbacks=[tensorboard, es, mc, rlrop]\n",
    "#                        )\n",
    "#     saved_model = load_model('best_model.h5')\n",
    "    \n",
    "#     predict = saved_model.predict(X_test1_sc)\n",
    "# #     predict = probs.argmax(axis=1)\n",
    "#     if first_col:\n",
    "#         pr_values = np.array(predict, ndmin=2)\n",
    "#         pr_values = np.transpose(pr_values)\n",
    "#         first_col = False\n",
    "#     else:\n",
    "#         pr_values = np.insert(pr_values, -1, predict, axis=1)\n",
    "# pr_values= np.mean(pr_values, axis=1)"
   ]
  },
  {
   "cell_type": "code",
   "execution_count": 735,
   "id": "f080d64c",
   "metadata": {},
   "outputs": [],
   "source": [
    "# pr_values"
   ]
  },
  {
   "cell_type": "code",
   "execution_count": 736,
   "id": "fa7fe5c5",
   "metadata": {},
   "outputs": [],
   "source": [
    "# BATCH_SIZE = 128\n",
    "# TOL = 0.0001\n",
    "# N_ITER_NO_CHANGE = 10\n",
    "# VERBOSE = 1\n",
    "# MAX_EPOCHS = 300\n",
    "\n",
    "# model = Sequential()\n",
    "# n_features = X_train1_sc.shape[1]\n",
    "# model.add(layers.Dense(1024, input_shape=(n_features,), kernel_initializer='random_normal', activation='elu'))\n",
    "# # model.add(layers.Dropout(0.33))\n",
    "# # model.add(layers.Dense(512, kernel_initializer='random_normal', activation='elu'))\n",
    "# # model.add(layers.Dense(256, kernel_initializer='random_normal', activation='elu'))\n",
    "# # model.add(layers.Dropout(0.33))\n",
    "# # model.add(layers.Dense(256, kernel_initializer='random_normal', activation='elu'))\n",
    "# # model.add(layers.Dense(128, kernel_initializer='random_normal', activation='elu'))\n",
    "# model.add(layers.Dense(1))\n",
    "# model.compile(optimizer=keras.optimizers.Adam(lr=0.5, \\\n",
    "#         beta_1=0.9, beta_2=0.999, epsilon=1e-08), loss='msle')\n",
    "\n",
    "# # simple early stopping\n",
    "# # es = EarlyStopping(monitor='val_loss', mode='min', min_delta=TOL, verbose=VERBOSE, patience=N_ITER_NO_CHANGE)\n",
    "# mc = ModelCheckpoint('best_model.h5', monitor='val_loss', mode='min', verbose=VERBOSE, save_best_only=True)\n",
    "\n",
    "# # fit model\n",
    "# steps_per_epoch = train_X.shape[0]//BATCH_SIZE\n",
    "# validation_steps = val_X.shape[0]//BATCH_SIZE\n",
    "\n",
    "# tensorboard = TensorBoard(log_dir=\"logs/{}\".format(time()))\n",
    "# # fit model and save the best\n",
    "# history = model.fit(x=train_X, y=train_y, \n",
    "# #                     steps_per_epoch=steps_per_epoch, \n",
    "#                     epochs=MAX_EPOCHS,\n",
    "#                     batch_size=BATCH_SIZE,\n",
    "#                     validation_data=(val_X, val_y), \n",
    "#                     shuffle=True, \n",
    "#                     callbacks=[tensorboard, es, mc]\n",
    "#                    )\n",
    "# saved_model = load_model('best_model.h5')"
   ]
  },
  {
   "cell_type": "code",
   "execution_count": 737,
   "id": "f4941ea5",
   "metadata": {},
   "outputs": [],
   "source": [
    "# saved_model.predict(X_test1_sc)"
   ]
  },
  {
   "cell_type": "code",
   "execution_count": 738,
   "id": "515c2a19",
   "metadata": {},
   "outputs": [],
   "source": [
    "# nn1 = saved_model\n",
    "# # BR\n",
    "# #print(np.mean(cross_validate(nn1, X_train1_sc, y, cv=5, scoring='neg_mean_absolute_error')['test_score']))\n",
    "# print(np.mean(cross_validate(nn1, X_train1_sc, y, cv=5, scoring='neg_root_mean_squared_error')['test_score']))\n",
    "# r2_5 = np.mean(cross_validate(nn1, X_train1_sc, y, cv=5, scoring='r2')['test_score'])\n",
    "# print(r2_5)\n",
    "# #print(np.mean(cross_validate(nn1, X_train1_sc, y, cv=4, scoring='neg_mean_absolute_error')['test_score']))\n",
    "# print(np.mean(cross_validate(nn1, X_train1_sc, y, cv=4, scoring='neg_root_mean_squared_error')['test_score']))\n",
    "# r2_4 = np.mean(cross_validate(nn1, X_train1_sc, y, cv=4, scoring='r2')['test_score'])\n",
    "# print(r2_4)\n",
    "# #print(np.mean(cross_validate(nn1, X_train1_sc, y, cv=3, scoring='neg_mean_absolute_error')['test_score']))\n",
    "# print(np.mean(cross_validate(nn1, X_train1_sc, y, cv=3, scoring='neg_root_mean_squared_error')['test_score']))\n",
    "# r2_3 = np.mean(cross_validate(nn1, X_train1_sc, y, cv=3, scoring='r2')['test_score'])\n",
    "# print(r2_3)\n",
    "# br_gc_m = np.mean([r2_3, r2_4, r2_5])\n",
    "# print(np.round(br_gc_m, 2))"
   ]
  },
  {
   "cell_type": "markdown",
   "id": "a8f6c071",
   "metadata": {},
   "source": [
    "#### Prediction"
   ]
  },
  {
   "cell_type": "code",
   "execution_count": 739,
   "id": "ff162a0d",
   "metadata": {},
   "outputs": [],
   "source": [
    "test1 = pd.read_csv(\"faceit_elo2.csv\", sep=\";\")"
   ]
  },
  {
   "cell_type": "code",
   "execution_count": 740,
   "id": "7509d3da",
   "metadata": {},
   "outputs": [
    {
     "data": {
      "text/html": [
       "<div>\n",
       "<style scoped>\n",
       "    .dataframe tbody tr th:only-of-type {\n",
       "        vertical-align: middle;\n",
       "    }\n",
       "\n",
       "    .dataframe tbody tr th {\n",
       "        vertical-align: top;\n",
       "    }\n",
       "\n",
       "    .dataframe thead th {\n",
       "        text-align: right;\n",
       "    }\n",
       "</style>\n",
       "<table border=\"1\" class=\"dataframe\">\n",
       "  <thead>\n",
       "    <tr style=\"text-align: right;\">\n",
       "      <th></th>\n",
       "      <th>name</th>\n",
       "      <th>age</th>\n",
       "      <th>th</th>\n",
       "      <th>tmf</th>\n",
       "      <th>reg</th>\n",
       "      <th>kd</th>\n",
       "      <th>hs</th>\n",
       "      <th>snip</th>\n",
       "      <th>elo</th>\n",
       "    </tr>\n",
       "  </thead>\n",
       "  <tbody>\n",
       "    <tr>\n",
       "      <th>0</th>\n",
       "      <td>alexo22</td>\n",
       "      <td>22</td>\n",
       "      <td>2175</td>\n",
       "      <td>96</td>\n",
       "      <td>cis</td>\n",
       "      <td>0.98</td>\n",
       "      <td>45.0</td>\n",
       "      <td>0</td>\n",
       "      <td>NaN</td>\n",
       "    </tr>\n",
       "    <tr>\n",
       "      <th>1</th>\n",
       "      <td>Kuroki</td>\n",
       "      <td>18</td>\n",
       "      <td>4600</td>\n",
       "      <td>800</td>\n",
       "      <td>as</td>\n",
       "      <td>1.68</td>\n",
       "      <td>48.0</td>\n",
       "      <td>1</td>\n",
       "      <td>NaN</td>\n",
       "    </tr>\n",
       "    <tr>\n",
       "      <th>2</th>\n",
       "      <td>Janin_muna</td>\n",
       "      <td>19</td>\n",
       "      <td>942</td>\n",
       "      <td>421</td>\n",
       "      <td>eu</td>\n",
       "      <td>1.27</td>\n",
       "      <td>40.0</td>\n",
       "      <td>0</td>\n",
       "      <td>NaN</td>\n",
       "    </tr>\n",
       "    <tr>\n",
       "      <th>3</th>\n",
       "      <td>mushroom_tattoo</td>\n",
       "      <td>32</td>\n",
       "      <td>3000</td>\n",
       "      <td>381</td>\n",
       "      <td>na</td>\n",
       "      <td>1.26</td>\n",
       "      <td>36.0</td>\n",
       "      <td>0</td>\n",
       "      <td>NaN</td>\n",
       "    </tr>\n",
       "    <tr>\n",
       "      <th>4</th>\n",
       "      <td>B_Tannen</td>\n",
       "      <td>17</td>\n",
       "      <td>2500</td>\n",
       "      <td>300</td>\n",
       "      <td>oce</td>\n",
       "      <td>0.78</td>\n",
       "      <td>36.0</td>\n",
       "      <td>0</td>\n",
       "      <td>NaN</td>\n",
       "    </tr>\n",
       "  </tbody>\n",
       "</table>\n",
       "</div>"
      ],
      "text/plain": [
       "              name  age    th  tmf  reg    kd    hs  snip  elo\n",
       "0          alexo22   22  2175   96  cis  0.98  45.0     0  NaN\n",
       "1           Kuroki   18  4600  800   as  1.68  48.0     1  NaN\n",
       "2       Janin_muna   19   942  421   eu  1.27  40.0     0  NaN\n",
       "3  mushroom_tattoo   32  3000  381   na  1.26  36.0     0  NaN\n",
       "4         B_Tannen   17  2500  300  oce  0.78  36.0     0  NaN"
      ]
     },
     "execution_count": 740,
     "metadata": {},
     "output_type": "execute_result"
    }
   ],
   "source": [
    "test1.head()"
   ]
  },
  {
   "cell_type": "code",
   "execution_count": 741,
   "id": "8d6bbc48",
   "metadata": {},
   "outputs": [],
   "source": [
    "test1_num = test1[['age', 'th', 'tmf', 'kd', 'hs', 'snip']]\n",
    "test1_cat = test1[['reg']]"
   ]
  },
  {
   "cell_type": "code",
   "execution_count": 742,
   "id": "c6ae2792",
   "metadata": {},
   "outputs": [],
   "source": [
    "test1_cat2 = ohe.transform(test1_cat)"
   ]
  },
  {
   "cell_type": "code",
   "execution_count": 743,
   "id": "a4be946d",
   "metadata": {},
   "outputs": [],
   "source": [
    "test1_cat2 = pd.DataFrame(test1_cat2, columns=ohe.get_feature_names())"
   ]
  },
  {
   "cell_type": "code",
   "execution_count": 744,
   "id": "e5a09838",
   "metadata": {},
   "outputs": [],
   "source": [
    "X_test1 = test1_num.join(test1_cat2)"
   ]
  },
  {
   "cell_type": "code",
   "execution_count": 745,
   "id": "5786422d",
   "metadata": {},
   "outputs": [],
   "source": [
    "X_test1_sc = sc.transform(X_test1)"
   ]
  },
  {
   "cell_type": "code",
   "execution_count": 746,
   "id": "0ba2ed57",
   "metadata": {},
   "outputs": [
    {
     "data": {
      "text/plain": [
       "(98, 12)"
      ]
     },
     "execution_count": 746,
     "metadata": {},
     "output_type": "execute_result"
    }
   ],
   "source": [
    "X_test1.shape"
   ]
  },
  {
   "cell_type": "code",
   "execution_count": 747,
   "id": "3a6ffda5",
   "metadata": {},
   "outputs": [],
   "source": [
    "pr1 = lin1.predict(X_test1)"
   ]
  },
  {
   "cell_type": "code",
   "execution_count": 748,
   "id": "9b90a275",
   "metadata": {},
   "outputs": [],
   "source": [
    "rfr.fit(X_train1, y)\n",
    "pr2 = rfr.predict(X_test1)"
   ]
  },
  {
   "cell_type": "code",
   "execution_count": 749,
   "id": "19ef3a48",
   "metadata": {},
   "outputs": [],
   "source": [
    "gcv_rf.best_estimator_.fit(X_train1, y)\n",
    "pr3 = gcv_rf.best_estimator_.predict(X_test1)"
   ]
  },
  {
   "cell_type": "code",
   "execution_count": 750,
   "id": "aade7b1c",
   "metadata": {},
   "outputs": [],
   "source": [
    "gcv_svr.best_estimator_.fit(X_train1_sc, y)\n",
    "pr4 = gcv_svr.best_estimator_.predict(X_test1_sc)"
   ]
  },
  {
   "cell_type": "code",
   "execution_count": 751,
   "id": "dd94139f",
   "metadata": {},
   "outputs": [],
   "source": [
    "gcv_knr.best_estimator_.fit(X_train1_sc, y)\n",
    "pr5 = gcv_knr.best_estimator_.predict(X_test1_sc)"
   ]
  },
  {
   "cell_type": "code",
   "execution_count": 752,
   "id": "7d5c8c22",
   "metadata": {},
   "outputs": [],
   "source": [
    "gcv_br.best_estimator_.fit(X_train1_sc, y)\n",
    "pr6 = gcv_br.best_estimator_.predict(X_test1_sc)"
   ]
  },
  {
   "cell_type": "code",
   "execution_count": 753,
   "id": "1553f745",
   "metadata": {},
   "outputs": [
    {
     "name": "stdout",
     "output_type": "stream",
     "text": [
      "OPT RF\n",
      "[0.4434352037300149, 0.2866161776814423, 0.2699486185885428]\n"
     ]
    }
   ],
   "source": [
    "if rf_m > rf_gc_m:\n",
    "    print('DEF RF')\n",
    "    gc_all = [\n",
    "        rf_m**2, \n",
    "        svr_gc_m**2, \n",
    "#         knr_gc_m**2, \n",
    "        br_gc_m**2\n",
    "    ]\n",
    "else:\n",
    "    print('OPT RF')\n",
    "    gc_all = [\n",
    "        rf_gc_m**2, \n",
    "        svr_gc_m**2, \n",
    "#         knr_gc_m**2, \n",
    "        br_gc_m**2\n",
    "    ]\n",
    "gc_sum = np.sum(gc_all)\n",
    "weights = [gc_all[i]/gc_sum for i in range(len(gc_all))]\n",
    "print(weights)\n",
    "if rf_m > rf_gc_m:\n",
    "    pr_ens = (\n",
    "        pr2 * weights[0] + #RF\n",
    "        pr4 * weights[1] + #SVR\n",
    "#         pr5 * weights[2] + #KNR\n",
    "        pr6 * weights[2]   #BR\n",
    "    )\n",
    "else:\n",
    "    pr_ens = (\n",
    "        pr3 * weights[0] + #RF\n",
    "        pr4 * weights[1] + #SVR\n",
    "#         pr5 * weights[2] + #KNR\n",
    "        pr6 * weights[2]   #BR\n",
    "    )"
   ]
  },
  {
   "cell_type": "code",
   "execution_count": 754,
   "id": "e4b468bc",
   "metadata": {},
   "outputs": [
    {
     "data": {
      "text/html": [
       "<div>\n",
       "<style scoped>\n",
       "    .dataframe tbody tr th:only-of-type {\n",
       "        vertical-align: middle;\n",
       "    }\n",
       "\n",
       "    .dataframe tbody tr th {\n",
       "        vertical-align: top;\n",
       "    }\n",
       "\n",
       "    .dataframe thead th {\n",
       "        text-align: right;\n",
       "    }\n",
       "</style>\n",
       "<table border=\"1\" class=\"dataframe\">\n",
       "  <thead>\n",
       "    <tr style=\"text-align: right;\">\n",
       "      <th>name</th>\n",
       "      <th>MrSleepZ</th>\n",
       "      <th>Mecseki</th>\n",
       "      <th>exclusive_premium_hltv_acc</th>\n",
       "      <th>DeXXuS</th>\n",
       "      <th>stubakuula</th>\n",
       "    </tr>\n",
       "  </thead>\n",
       "  <tbody>\n",
       "    <tr>\n",
       "      <th>LR</th>\n",
       "      <td>1658.676981</td>\n",
       "      <td>1318.212757</td>\n",
       "      <td>4209.563742</td>\n",
       "      <td>2544.975064</td>\n",
       "      <td>1754.040357</td>\n",
       "    </tr>\n",
       "    <tr>\n",
       "      <th>RFR</th>\n",
       "      <td>1948.550000</td>\n",
       "      <td>1236.550000</td>\n",
       "      <td>2767.760000</td>\n",
       "      <td>2583.940000</td>\n",
       "      <td>2004.320000</td>\n",
       "    </tr>\n",
       "    <tr>\n",
       "      <th>RFR_GC</th>\n",
       "      <td>1808.122840</td>\n",
       "      <td>1318.785407</td>\n",
       "      <td>2828.543566</td>\n",
       "      <td>2632.360134</td>\n",
       "      <td>2023.307439</td>\n",
       "    </tr>\n",
       "    <tr>\n",
       "      <th>SVR_GC</th>\n",
       "      <td>1842.010394</td>\n",
       "      <td>1375.700736</td>\n",
       "      <td>4226.284670</td>\n",
       "      <td>2621.646331</td>\n",
       "      <td>1718.722076</td>\n",
       "    </tr>\n",
       "    <tr>\n",
       "      <th>KNR_GC</th>\n",
       "      <td>1996.875000</td>\n",
       "      <td>1496.125000</td>\n",
       "      <td>2633.375000</td>\n",
       "      <td>2410.625000</td>\n",
       "      <td>1893.750000</td>\n",
       "    </tr>\n",
       "    <tr>\n",
       "      <th>BR_GC</th>\n",
       "      <td>1684.546143</td>\n",
       "      <td>1368.988893</td>\n",
       "      <td>4044.512959</td>\n",
       "      <td>2504.081659</td>\n",
       "      <td>1779.094070</td>\n",
       "    </tr>\n",
       "    <tr>\n",
       "      <th>ENC</th>\n",
       "      <td>1784.476203</td>\n",
       "      <td>1348.650622</td>\n",
       "      <td>3557.408037</td>\n",
       "      <td>2594.660787</td>\n",
       "      <td>1870.083285</td>\n",
       "    </tr>\n",
       "  </tbody>\n",
       "</table>\n",
       "</div>"
      ],
      "text/plain": [
       "name       MrSleepZ      Mecseki  exclusive_premium_hltv_acc       DeXXuS  \\\n",
       "LR      1658.676981  1318.212757                 4209.563742  2544.975064   \n",
       "RFR     1948.550000  1236.550000                 2767.760000  2583.940000   \n",
       "RFR_GC  1808.122840  1318.785407                 2828.543566  2632.360134   \n",
       "SVR_GC  1842.010394  1375.700736                 4226.284670  2621.646331   \n",
       "KNR_GC  1996.875000  1496.125000                 2633.375000  2410.625000   \n",
       "BR_GC   1684.546143  1368.988893                 4044.512959  2504.081659   \n",
       "ENC     1784.476203  1348.650622                 3557.408037  2594.660787   \n",
       "\n",
       "name     stubakuula  \n",
       "LR      1754.040357  \n",
       "RFR     2004.320000  \n",
       "RFR_GC  2023.307439  \n",
       "SVR_GC  1718.722076  \n",
       "KNR_GC  1893.750000  \n",
       "BR_GC   1779.094070  \n",
       "ENC     1870.083285  "
      ]
     },
     "execution_count": 754,
     "metadata": {},
     "output_type": "execute_result"
    }
   ],
   "source": [
    "results = pd.DataFrame([pr1, pr2, pr3, pr4, pr5, pr6, pr_ens], \n",
    "                       index=['LR', 'RFR', 'RFR_GC', 'SVR_GC', 'KNR_GC', 'BR_GC', 'ENC'],\n",
    "                       columns=test1['name']\n",
    "                      )\n",
    "# results = results.reindex(['name', 'LR', 'RFR', 'RFR_GC', 'SVR_GC'])\n",
    "results.iloc[:,-5:]"
   ]
  },
  {
   "cell_type": "code",
   "execution_count": null,
   "id": "6449045a",
   "metadata": {},
   "outputs": [],
   "source": []
  }
 ],
 "metadata": {
  "kernelspec": {
   "display_name": "Python 3",
   "language": "python",
   "name": "python3"
  },
  "language_info": {
   "codemirror_mode": {
    "name": "ipython",
    "version": 3
   },
   "file_extension": ".py",
   "mimetype": "text/x-python",
   "name": "python",
   "nbconvert_exporter": "python",
   "pygments_lexer": "ipython3",
   "version": "3.8.8"
  }
 },
 "nbformat": 4,
 "nbformat_minor": 5
}

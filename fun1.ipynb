{
 "cells": [
  {
   "cell_type": "code",
   "execution_count": 69,
   "id": "15cba5bd",
   "metadata": {},
   "outputs": [],
   "source": [
    "import pandas as pd\n",
    "import sklearn as sk\n",
    "import numpy as np\n",
    "import matplotlib.pyplot as plt"
   ]
  },
  {
   "cell_type": "code",
   "execution_count": 70,
   "id": "8b6ae65e",
   "metadata": {},
   "outputs": [],
   "source": [
    "df1 = pd.read_csv(\"mm_ranks.csv\", sep=\";\")"
   ]
  },
  {
   "cell_type": "code",
   "execution_count": 71,
   "id": "8e7efb12",
   "metadata": {},
   "outputs": [],
   "source": [
    "X = df1.iloc[:,:-1]\n",
    "y = df1.iloc[:,-1]"
   ]
  },
  {
   "cell_type": "code",
   "execution_count": 72,
   "id": "c3bb8b88",
   "metadata": {},
   "outputs": [],
   "source": [
    "X_num = df1[['age', 'th', '2wh', 'snip']]\n",
    "X_cat = df1[['reg', 'goat']]"
   ]
  },
  {
   "cell_type": "code",
   "execution_count": 73,
   "id": "f096b342",
   "metadata": {},
   "outputs": [],
   "source": [
    "from sklearn.preprocessing import OneHotEncoder\n",
    "ohe = OneHotEncoder(sparse=False)\n",
    "X_cat2 = ohe.fit_transform(X_cat)"
   ]
  },
  {
   "cell_type": "code",
   "execution_count": 74,
   "id": "ba45061e",
   "metadata": {},
   "outputs": [],
   "source": [
    "X_cat2 = pd.DataFrame(X_cat2, columns=ohe.get_feature_names())"
   ]
  },
  {
   "cell_type": "code",
   "execution_count": 137,
   "id": "7fe13ad1",
   "metadata": {},
   "outputs": [
    {
     "data": {
      "text/html": [
       "<div>\n",
       "<style scoped>\n",
       "    .dataframe tbody tr th:only-of-type {\n",
       "        vertical-align: middle;\n",
       "    }\n",
       "\n",
       "    .dataframe tbody tr th {\n",
       "        vertical-align: top;\n",
       "    }\n",
       "\n",
       "    .dataframe thead th {\n",
       "        text-align: right;\n",
       "    }\n",
       "</style>\n",
       "<table border=\"1\" class=\"dataframe\">\n",
       "  <thead>\n",
       "    <tr style=\"text-align: right;\">\n",
       "      <th></th>\n",
       "      <th>x0_cis</th>\n",
       "      <th>x0_eu</th>\n",
       "      <th>x0_na</th>\n",
       "      <th>x0_o</th>\n",
       "      <th>x0_sa</th>\n",
       "      <th>x1_a</th>\n",
       "      <th>x1_d</th>\n",
       "      <th>x1_s</th>\n",
       "      <th>x1_z</th>\n",
       "    </tr>\n",
       "  </thead>\n",
       "  <tbody>\n",
       "    <tr>\n",
       "      <th>0</th>\n",
       "      <td>0.0</td>\n",
       "      <td>1.0</td>\n",
       "      <td>0.0</td>\n",
       "      <td>0.0</td>\n",
       "      <td>0.0</td>\n",
       "      <td>1.0</td>\n",
       "      <td>0.0</td>\n",
       "      <td>0.0</td>\n",
       "      <td>0.0</td>\n",
       "    </tr>\n",
       "    <tr>\n",
       "      <th>1</th>\n",
       "      <td>0.0</td>\n",
       "      <td>1.0</td>\n",
       "      <td>0.0</td>\n",
       "      <td>0.0</td>\n",
       "      <td>0.0</td>\n",
       "      <td>0.0</td>\n",
       "      <td>0.0</td>\n",
       "      <td>1.0</td>\n",
       "      <td>0.0</td>\n",
       "    </tr>\n",
       "    <tr>\n",
       "      <th>2</th>\n",
       "      <td>1.0</td>\n",
       "      <td>0.0</td>\n",
       "      <td>0.0</td>\n",
       "      <td>0.0</td>\n",
       "      <td>0.0</td>\n",
       "      <td>0.0</td>\n",
       "      <td>0.0</td>\n",
       "      <td>1.0</td>\n",
       "      <td>0.0</td>\n",
       "    </tr>\n",
       "    <tr>\n",
       "      <th>3</th>\n",
       "      <td>0.0</td>\n",
       "      <td>1.0</td>\n",
       "      <td>0.0</td>\n",
       "      <td>0.0</td>\n",
       "      <td>0.0</td>\n",
       "      <td>0.0</td>\n",
       "      <td>0.0</td>\n",
       "      <td>1.0</td>\n",
       "      <td>0.0</td>\n",
       "    </tr>\n",
       "    <tr>\n",
       "      <th>4</th>\n",
       "      <td>0.0</td>\n",
       "      <td>1.0</td>\n",
       "      <td>0.0</td>\n",
       "      <td>0.0</td>\n",
       "      <td>0.0</td>\n",
       "      <td>0.0</td>\n",
       "      <td>0.0</td>\n",
       "      <td>1.0</td>\n",
       "      <td>0.0</td>\n",
       "    </tr>\n",
       "  </tbody>\n",
       "</table>\n",
       "</div>"
      ],
      "text/plain": [
       "   x0_cis  x0_eu  x0_na  x0_o  x0_sa  x1_a  x1_d  x1_s  x1_z\n",
       "0     0.0    1.0    0.0   0.0    0.0   1.0   0.0   0.0   0.0\n",
       "1     0.0    1.0    0.0   0.0    0.0   0.0   0.0   1.0   0.0\n",
       "2     1.0    0.0    0.0   0.0    0.0   0.0   0.0   1.0   0.0\n",
       "3     0.0    1.0    0.0   0.0    0.0   0.0   0.0   1.0   0.0\n",
       "4     0.0    1.0    0.0   0.0    0.0   0.0   0.0   1.0   0.0"
      ]
     },
     "execution_count": 137,
     "metadata": {},
     "output_type": "execute_result"
    }
   ],
   "source": [
    "X_cat2.head()"
   ]
  },
  {
   "cell_type": "code",
   "execution_count": 76,
   "id": "caffb6dd",
   "metadata": {},
   "outputs": [],
   "source": [
    "X_train1 = X_num.join(X_cat2)"
   ]
  },
  {
   "cell_type": "code",
   "execution_count": 77,
   "id": "245b0ef4",
   "metadata": {},
   "outputs": [],
   "source": [
    "from sklearn.preprocessing import StandardScaler\n",
    "sc = StandardScaler()"
   ]
  },
  {
   "cell_type": "code",
   "execution_count": 78,
   "id": "9319f31f",
   "metadata": {},
   "outputs": [],
   "source": [
    "X_train1_sc = sc.fit_transform(X_train1)"
   ]
  },
  {
   "cell_type": "markdown",
   "id": "21347b0a",
   "metadata": {},
   "source": [
    "#### Correlation matrix"
   ]
  },
  {
   "cell_type": "code",
   "execution_count": 79,
   "id": "2db9964e",
   "metadata": {},
   "outputs": [
    {
     "data": {
      "text/html": [
       "<style  type=\"text/css\" >\n",
       "#T_d0936_row0_col0,#T_d0936_row1_col1,#T_d0936_row2_col2,#T_d0936_row3_col3,#T_d0936_row4_col4,#T_d0936_row5_col5,#T_d0936_row6_col6,#T_d0936_row7_col7,#T_d0936_row8_col8,#T_d0936_row9_col9,#T_d0936_row10_col10,#T_d0936_row11_col11,#T_d0936_row12_col12,#T_d0936_row13_col13{\n",
       "            background-color:  #b40426;\n",
       "            color:  #f1f1f1;\n",
       "        }#T_d0936_row0_col1,#T_d0936_row13_col3{\n",
       "            background-color:  #88abfd;\n",
       "            color:  #000000;\n",
       "        }#T_d0936_row0_col2,#T_d0936_row1_col2,#T_d0936_row2_col1,#T_d0936_row10_col0{\n",
       "            background-color:  #4c66d6;\n",
       "            color:  #000000;\n",
       "        }#T_d0936_row0_col3,#T_d0936_row12_col0{\n",
       "            background-color:  #6485ec;\n",
       "            color:  #000000;\n",
       "        }#T_d0936_row0_col4{\n",
       "            background-color:  #c9d7f0;\n",
       "            color:  #000000;\n",
       "        }#T_d0936_row0_col5,#T_d0936_row9_col4,#T_d0936_row12_col4{\n",
       "            background-color:  #9dbdff;\n",
       "            color:  #000000;\n",
       "        }#T_d0936_row0_col6,#T_d0936_row6_col4,#T_d0936_row7_col4,#T_d0936_row8_col4,#T_d0936_row10_col8,#T_d0936_row11_col4{\n",
       "            background-color:  #9abbff;\n",
       "            color:  #000000;\n",
       "        }#T_d0936_row0_col7,#T_d0936_row6_col7,#T_d0936_row6_col8,#T_d0936_row7_col8,#T_d0936_row8_col7{\n",
       "            background-color:  #8fb1fe;\n",
       "            color:  #000000;\n",
       "        }#T_d0936_row0_col8,#T_d0936_row9_col10,#T_d0936_row12_col10{\n",
       "            background-color:  #bed2f6;\n",
       "            color:  #000000;\n",
       "        }#T_d0936_row0_col9,#T_d0936_row3_col4,#T_d0936_row3_col6{\n",
       "            background-color:  #8db0fe;\n",
       "            color:  #000000;\n",
       "        }#T_d0936_row0_col10{\n",
       "            background-color:  #c6d6f1;\n",
       "            color:  #000000;\n",
       "        }#T_d0936_row0_col11{\n",
       "            background-color:  #d2dbe8;\n",
       "            color:  #000000;\n",
       "        }#T_d0936_row0_col12,#T_d0936_row1_col6,#T_d0936_row2_col8{\n",
       "            background-color:  #96b7ff;\n",
       "            color:  #000000;\n",
       "        }#T_d0936_row0_col13{\n",
       "            background-color:  #e6d7cf;\n",
       "            color:  #000000;\n",
       "        }#T_d0936_row1_col0,#T_d0936_row5_col1{\n",
       "            background-color:  #7b9ff9;\n",
       "            color:  #000000;\n",
       "        }#T_d0936_row1_col3{\n",
       "            background-color:  #6e90f2;\n",
       "            color:  #000000;\n",
       "        }#T_d0936_row1_col4,#T_d0936_row9_col6,#T_d0936_row12_col6{\n",
       "            background-color:  #a9c6fd;\n",
       "            color:  #000000;\n",
       "        }#T_d0936_row1_col5,#T_d0936_row9_col13{\n",
       "            background-color:  #b9d0f9;\n",
       "            color:  #000000;\n",
       "        }#T_d0936_row1_col7{\n",
       "            background-color:  #9ebeff;\n",
       "            color:  #000000;\n",
       "        }#T_d0936_row1_col8{\n",
       "            background-color:  #a2c1ff;\n",
       "            color:  #000000;\n",
       "        }#T_d0936_row1_col9{\n",
       "            background-color:  #799cf8;\n",
       "            color:  #000000;\n",
       "        }#T_d0936_row1_col10,#T_d0936_row10_col6{\n",
       "            background-color:  #afcafc;\n",
       "            color:  #000000;\n",
       "        }#T_d0936_row1_col11{\n",
       "            background-color:  #ecd3c5;\n",
       "            color:  #000000;\n",
       "        }#T_d0936_row1_col12{\n",
       "            background-color:  #7a9df8;\n",
       "            color:  #000000;\n",
       "        }#T_d0936_row1_col13{\n",
       "            background-color:  #f7b99e;\n",
       "            color:  #000000;\n",
       "        }#T_d0936_row2_col0{\n",
       "            background-color:  #3f53c6;\n",
       "            color:  #f1f1f1;\n",
       "        }#T_d0936_row2_col3{\n",
       "            background-color:  #5673e0;\n",
       "            color:  #000000;\n",
       "        }#T_d0936_row2_col4,#T_d0936_row3_col7,#T_d0936_row3_col9{\n",
       "            background-color:  #a1c0ff;\n",
       "            color:  #000000;\n",
       "        }#T_d0936_row2_col5{\n",
       "            background-color:  #bbd1f8;\n",
       "            color:  #000000;\n",
       "        }#T_d0936_row2_col6{\n",
       "            background-color:  #abc8fd;\n",
       "            color:  #000000;\n",
       "        }#T_d0936_row2_col7,#T_d0936_row13_col12{\n",
       "            background-color:  #97b8ff;\n",
       "            color:  #000000;\n",
       "        }#T_d0936_row2_col9,#T_d0936_row2_col12{\n",
       "            background-color:  #86a9fc;\n",
       "            color:  #000000;\n",
       "        }#T_d0936_row2_col10{\n",
       "            background-color:  #ebd3c6;\n",
       "            color:  #000000;\n",
       "        }#T_d0936_row2_col11,#T_d0936_row5_col10,#T_d0936_row13_col0{\n",
       "            background-color:  #b1cbfc;\n",
       "            color:  #000000;\n",
       "        }#T_d0936_row2_col13,#T_d0936_row11_col1{\n",
       "            background-color:  #a7c5fe;\n",
       "            color:  #000000;\n",
       "        }#T_d0936_row3_col0,#T_d0936_row13_col2{\n",
       "            background-color:  #5875e1;\n",
       "            color:  #000000;\n",
       "        }#T_d0936_row3_col1{\n",
       "            background-color:  #6f92f3;\n",
       "            color:  #000000;\n",
       "        }#T_d0936_row3_col2,#T_d0936_row5_col6,#T_d0936_row12_col1{\n",
       "            background-color:  #5572df;\n",
       "            color:  #000000;\n",
       "        }#T_d0936_row3_col5,#T_d0936_row5_col11{\n",
       "            background-color:  #dddcdc;\n",
       "            color:  #000000;\n",
       "        }#T_d0936_row3_col8{\n",
       "            background-color:  #7597f6;\n",
       "            color:  #000000;\n",
       "        }#T_d0936_row3_col10,#T_d0936_row6_col10,#T_d0936_row8_col10,#T_d0936_row10_col7{\n",
       "            background-color:  #cbd8ee;\n",
       "            color:  #000000;\n",
       "        }#T_d0936_row3_col11{\n",
       "            background-color:  #d4dbe6;\n",
       "            color:  #000000;\n",
       "        }#T_d0936_row3_col12,#T_d0936_row7_col1,#T_d0936_row11_col7{\n",
       "            background-color:  #688aef;\n",
       "            color:  #000000;\n",
       "        }#T_d0936_row3_col13{\n",
       "            background-color:  #cad8ef;\n",
       "            color:  #000000;\n",
       "        }#T_d0936_row4_col0{\n",
       "            background-color:  #85a8fc;\n",
       "            color:  #000000;\n",
       "        }#T_d0936_row4_col1{\n",
       "            background-color:  #6788ee;\n",
       "            color:  #000000;\n",
       "        }#T_d0936_row4_col2{\n",
       "            background-color:  #5d7ce6;\n",
       "            color:  #000000;\n",
       "        }#T_d0936_row4_col3{\n",
       "            background-color:  #465ecf;\n",
       "            color:  #f1f1f1;\n",
       "        }#T_d0936_row4_col5,#T_d0936_row5_col4,#T_d0936_row5_col7,#T_d0936_row5_col8,#T_d0936_row6_col0,#T_d0936_row6_col3,#T_d0936_row6_col13,#T_d0936_row8_col3,#T_d0936_row10_col1,#T_d0936_row10_col11,#T_d0936_row11_col2,#T_d0936_row11_col9,#T_d0936_row11_col10,#T_d0936_row11_col12,#T_d0936_row13_col6{\n",
       "            background-color:  #3b4cc0;\n",
       "            color:  #f1f1f1;\n",
       "        }#T_d0936_row4_col6{\n",
       "            background-color:  #a3c2fe;\n",
       "            color:  #000000;\n",
       "        }#T_d0936_row4_col7,#T_d0936_row4_col8,#T_d0936_row5_col12{\n",
       "            background-color:  #8caffe;\n",
       "            color:  #000000;\n",
       "        }#T_d0936_row4_col9,#T_d0936_row4_col12{\n",
       "            background-color:  #7da0f9;\n",
       "            color:  #000000;\n",
       "        }#T_d0936_row4_col10,#T_d0936_row13_col11{\n",
       "            background-color:  #e2dad5;\n",
       "            color:  #000000;\n",
       "        }#T_d0936_row4_col11{\n",
       "            background-color:  #c3d5f4;\n",
       "            color:  #000000;\n",
       "        }#T_d0936_row4_col13,#T_d0936_row6_col11,#T_d0936_row8_col11{\n",
       "            background-color:  #d7dce3;\n",
       "            color:  #000000;\n",
       "        }#T_d0936_row5_col0,#T_d0936_row6_col5,#T_d0936_row7_col5,#T_d0936_row8_col5{\n",
       "            background-color:  #4961d2;\n",
       "            color:  #f1f1f1;\n",
       "        }#T_d0936_row5_col2,#T_d0936_row6_col9,#T_d0936_row6_col12,#T_d0936_row7_col9,#T_d0936_row8_col9,#T_d0936_row8_col12{\n",
       "            background-color:  #7ea1fa;\n",
       "            color:  #000000;\n",
       "        }#T_d0936_row5_col3{\n",
       "            background-color:  #b2ccfb;\n",
       "            color:  #000000;\n",
       "        }#T_d0936_row5_col9,#T_d0936_row12_col5{\n",
       "            background-color:  #aac7fd;\n",
       "            color:  #000000;\n",
       "        }#T_d0936_row5_col13{\n",
       "            background-color:  #dbdcde;\n",
       "            color:  #000000;\n",
       "        }#T_d0936_row6_col1,#T_d0936_row12_col3{\n",
       "            background-color:  #4358cb;\n",
       "            color:  #f1f1f1;\n",
       "        }#T_d0936_row6_col2,#T_d0936_row8_col2{\n",
       "            background-color:  #5e7de7;\n",
       "            color:  #000000;\n",
       "        }#T_d0936_row7_col0{\n",
       "            background-color:  #485fd1;\n",
       "            color:  #f1f1f1;\n",
       "        }#T_d0936_row7_col2{\n",
       "            background-color:  #5f7fe8;\n",
       "            color:  #000000;\n",
       "        }#T_d0936_row7_col3{\n",
       "            background-color:  #6a8bef;\n",
       "            color:  #000000;\n",
       "        }#T_d0936_row7_col6,#T_d0936_row7_col11,#T_d0936_row8_col6,#T_d0936_row10_col2{\n",
       "            background-color:  #a6c4fe;\n",
       "            color:  #000000;\n",
       "        }#T_d0936_row7_col10{\n",
       "            background-color:  #ead5c9;\n",
       "            color:  #000000;\n",
       "        }#T_d0936_row7_col12{\n",
       "            background-color:  #b7cff9;\n",
       "            color:  #000000;\n",
       "        }#T_d0936_row7_col13{\n",
       "            background-color:  #90b2fe;\n",
       "            color:  #000000;\n",
       "        }#T_d0936_row8_col0,#T_d0936_row10_col5{\n",
       "            background-color:  #82a6fb;\n",
       "            color:  #000000;\n",
       "        }#T_d0936_row8_col1{\n",
       "            background-color:  #6c8ff1;\n",
       "            color:  #000000;\n",
       "        }#T_d0936_row8_col13{\n",
       "            background-color:  #cdd9ec;\n",
       "            color:  #000000;\n",
       "        }#T_d0936_row9_col0{\n",
       "            background-color:  #5b7ae5;\n",
       "            color:  #000000;\n",
       "        }#T_d0936_row9_col1{\n",
       "            background-color:  #5470de;\n",
       "            color:  #000000;\n",
       "        }#T_d0936_row9_col2,#T_d0936_row10_col3,#T_d0936_row11_col0,#T_d0936_row12_col2{\n",
       "            background-color:  #6282ea;\n",
       "            color:  #000000;\n",
       "        }#T_d0936_row9_col3{\n",
       "            background-color:  #80a3fa;\n",
       "            color:  #000000;\n",
       "        }#T_d0936_row9_col5{\n",
       "            background-color:  #c4d5f3;\n",
       "            color:  #000000;\n",
       "        }#T_d0936_row9_col7,#T_d0936_row9_col8,#T_d0936_row9_col11,#T_d0936_row12_col8,#T_d0936_row12_col11{\n",
       "            background-color:  #92b4fe;\n",
       "            color:  #000000;\n",
       "        }#T_d0936_row9_col12,#T_d0936_row12_col9{\n",
       "            background-color:  #81a4fb;\n",
       "            color:  #000000;\n",
       "        }#T_d0936_row10_col4{\n",
       "            background-color:  #c7d7f0;\n",
       "            color:  #000000;\n",
       "        }#T_d0936_row10_col9,#T_d0936_row10_col12{\n",
       "            background-color:  #7295f4;\n",
       "            color:  #000000;\n",
       "        }#T_d0936_row10_col13{\n",
       "            background-color:  #89acfd;\n",
       "            color:  #000000;\n",
       "        }#T_d0936_row11_col3{\n",
       "            background-color:  #7396f5;\n",
       "            color:  #000000;\n",
       "        }#T_d0936_row11_col5{\n",
       "            background-color:  #c0d4f5;\n",
       "            color:  #000000;\n",
       "        }#T_d0936_row11_col6{\n",
       "            background-color:  #bfd3f6;\n",
       "            color:  #000000;\n",
       "        }#T_d0936_row11_col8,#T_d0936_row13_col10{\n",
       "            background-color:  #adc9fd;\n",
       "            color:  #000000;\n",
       "        }#T_d0936_row11_col13{\n",
       "            background-color:  #cfdaea;\n",
       "            color:  #000000;\n",
       "        }#T_d0936_row12_col7{\n",
       "            background-color:  #c5d6f2;\n",
       "            color:  #000000;\n",
       "        }#T_d0936_row12_col13,#T_d0936_row13_col8{\n",
       "            background-color:  #bcd2f7;\n",
       "            color:  #000000;\n",
       "        }#T_d0936_row13_col1{\n",
       "            background-color:  #e9d5cb;\n",
       "            color:  #000000;\n",
       "        }#T_d0936_row13_col4{\n",
       "            background-color:  #d1dae9;\n",
       "            color:  #000000;\n",
       "        }#T_d0936_row13_col5{\n",
       "            background-color:  #d5dbe5;\n",
       "            color:  #000000;\n",
       "        }#T_d0936_row13_col7{\n",
       "            background-color:  #779af7;\n",
       "            color:  #000000;\n",
       "        }#T_d0936_row13_col9{\n",
       "            background-color:  #93b5fe;\n",
       "            color:  #000000;\n",
       "        }</style><table id=\"T_d0936_\" ><thead>    <tr>        <th class=\"blank level0\" ></th>        <th class=\"col_heading level0 col0\" >age</th>        <th class=\"col_heading level0 col1\" >th</th>        <th class=\"col_heading level0 col2\" >2wh</th>        <th class=\"col_heading level0 col3\" >snip</th>        <th class=\"col_heading level0 col4\" >x0_cis</th>        <th class=\"col_heading level0 col5\" >x0_eu</th>        <th class=\"col_heading level0 col6\" >x0_na</th>        <th class=\"col_heading level0 col7\" >x0_o</th>        <th class=\"col_heading level0 col8\" >x0_sa</th>        <th class=\"col_heading level0 col9\" >x1_a</th>        <th class=\"col_heading level0 col10\" >x1_d</th>        <th class=\"col_heading level0 col11\" >x1_s</th>        <th class=\"col_heading level0 col12\" >x1_z</th>        <th class=\"col_heading level0 col13\" >rank</th>    </tr></thead><tbody>\n",
       "                <tr>\n",
       "                        <th id=\"T_d0936_level0_row0\" class=\"row_heading level0 row0\" >age</th>\n",
       "                        <td id=\"T_d0936_row0_col0\" class=\"data row0 col0\" >1.000000</td>\n",
       "                        <td id=\"T_d0936_row0_col1\" class=\"data row0 col1\" >0.107920</td>\n",
       "                        <td id=\"T_d0936_row0_col2\" class=\"data row0 col2\" >-0.095994</td>\n",
       "                        <td id=\"T_d0936_row0_col3\" class=\"data row0 col3\" >-0.010543</td>\n",
       "                        <td id=\"T_d0936_row0_col4\" class=\"data row0 col4\" >0.139269</td>\n",
       "                        <td id=\"T_d0936_row0_col5\" class=\"data row0 col5\" >-0.059851</td>\n",
       "                        <td id=\"T_d0936_row0_col6\" class=\"data row0 col6\" >-0.115756</td>\n",
       "                        <td id=\"T_d0936_row0_col7\" class=\"data row0 col7\" >-0.064455</td>\n",
       "                        <td id=\"T_d0936_row0_col8\" class=\"data row0 col8\" >0.132199</td>\n",
       "                        <td id=\"T_d0936_row0_col9\" class=\"data row0 col9\" >0.003190</td>\n",
       "                        <td id=\"T_d0936_row0_col10\" class=\"data row0 col10\" >-0.047860</td>\n",
       "                        <td id=\"T_d0936_row0_col11\" class=\"data row0 col11\" >0.026275</td>\n",
       "                        <td id=\"T_d0936_row0_col12\" class=\"data row0 col12\" >0.034289</td>\n",
       "                        <td id=\"T_d0936_row0_col13\" class=\"data row0 col13\" >0.277455</td>\n",
       "            </tr>\n",
       "            <tr>\n",
       "                        <th id=\"T_d0936_level0_row1\" class=\"row_heading level0 row1\" >th</th>\n",
       "                        <td id=\"T_d0936_row1_col0\" class=\"data row1 col0\" >0.107920</td>\n",
       "                        <td id=\"T_d0936_row1_col1\" class=\"data row1 col1\" >1.000000</td>\n",
       "                        <td id=\"T_d0936_row1_col2\" class=\"data row1 col2\" >-0.098236</td>\n",
       "                        <td id=\"T_d0936_row1_col3\" class=\"data row1 col3\" >0.022152</td>\n",
       "                        <td id=\"T_d0936_row1_col4\" class=\"data row1 col4\" >-0.002468</td>\n",
       "                        <td id=\"T_d0936_row1_col5\" class=\"data row1 col5\" >0.065329</td>\n",
       "                        <td id=\"T_d0936_row1_col6\" class=\"data row1 col6\" >-0.133887</td>\n",
       "                        <td id=\"T_d0936_row1_col7\" class=\"data row1 col7\" >-0.000908</td>\n",
       "                        <td id=\"T_d0936_row1_col8\" class=\"data row1 col8\" >0.016290</td>\n",
       "                        <td id=\"T_d0936_row1_col9\" class=\"data row1 col9\" >-0.072379</td>\n",
       "                        <td id=\"T_d0936_row1_col10\" class=\"data row1 col10\" >-0.170248</td>\n",
       "                        <td id=\"T_d0936_row1_col11\" class=\"data row1 col11\" >0.212291</td>\n",
       "                        <td id=\"T_d0936_row1_col12\" class=\"data row1 col12\" >-0.068369</td>\n",
       "                        <td id=\"T_d0936_row1_col13\" class=\"data row1 col13\" >0.471201</td>\n",
       "            </tr>\n",
       "            <tr>\n",
       "                        <th id=\"T_d0936_level0_row2\" class=\"row_heading level0 row2\" >2wh</th>\n",
       "                        <td id=\"T_d0936_row2_col0\" class=\"data row2 col0\" >-0.095994</td>\n",
       "                        <td id=\"T_d0936_row2_col1\" class=\"data row2 col1\" >-0.098236</td>\n",
       "                        <td id=\"T_d0936_row2_col2\" class=\"data row2 col2\" >1.000000</td>\n",
       "                        <td id=\"T_d0936_row2_col3\" class=\"data row2 col3\" >-0.062378</td>\n",
       "                        <td id=\"T_d0936_row2_col4\" class=\"data row2 col4\" >-0.039297</td>\n",
       "                        <td id=\"T_d0936_row2_col5\" class=\"data row2 col5\" >0.075592</td>\n",
       "                        <td id=\"T_d0936_row2_col6\" class=\"data row2 col6\" >-0.034127</td>\n",
       "                        <td id=\"T_d0936_row2_col7\" class=\"data row2 col7\" >-0.028506</td>\n",
       "                        <td id=\"T_d0936_row2_col8\" class=\"data row2 col8\" >-0.032840</td>\n",
       "                        <td id=\"T_d0936_row2_col9\" class=\"data row2 col9\" >-0.018670</td>\n",
       "                        <td id=\"T_d0936_row2_col10\" class=\"data row2 col10\" >0.207036</td>\n",
       "                        <td id=\"T_d0936_row2_col11\" class=\"data row2 col11\" >-0.167117</td>\n",
       "                        <td id=\"T_d0936_row2_col12\" class=\"data row2 col12\" >-0.020169</td>\n",
       "                        <td id=\"T_d0936_row2_col13\" class=\"data row2 col13\" >-0.054501</td>\n",
       "            </tr>\n",
       "            <tr>\n",
       "                        <th id=\"T_d0936_level0_row3\" class=\"row_heading level0 row3\" >snip</th>\n",
       "                        <td id=\"T_d0936_row3_col0\" class=\"data row3 col0\" >-0.010543</td>\n",
       "                        <td id=\"T_d0936_row3_col1\" class=\"data row3 col1\" >0.022152</td>\n",
       "                        <td id=\"T_d0936_row3_col2\" class=\"data row3 col2\" >-0.062378</td>\n",
       "                        <td id=\"T_d0936_row3_col3\" class=\"data row3 col3\" >1.000000</td>\n",
       "                        <td id=\"T_d0936_row3_col4\" class=\"data row3 col4\" >-0.119276</td>\n",
       "                        <td id=\"T_d0936_row3_col5\" class=\"data row3 col5\" >0.250480</td>\n",
       "                        <td id=\"T_d0936_row3_col6\" class=\"data row3 col6\" >-0.168690</td>\n",
       "                        <td id=\"T_d0936_row3_col7\" class=\"data row3 col7\" >0.008520</td>\n",
       "                        <td id=\"T_d0936_row3_col8\" class=\"data row3 col8\" >-0.168690</td>\n",
       "                        <td id=\"T_d0936_row3_col9\" class=\"data row3 col9\" >0.078505</td>\n",
       "                        <td id=\"T_d0936_row3_col10\" class=\"data row3 col10\" >-0.018145</td>\n",
       "                        <td id=\"T_d0936_row3_col11\" class=\"data row3 col11\" >0.041202</td>\n",
       "                        <td id=\"T_d0936_row3_col12\" class=\"data row3 col12\" >-0.136351</td>\n",
       "                        <td id=\"T_d0936_row3_col13\" class=\"data row3 col13\" >0.109455</td>\n",
       "            </tr>\n",
       "            <tr>\n",
       "                        <th id=\"T_d0936_level0_row4\" class=\"row_heading level0 row4\" >x0_cis</th>\n",
       "                        <td id=\"T_d0936_row4_col0\" class=\"data row4 col0\" >0.139269</td>\n",
       "                        <td id=\"T_d0936_row4_col1\" class=\"data row4 col1\" >-0.002468</td>\n",
       "                        <td id=\"T_d0936_row4_col2\" class=\"data row4 col2\" >-0.039297</td>\n",
       "                        <td id=\"T_d0936_row4_col3\" class=\"data row4 col3\" >-0.119276</td>\n",
       "                        <td id=\"T_d0936_row4_col4\" class=\"data row4 col4\" >1.000000</td>\n",
       "                        <td id=\"T_d0936_row4_col5\" class=\"data row4 col5\" >-0.500000</td>\n",
       "                        <td id=\"T_d0936_row4_col6\" class=\"data row4 col6\" >-0.071429</td>\n",
       "                        <td id=\"T_d0936_row4_col7\" class=\"data row4 col7\" >-0.071429</td>\n",
       "                        <td id=\"T_d0936_row4_col8\" class=\"data row4 col8\" >-0.071429</td>\n",
       "                        <td id=\"T_d0936_row4_col9\" class=\"data row4 col9\" >-0.057735</td>\n",
       "                        <td id=\"T_d0936_row4_col10\" class=\"data row4 col10\" >0.133816</td>\n",
       "                        <td id=\"T_d0936_row4_col11\" class=\"data row4 col11\" >-0.068836</td>\n",
       "                        <td id=\"T_d0936_row4_col12\" class=\"data row4 col12\" >-0.057735</td>\n",
       "                        <td id=\"T_d0936_row4_col13\" class=\"data row4 col13\" >0.184153</td>\n",
       "            </tr>\n",
       "            <tr>\n",
       "                        <th id=\"T_d0936_level0_row5\" class=\"row_heading level0 row5\" >x0_eu</th>\n",
       "                        <td id=\"T_d0936_row5_col0\" class=\"data row5 col0\" >-0.059851</td>\n",
       "                        <td id=\"T_d0936_row5_col1\" class=\"data row5 col1\" >0.065329</td>\n",
       "                        <td id=\"T_d0936_row5_col2\" class=\"data row5 col2\" >0.075592</td>\n",
       "                        <td id=\"T_d0936_row5_col3\" class=\"data row5 col3\" >0.250480</td>\n",
       "                        <td id=\"T_d0936_row5_col4\" class=\"data row5 col4\" >-0.500000</td>\n",
       "                        <td id=\"T_d0936_row5_col5\" class=\"data row5 col5\" >1.000000</td>\n",
       "                        <td id=\"T_d0936_row5_col6\" class=\"data row5 col6\" >-0.428571</td>\n",
       "                        <td id=\"T_d0936_row5_col7\" class=\"data row5 col7\" >-0.428571</td>\n",
       "                        <td id=\"T_d0936_row5_col8\" class=\"data row5 col8\" >-0.428571</td>\n",
       "                        <td id=\"T_d0936_row5_col9\" class=\"data row5 col9\" >0.115470</td>\n",
       "                        <td id=\"T_d0936_row5_col10\" class=\"data row5 col10\" >-0.169031</td>\n",
       "                        <td id=\"T_d0936_row5_col11\" class=\"data row5 col11\" >0.100125</td>\n",
       "                        <td id=\"T_d0936_row5_col12\" class=\"data row5 col12\" >-0.000000</td>\n",
       "                        <td id=\"T_d0936_row5_col13\" class=\"data row5 col13\" >0.207080</td>\n",
       "            </tr>\n",
       "            <tr>\n",
       "                        <th id=\"T_d0936_level0_row6\" class=\"row_heading level0 row6\" >x0_na</th>\n",
       "                        <td id=\"T_d0936_row6_col0\" class=\"data row6 col0\" >-0.115756</td>\n",
       "                        <td id=\"T_d0936_row6_col1\" class=\"data row6 col1\" >-0.133887</td>\n",
       "                        <td id=\"T_d0936_row6_col2\" class=\"data row6 col2\" >-0.034127</td>\n",
       "                        <td id=\"T_d0936_row6_col3\" class=\"data row6 col3\" >-0.168690</td>\n",
       "                        <td id=\"T_d0936_row6_col4\" class=\"data row6 col4\" >-0.071429</td>\n",
       "                        <td id=\"T_d0936_row6_col5\" class=\"data row6 col5\" >-0.428571</td>\n",
       "                        <td id=\"T_d0936_row6_col6\" class=\"data row6 col6\" >1.000000</td>\n",
       "                        <td id=\"T_d0936_row6_col7\" class=\"data row6 col7\" >-0.061224</td>\n",
       "                        <td id=\"T_d0936_row6_col8\" class=\"data row6 col8\" >-0.061224</td>\n",
       "                        <td id=\"T_d0936_row6_col9\" class=\"data row6 col9\" >-0.049487</td>\n",
       "                        <td id=\"T_d0936_row6_col10\" class=\"data row6 col10\" >-0.016098</td>\n",
       "                        <td id=\"T_d0936_row6_col11\" class=\"data row6 col11\" >0.057214</td>\n",
       "                        <td id=\"T_d0936_row6_col12\" class=\"data row6 col12\" >-0.049487</td>\n",
       "                        <td id=\"T_d0936_row6_col13\" class=\"data row6 col13\" >-0.564609</td>\n",
       "            </tr>\n",
       "            <tr>\n",
       "                        <th id=\"T_d0936_level0_row7\" class=\"row_heading level0 row7\" >x0_o</th>\n",
       "                        <td id=\"T_d0936_row7_col0\" class=\"data row7 col0\" >-0.064455</td>\n",
       "                        <td id=\"T_d0936_row7_col1\" class=\"data row7 col1\" >-0.000908</td>\n",
       "                        <td id=\"T_d0936_row7_col2\" class=\"data row7 col2\" >-0.028506</td>\n",
       "                        <td id=\"T_d0936_row7_col3\" class=\"data row7 col3\" >0.008520</td>\n",
       "                        <td id=\"T_d0936_row7_col4\" class=\"data row7 col4\" >-0.071429</td>\n",
       "                        <td id=\"T_d0936_row7_col5\" class=\"data row7 col5\" >-0.428571</td>\n",
       "                        <td id=\"T_d0936_row7_col6\" class=\"data row7 col6\" >-0.061224</td>\n",
       "                        <td id=\"T_d0936_row7_col7\" class=\"data row7 col7\" >1.000000</td>\n",
       "                        <td id=\"T_d0936_row7_col8\" class=\"data row7 col8\" >-0.061224</td>\n",
       "                        <td id=\"T_d0936_row7_col9\" class=\"data row7 col9\" >-0.049487</td>\n",
       "                        <td id=\"T_d0936_row7_col10\" class=\"data row7 col10\" >0.193178</td>\n",
       "                        <td id=\"T_d0936_row7_col11\" class=\"data row7 col11\" >-0.221706</td>\n",
       "                        <td id=\"T_d0936_row7_col12\" class=\"data row7 col12\" >0.164957</td>\n",
       "                        <td id=\"T_d0936_row7_col13\" class=\"data row7 col13\" >-0.158057</td>\n",
       "            </tr>\n",
       "            <tr>\n",
       "                        <th id=\"T_d0936_level0_row8\" class=\"row_heading level0 row8\" >x0_sa</th>\n",
       "                        <td id=\"T_d0936_row8_col0\" class=\"data row8 col0\" >0.132199</td>\n",
       "                        <td id=\"T_d0936_row8_col1\" class=\"data row8 col1\" >0.016290</td>\n",
       "                        <td id=\"T_d0936_row8_col2\" class=\"data row8 col2\" >-0.032840</td>\n",
       "                        <td id=\"T_d0936_row8_col3\" class=\"data row8 col3\" >-0.168690</td>\n",
       "                        <td id=\"T_d0936_row8_col4\" class=\"data row8 col4\" >-0.071429</td>\n",
       "                        <td id=\"T_d0936_row8_col5\" class=\"data row8 col5\" >-0.428571</td>\n",
       "                        <td id=\"T_d0936_row8_col6\" class=\"data row8 col6\" >-0.061224</td>\n",
       "                        <td id=\"T_d0936_row8_col7\" class=\"data row8 col7\" >-0.061224</td>\n",
       "                        <td id=\"T_d0936_row8_col8\" class=\"data row8 col8\" >1.000000</td>\n",
       "                        <td id=\"T_d0936_row8_col9\" class=\"data row8 col9\" >-0.049487</td>\n",
       "                        <td id=\"T_d0936_row8_col10\" class=\"data row8 col10\" >-0.016098</td>\n",
       "                        <td id=\"T_d0936_row8_col11\" class=\"data row8 col11\" >0.057214</td>\n",
       "                        <td id=\"T_d0936_row8_col12\" class=\"data row8 col12\" >-0.049487</td>\n",
       "                        <td id=\"T_d0936_row8_col13\" class=\"data row8 col13\" >0.127629</td>\n",
       "            </tr>\n",
       "            <tr>\n",
       "                        <th id=\"T_d0936_level0_row9\" class=\"row_heading level0 row9\" >x1_a</th>\n",
       "                        <td id=\"T_d0936_row9_col0\" class=\"data row9 col0\" >0.003190</td>\n",
       "                        <td id=\"T_d0936_row9_col1\" class=\"data row9 col1\" >-0.072379</td>\n",
       "                        <td id=\"T_d0936_row9_col2\" class=\"data row9 col2\" >-0.018670</td>\n",
       "                        <td id=\"T_d0936_row9_col3\" class=\"data row9 col3\" >0.078505</td>\n",
       "                        <td id=\"T_d0936_row9_col4\" class=\"data row9 col4\" >-0.057735</td>\n",
       "                        <td id=\"T_d0936_row9_col5\" class=\"data row9 col5\" >0.115470</td>\n",
       "                        <td id=\"T_d0936_row9_col6\" class=\"data row9 col6\" >-0.049487</td>\n",
       "                        <td id=\"T_d0936_row9_col7\" class=\"data row9 col7\" >-0.049487</td>\n",
       "                        <td id=\"T_d0936_row9_col8\" class=\"data row9 col8\" >-0.049487</td>\n",
       "                        <td id=\"T_d0936_row9_col9\" class=\"data row9 col9\" >1.000000</td>\n",
       "                        <td id=\"T_d0936_row9_col10\" class=\"data row9 col10\" >-0.097590</td>\n",
       "                        <td id=\"T_d0936_row9_col11\" class=\"data row9 col11\" >-0.329502</td>\n",
       "                        <td id=\"T_d0936_row9_col12\" class=\"data row9 col12\" >-0.040000</td>\n",
       "                        <td id=\"T_d0936_row9_col13\" class=\"data row9 col13\" >0.027669</td>\n",
       "            </tr>\n",
       "            <tr>\n",
       "                        <th id=\"T_d0936_level0_row10\" class=\"row_heading level0 row10\" >x1_d</th>\n",
       "                        <td id=\"T_d0936_row10_col0\" class=\"data row10 col0\" >-0.047860</td>\n",
       "                        <td id=\"T_d0936_row10_col1\" class=\"data row10 col1\" >-0.170248</td>\n",
       "                        <td id=\"T_d0936_row10_col2\" class=\"data row10 col2\" >0.207036</td>\n",
       "                        <td id=\"T_d0936_row10_col3\" class=\"data row10 col3\" >-0.018145</td>\n",
       "                        <td id=\"T_d0936_row10_col4\" class=\"data row10 col4\" >0.133816</td>\n",
       "                        <td id=\"T_d0936_row10_col5\" class=\"data row10 col5\" >-0.169031</td>\n",
       "                        <td id=\"T_d0936_row10_col6\" class=\"data row10 col6\" >-0.016098</td>\n",
       "                        <td id=\"T_d0936_row10_col7\" class=\"data row10 col7\" >0.193178</td>\n",
       "                        <td id=\"T_d0936_row10_col8\" class=\"data row10 col8\" >-0.016098</td>\n",
       "                        <td id=\"T_d0936_row10_col9\" class=\"data row10 col9\" >-0.097590</td>\n",
       "                        <td id=\"T_d0936_row10_col10\" class=\"data row10 col10\" >1.000000</td>\n",
       "                        <td id=\"T_d0936_row10_col11\" class=\"data row10 col11\" >-0.803902</td>\n",
       "                        <td id=\"T_d0936_row10_col12\" class=\"data row10 col12\" >-0.097590</td>\n",
       "                        <td id=\"T_d0936_row10_col13\" class=\"data row10 col13\" >-0.189265</td>\n",
       "            </tr>\n",
       "            <tr>\n",
       "                        <th id=\"T_d0936_level0_row11\" class=\"row_heading level0 row11\" >x1_s</th>\n",
       "                        <td id=\"T_d0936_row11_col0\" class=\"data row11 col0\" >0.026275</td>\n",
       "                        <td id=\"T_d0936_row11_col1\" class=\"data row11 col1\" >0.212291</td>\n",
       "                        <td id=\"T_d0936_row11_col2\" class=\"data row11 col2\" >-0.167117</td>\n",
       "                        <td id=\"T_d0936_row11_col3\" class=\"data row11 col3\" >0.041202</td>\n",
       "                        <td id=\"T_d0936_row11_col4\" class=\"data row11 col4\" >-0.068836</td>\n",
       "                        <td id=\"T_d0936_row11_col5\" class=\"data row11 col5\" >0.100125</td>\n",
       "                        <td id=\"T_d0936_row11_col6\" class=\"data row11 col6\" >0.057214</td>\n",
       "                        <td id=\"T_d0936_row11_col7\" class=\"data row11 col7\" >-0.221706</td>\n",
       "                        <td id=\"T_d0936_row11_col8\" class=\"data row11 col8\" >0.057214</td>\n",
       "                        <td id=\"T_d0936_row11_col9\" class=\"data row11 col9\" >-0.329502</td>\n",
       "                        <td id=\"T_d0936_row11_col10\" class=\"data row11 col10\" >-0.803902</td>\n",
       "                        <td id=\"T_d0936_row11_col11\" class=\"data row11 col11\" >1.000000</td>\n",
       "                        <td id=\"T_d0936_row11_col12\" class=\"data row11 col12\" >-0.329502</td>\n",
       "                        <td id=\"T_d0936_row11_col13\" class=\"data row11 col13\" >0.138399</td>\n",
       "            </tr>\n",
       "            <tr>\n",
       "                        <th id=\"T_d0936_level0_row12\" class=\"row_heading level0 row12\" >x1_z</th>\n",
       "                        <td id=\"T_d0936_row12_col0\" class=\"data row12 col0\" >0.034289</td>\n",
       "                        <td id=\"T_d0936_row12_col1\" class=\"data row12 col1\" >-0.068369</td>\n",
       "                        <td id=\"T_d0936_row12_col2\" class=\"data row12 col2\" >-0.020169</td>\n",
       "                        <td id=\"T_d0936_row12_col3\" class=\"data row12 col3\" >-0.136351</td>\n",
       "                        <td id=\"T_d0936_row12_col4\" class=\"data row12 col4\" >-0.057735</td>\n",
       "                        <td id=\"T_d0936_row12_col5\" class=\"data row12 col5\" >-0.000000</td>\n",
       "                        <td id=\"T_d0936_row12_col6\" class=\"data row12 col6\" >-0.049487</td>\n",
       "                        <td id=\"T_d0936_row12_col7\" class=\"data row12 col7\" >0.164957</td>\n",
       "                        <td id=\"T_d0936_row12_col8\" class=\"data row12 col8\" >-0.049487</td>\n",
       "                        <td id=\"T_d0936_row12_col9\" class=\"data row12 col9\" >-0.040000</td>\n",
       "                        <td id=\"T_d0936_row12_col10\" class=\"data row12 col10\" >-0.097590</td>\n",
       "                        <td id=\"T_d0936_row12_col11\" class=\"data row12 col11\" >-0.329502</td>\n",
       "                        <td id=\"T_d0936_row12_col12\" class=\"data row12 col12\" >1.000000</td>\n",
       "                        <td id=\"T_d0936_row12_col13\" class=\"data row12 col13\" >0.040991</td>\n",
       "            </tr>\n",
       "            <tr>\n",
       "                        <th id=\"T_d0936_level0_row13\" class=\"row_heading level0 row13\" >rank</th>\n",
       "                        <td id=\"T_d0936_row13_col0\" class=\"data row13 col0\" >0.277455</td>\n",
       "                        <td id=\"T_d0936_row13_col1\" class=\"data row13 col1\" >0.471201</td>\n",
       "                        <td id=\"T_d0936_row13_col2\" class=\"data row13 col2\" >-0.054501</td>\n",
       "                        <td id=\"T_d0936_row13_col3\" class=\"data row13 col3\" >0.109455</td>\n",
       "                        <td id=\"T_d0936_row13_col4\" class=\"data row13 col4\" >0.184153</td>\n",
       "                        <td id=\"T_d0936_row13_col5\" class=\"data row13 col5\" >0.207080</td>\n",
       "                        <td id=\"T_d0936_row13_col6\" class=\"data row13 col6\" >-0.564609</td>\n",
       "                        <td id=\"T_d0936_row13_col7\" class=\"data row13 col7\" >-0.158057</td>\n",
       "                        <td id=\"T_d0936_row13_col8\" class=\"data row13 col8\" >0.127629</td>\n",
       "                        <td id=\"T_d0936_row13_col9\" class=\"data row13 col9\" >0.027669</td>\n",
       "                        <td id=\"T_d0936_row13_col10\" class=\"data row13 col10\" >-0.189265</td>\n",
       "                        <td id=\"T_d0936_row13_col11\" class=\"data row13 col11\" >0.138399</td>\n",
       "                        <td id=\"T_d0936_row13_col12\" class=\"data row13 col12\" >0.040991</td>\n",
       "                        <td id=\"T_d0936_row13_col13\" class=\"data row13 col13\" >1.000000</td>\n",
       "            </tr>\n",
       "    </tbody></table>"
      ],
      "text/plain": [
       "<pandas.io.formats.style.Styler at 0x2073d569d00>"
      ]
     },
     "execution_count": 79,
     "metadata": {},
     "output_type": "execute_result"
    }
   ],
   "source": [
    "corr = X_train1.join(y).corr()\n",
    "corr.style.background_gradient(cmap='coolwarm')"
   ]
  },
  {
   "cell_type": "markdown",
   "id": "427fd4ab",
   "metadata": {},
   "source": [
    "#### Ranks distribution"
   ]
  },
  {
   "cell_type": "code",
   "execution_count": 80,
   "id": "fa4ac975",
   "metadata": {},
   "outputs": [
    {
     "data": {
      "image/png": "[encoded data removed]",
      "text/plain": [
       "<Figure size 432x288 with 1 Axes>"
      ]
     },
     "metadata": {
      "needs_background": "light"
     },
     "output_type": "display_data"
    }
   ],
   "source": [
    "ax = y.hist(bins=18);\n",
    "for p in ax.patches:\n",
    "    ax.annotate(str(int(p.get_height())), (p.get_x() + 0.15, p.get_height() * 1.005))"
   ]
  },
  {
   "cell_type": "markdown",
   "id": "11e83930",
   "metadata": {},
   "source": [
    "#### Age distribution"
   ]
  },
  {
   "cell_type": "code",
   "execution_count": 81,
   "id": "c7c2b924",
   "metadata": {},
   "outputs": [
    {
     "data": {
      "image/png": "[encoded data removed]",
      "text/plain": [
       "<Figure size 432x288 with 1 Axes>"
      ]
     },
     "metadata": {
      "needs_background": "light"
     },
     "output_type": "display_data"
    }
   ],
   "source": [
    "ax = df1['age'].hist(bins=26, range=(14,39))\n",
    "for p in ax.patches:\n",
    "    ax.annotate(str(int(p.get_height())), (p.get_x() + 0.15, p.get_height() * 1.005))"
   ]
  },
  {
   "cell_type": "markdown",
   "id": "ee6d2950",
   "metadata": {},
   "source": [
    "#### Goat distribution"
   ]
  },
  {
   "cell_type": "code",
   "execution_count": 82,
   "id": "196ccbfa",
   "metadata": {},
   "outputs": [
    {
     "data": {
      "image/png": "[encoded data removed]",
      "text/plain": [
       "<Figure size 432x288 with 1 Axes>"
      ]
     },
     "metadata": {
      "needs_background": "light"
     },
     "output_type": "display_data"
    }
   ],
   "source": [
    "ax = df1['goat'].value_counts().plot(kind='bar', rot=0)\n",
    "for p in ax.patches:\n",
    "    ax.annotate(str(p.get_height()), (p.get_x() + 0.15, p.get_height() * 1.005))"
   ]
  },
  {
   "cell_type": "markdown",
   "id": "df608ab6",
   "metadata": {},
   "source": [
    "#### Region distribution"
   ]
  },
  {
   "cell_type": "code",
   "execution_count": 83,
   "id": "3dac5c87",
   "metadata": {},
   "outputs": [
    {
     "data": {
      "image/png": "[encoded data removed]",
      "text/plain": [
       "<Figure size 432x288 with 1 Axes>"
      ]
     },
     "metadata": {
      "needs_background": "light"
     },
     "output_type": "display_data"
    }
   ],
   "source": [
    "ax = df1['reg'].value_counts().plot(kind='bar', rot=0)\n",
    "for p in ax.patches:\n",
    "    ax.annotate(str(p.get_height()), (p.get_x() + 0.15, p.get_height() * 1.005))"
   ]
  },
  {
   "cell_type": "markdown",
   "id": "ed59c35a",
   "metadata": {},
   "source": [
    "#### Total Hours/Age plot"
   ]
  },
  {
   "cell_type": "code",
   "execution_count": 84,
   "id": "b695ce2a",
   "metadata": {},
   "outputs": [
    {
     "data": {
      "image/png": "[encoded data removed]",
      "text/plain": [
       "<Figure size 640x400 with 1 Axes>"
      ]
     },
     "metadata": {
      "needs_background": "light"
     },
     "output_type": "display_data"
    }
   ],
   "source": [
    "from sklearn.preprocessing import LabelEncoder\n",
    "le = LabelEncoder()\n",
    "plt.figure(figsize=(8, 5), dpi=80)\n",
    "plt.scatter(df1['age'], df1['th'], s=10, c=le.fit_transform(df1['reg']));\n",
    "plt.xlabel(\"age\")\n",
    "plt.ylabel(\"th\");"
   ]
  },
  {
   "cell_type": "markdown",
   "id": "47b34a77",
   "metadata": {},
   "source": [
    "#### Rank/age plot"
   ]
  },
  {
   "cell_type": "code",
   "execution_count": 85,
   "id": "5cef2c9a",
   "metadata": {},
   "outputs": [
    {
     "data": {
      "image/png": "[encoded data removed]",
      "text/plain": [
       "<Figure size 640x400 with 1 Axes>"
      ]
     },
     "metadata": {
      "needs_background": "light"
     },
     "output_type": "display_data"
    }
   ],
   "source": [
    "le = LabelEncoder()\n",
    "plt.figure(figsize=(8, 5), dpi=80)\n",
    "plt.scatter(df1['age'], df1['rank'], s=10, c=le.fit_transform(df1['reg']));\n",
    "plt.xlabel(\"age\")\n",
    "plt.ylabel(\"rank\");"
   ]
  },
  {
   "cell_type": "markdown",
   "id": "c55dc18d",
   "metadata": {},
   "source": [
    "#### Rank/total hours plot"
   ]
  },
  {
   "cell_type": "code",
   "execution_count": 86,
   "id": "4cff85ce",
   "metadata": {},
   "outputs": [
    {
     "data": {
      "image/png": "[encoded data removed]",
      "text/plain": [
       "<Figure size 640x400 with 1 Axes>"
      ]
     },
     "metadata": {
      "needs_background": "light"
     },
     "output_type": "display_data"
    }
   ],
   "source": [
    "le = LabelEncoder()\n",
    "plt.figure(figsize=(8, 5), dpi=80)\n",
    "plt.scatter(df1['th'], df1['rank'], s=10, c=le.fit_transform(df1['reg']));\n",
    "plt.xlabel(\"th\")\n",
    "plt.ylabel(\"rank\");"
   ]
  },
  {
   "cell_type": "markdown",
   "id": "47dcf5ba",
   "metadata": {},
   "source": [
    "#### ML models stuff"
   ]
  },
  {
   "cell_type": "code",
   "execution_count": 87,
   "id": "dd5b4f26",
   "metadata": {},
   "outputs": [],
   "source": [
    "from sklearn.linear_model import LinearRegression\n",
    "lin1 = LinearRegression()"
   ]
  },
  {
   "cell_type": "code",
   "execution_count": 88,
   "id": "61a44819",
   "metadata": {},
   "outputs": [
    {
     "data": {
      "text/plain": [
       "LinearRegression()"
      ]
     },
     "execution_count": 88,
     "metadata": {},
     "output_type": "execute_result"
    }
   ],
   "source": [
    "lin1.fit(X_train1, y)"
   ]
  },
  {
   "cell_type": "code",
   "execution_count": 89,
   "id": "472f892b",
   "metadata": {},
   "outputs": [],
   "source": [
    "pr1 = lin1.predict(X_train1)"
   ]
  },
  {
   "cell_type": "code",
   "execution_count": 90,
   "id": "8ed280ab",
   "metadata": {},
   "outputs": [
    {
     "data": {
      "text/plain": [
       "0.5800030543319246"
      ]
     },
     "execution_count": 90,
     "metadata": {},
     "output_type": "execute_result"
    }
   ],
   "source": [
    "from sklearn.metrics import r2_score\n",
    "r2_score(y, pr1)"
   ]
  },
  {
   "cell_type": "code",
   "execution_count": 91,
   "id": "04c10e5a",
   "metadata": {},
   "outputs": [
    {
     "data": {
      "text/plain": [
       "array([ 0.10231148,  0.00076377,  0.00014053,  0.52344202,  3.49786145,\n",
       "        1.2881211 , -6.3781238 , -1.16797818,  2.76011943,  0.24438534,\n",
       "       -1.26556782, -0.2439214 ,  1.26510387])"
      ]
     },
     "execution_count": 91,
     "metadata": {},
     "output_type": "execute_result"
    }
   ],
   "source": [
    "lin1.coef_"
   ]
  },
  {
   "cell_type": "code",
   "execution_count": 92,
   "id": "8423a6bd",
   "metadata": {},
   "outputs": [],
   "source": [
    "from sklearn.ensemble import RandomForestRegressor"
   ]
  },
  {
   "cell_type": "code",
   "execution_count": 93,
   "id": "bfb322bc",
   "metadata": {},
   "outputs": [],
   "source": [
    "rfr = RandomForestRegressor()"
   ]
  },
  {
   "cell_type": "code",
   "execution_count": 94,
   "id": "738ee8b0",
   "metadata": {},
   "outputs": [
    {
     "data": {
      "text/plain": [
       "RandomForestRegressor()"
      ]
     },
     "execution_count": 94,
     "metadata": {},
     "output_type": "execute_result"
    }
   ],
   "source": [
    "rfr.fit(X_train1, y)"
   ]
  },
  {
   "cell_type": "code",
   "execution_count": 95,
   "id": "9c516790",
   "metadata": {},
   "outputs": [],
   "source": [
    "pr2 = rfr.predict(X_train1)"
   ]
  },
  {
   "cell_type": "code",
   "execution_count": 96,
   "id": "8e3b54a1",
   "metadata": {},
   "outputs": [],
   "source": [
    "test1 = pd.read_csv(\"mm_ranks2.csv\", sep=\";\")"
   ]
  },
  {
   "cell_type": "code",
   "execution_count": 97,
   "id": "099a424a",
   "metadata": {},
   "outputs": [
    {
     "data": {
      "text/html": [
       "<div>\n",
       "<style scoped>\n",
       "    .dataframe tbody tr th:only-of-type {\n",
       "        vertical-align: middle;\n",
       "    }\n",
       "\n",
       "    .dataframe tbody tr th {\n",
       "        vertical-align: top;\n",
       "    }\n",
       "\n",
       "    .dataframe thead th {\n",
       "        text-align: right;\n",
       "    }\n",
       "</style>\n",
       "<table border=\"1\" class=\"dataframe\">\n",
       "  <thead>\n",
       "    <tr style=\"text-align: right;\">\n",
       "      <th></th>\n",
       "      <th>name</th>\n",
       "      <th>age</th>\n",
       "      <th>th</th>\n",
       "      <th>2wh</th>\n",
       "      <th>reg</th>\n",
       "      <th>snip</th>\n",
       "      <th>goat</th>\n",
       "      <th>rank</th>\n",
       "    </tr>\n",
       "  </thead>\n",
       "  <tbody>\n",
       "    <tr>\n",
       "      <th>0</th>\n",
       "      <td>desu</td>\n",
       "      <td>22</td>\n",
       "      <td>2000</td>\n",
       "      <td>15.0</td>\n",
       "      <td>sa</td>\n",
       "      <td>0</td>\n",
       "      <td>s</td>\n",
       "      <td>NaN</td>\n",
       "    </tr>\n",
       "    <tr>\n",
       "      <th>1</th>\n",
       "      <td>scanix</td>\n",
       "      <td>19</td>\n",
       "      <td>1500</td>\n",
       "      <td>0.0</td>\n",
       "      <td>eu</td>\n",
       "      <td>0</td>\n",
       "      <td>s</td>\n",
       "      <td>NaN</td>\n",
       "    </tr>\n",
       "    <tr>\n",
       "      <th>2</th>\n",
       "      <td>zezzy</td>\n",
       "      <td>16</td>\n",
       "      <td>1700</td>\n",
       "      <td>110.0</td>\n",
       "      <td>eu</td>\n",
       "      <td>0</td>\n",
       "      <td>a</td>\n",
       "      <td>NaN</td>\n",
       "    </tr>\n",
       "    <tr>\n",
       "      <th>3</th>\n",
       "      <td>calva</td>\n",
       "      <td>16</td>\n",
       "      <td>1123</td>\n",
       "      <td>32.0</td>\n",
       "      <td>eu</td>\n",
       "      <td>1</td>\n",
       "      <td>s</td>\n",
       "      <td>NaN</td>\n",
       "    </tr>\n",
       "    <tr>\n",
       "      <th>4</th>\n",
       "      <td>hyper_haze</td>\n",
       "      <td>18</td>\n",
       "      <td>1183</td>\n",
       "      <td>20.0</td>\n",
       "      <td>eu</td>\n",
       "      <td>0</td>\n",
       "      <td>s</td>\n",
       "      <td>NaN</td>\n",
       "    </tr>\n",
       "    <tr>\n",
       "      <th>...</th>\n",
       "      <td>...</td>\n",
       "      <td>...</td>\n",
       "      <td>...</td>\n",
       "      <td>...</td>\n",
       "      <td>...</td>\n",
       "      <td>...</td>\n",
       "      <td>...</td>\n",
       "      <td>...</td>\n",
       "    </tr>\n",
       "    <tr>\n",
       "      <th>143</th>\n",
       "      <td>BoDaddy</td>\n",
       "      <td>25</td>\n",
       "      <td>2732</td>\n",
       "      <td>23.4</td>\n",
       "      <td>na</td>\n",
       "      <td>0</td>\n",
       "      <td>s</td>\n",
       "      <td>NaN</td>\n",
       "    </tr>\n",
       "    <tr>\n",
       "      <th>144</th>\n",
       "      <td>Azusa</td>\n",
       "      <td>18</td>\n",
       "      <td>4629</td>\n",
       "      <td>46.1</td>\n",
       "      <td>o</td>\n",
       "      <td>1</td>\n",
       "      <td>d</td>\n",
       "      <td>NaN</td>\n",
       "    </tr>\n",
       "    <tr>\n",
       "      <th>145</th>\n",
       "      <td>Alekira</td>\n",
       "      <td>23</td>\n",
       "      <td>10216</td>\n",
       "      <td>29.6</td>\n",
       "      <td>o</td>\n",
       "      <td>0</td>\n",
       "      <td>d</td>\n",
       "      <td>NaN</td>\n",
       "    </tr>\n",
       "    <tr>\n",
       "      <th>146</th>\n",
       "      <td>ThatGuyBill</td>\n",
       "      <td>18</td>\n",
       "      <td>5600</td>\n",
       "      <td>75.0</td>\n",
       "      <td>o</td>\n",
       "      <td>0</td>\n",
       "      <td>s</td>\n",
       "      <td>NaN</td>\n",
       "    </tr>\n",
       "    <tr>\n",
       "      <th>147</th>\n",
       "      <td>Disolligawedere</td>\n",
       "      <td>16</td>\n",
       "      <td>900</td>\n",
       "      <td>20.0</td>\n",
       "      <td>eu</td>\n",
       "      <td>1</td>\n",
       "      <td>d</td>\n",
       "      <td>NaN</td>\n",
       "    </tr>\n",
       "  </tbody>\n",
       "</table>\n",
       "<p>148 rows × 8 columns</p>\n",
       "</div>"
      ],
      "text/plain": [
       "                name  age     th    2wh reg  snip goat  rank\n",
       "0               desu   22   2000   15.0  sa     0    s   NaN\n",
       "1             scanix   19   1500    0.0  eu     0    s   NaN\n",
       "2              zezzy   16   1700  110.0  eu     0    a   NaN\n",
       "3              calva   16   1123   32.0  eu     1    s   NaN\n",
       "4         hyper_haze   18   1183   20.0  eu     0    s   NaN\n",
       "..               ...  ...    ...    ...  ..   ...  ...   ...\n",
       "143          BoDaddy   25   2732   23.4  na     0    s   NaN\n",
       "144            Azusa   18   4629   46.1   o     1    d   NaN\n",
       "145          Alekira   23  10216   29.6   o     0    d   NaN\n",
       "146      ThatGuyBill   18   5600   75.0   o     0    s   NaN\n",
       "147  Disolligawedere   16    900   20.0  eu     1    d   NaN\n",
       "\n",
       "[148 rows x 8 columns]"
      ]
     },
     "execution_count": 97,
     "metadata": {},
     "output_type": "execute_result"
    }
   ],
   "source": [
    "test1"
   ]
  },
  {
   "cell_type": "code",
   "execution_count": 98,
   "id": "645cb7e9",
   "metadata": {},
   "outputs": [],
   "source": [
    "test1_num = test1[['age', 'th', '2wh', 'snip']]\n",
    "test1_cat = test1[['reg', 'goat']]"
   ]
  },
  {
   "cell_type": "code",
   "execution_count": 99,
   "id": "50c93f8f",
   "metadata": {},
   "outputs": [],
   "source": [
    "test1_cat2 = ohe.transform(test1_cat)"
   ]
  },
  {
   "cell_type": "code",
   "execution_count": 100,
   "id": "0006dc75",
   "metadata": {},
   "outputs": [],
   "source": [
    "test1_cat2 = pd.DataFrame(test1_cat2, columns=ohe.get_feature_names())"
   ]
  },
  {
   "cell_type": "code",
   "execution_count": 101,
   "id": "53f5af8b",
   "metadata": {},
   "outputs": [],
   "source": [
    "X_test1 = test1_num.join(test1_cat2)"
   ]
  },
  {
   "cell_type": "code",
   "execution_count": 102,
   "id": "ad2c1bb5",
   "metadata": {},
   "outputs": [],
   "source": [
    "X_test1_sc = sc.transform(X_test1)"
   ]
  },
  {
   "cell_type": "code",
   "execution_count": 103,
   "id": "81229052",
   "metadata": {},
   "outputs": [
    {
     "data": {
      "text/html": [
       "<div>\n",
       "<style scoped>\n",
       "    .dataframe tbody tr th:only-of-type {\n",
       "        vertical-align: middle;\n",
       "    }\n",
       "\n",
       "    .dataframe tbody tr th {\n",
       "        vertical-align: top;\n",
       "    }\n",
       "\n",
       "    .dataframe thead th {\n",
       "        text-align: right;\n",
       "    }\n",
       "</style>\n",
       "<table border=\"1\" class=\"dataframe\">\n",
       "  <thead>\n",
       "    <tr style=\"text-align: right;\">\n",
       "      <th></th>\n",
       "      <th>age</th>\n",
       "      <th>th</th>\n",
       "      <th>2wh</th>\n",
       "      <th>snip</th>\n",
       "      <th>x0_cis</th>\n",
       "      <th>x0_eu</th>\n",
       "      <th>x0_na</th>\n",
       "      <th>x0_o</th>\n",
       "      <th>x0_sa</th>\n",
       "      <th>x1_a</th>\n",
       "      <th>x1_d</th>\n",
       "      <th>x1_s</th>\n",
       "      <th>x1_z</th>\n",
       "    </tr>\n",
       "  </thead>\n",
       "  <tbody>\n",
       "    <tr>\n",
       "      <th>0</th>\n",
       "      <td>21</td>\n",
       "      <td>3000</td>\n",
       "      <td>30.0</td>\n",
       "      <td>1</td>\n",
       "      <td>0.0</td>\n",
       "      <td>1.0</td>\n",
       "      <td>0.0</td>\n",
       "      <td>0.0</td>\n",
       "      <td>0.0</td>\n",
       "      <td>1.0</td>\n",
       "      <td>0.0</td>\n",
       "      <td>0.0</td>\n",
       "      <td>0.0</td>\n",
       "    </tr>\n",
       "    <tr>\n",
       "      <th>1</th>\n",
       "      <td>17</td>\n",
       "      <td>800</td>\n",
       "      <td>14.0</td>\n",
       "      <td>0</td>\n",
       "      <td>0.0</td>\n",
       "      <td>1.0</td>\n",
       "      <td>0.0</td>\n",
       "      <td>0.0</td>\n",
       "      <td>0.0</td>\n",
       "      <td>0.0</td>\n",
       "      <td>0.0</td>\n",
       "      <td>1.0</td>\n",
       "      <td>0.0</td>\n",
       "    </tr>\n",
       "    <tr>\n",
       "      <th>2</th>\n",
       "      <td>17</td>\n",
       "      <td>2500</td>\n",
       "      <td>0.0</td>\n",
       "      <td>0</td>\n",
       "      <td>1.0</td>\n",
       "      <td>0.0</td>\n",
       "      <td>0.0</td>\n",
       "      <td>0.0</td>\n",
       "      <td>0.0</td>\n",
       "      <td>0.0</td>\n",
       "      <td>0.0</td>\n",
       "      <td>1.0</td>\n",
       "      <td>0.0</td>\n",
       "    </tr>\n",
       "    <tr>\n",
       "      <th>3</th>\n",
       "      <td>24</td>\n",
       "      <td>5500</td>\n",
       "      <td>10.0</td>\n",
       "      <td>1</td>\n",
       "      <td>0.0</td>\n",
       "      <td>1.0</td>\n",
       "      <td>0.0</td>\n",
       "      <td>0.0</td>\n",
       "      <td>0.0</td>\n",
       "      <td>0.0</td>\n",
       "      <td>0.0</td>\n",
       "      <td>1.0</td>\n",
       "      <td>0.0</td>\n",
       "    </tr>\n",
       "    <tr>\n",
       "      <th>4</th>\n",
       "      <td>24</td>\n",
       "      <td>6969</td>\n",
       "      <td>24.0</td>\n",
       "      <td>0</td>\n",
       "      <td>0.0</td>\n",
       "      <td>1.0</td>\n",
       "      <td>0.0</td>\n",
       "      <td>0.0</td>\n",
       "      <td>0.0</td>\n",
       "      <td>0.0</td>\n",
       "      <td>0.0</td>\n",
       "      <td>1.0</td>\n",
       "      <td>0.0</td>\n",
       "    </tr>\n",
       "  </tbody>\n",
       "</table>\n",
       "</div>"
      ],
      "text/plain": [
       "   age    th   2wh  snip  x0_cis  x0_eu  x0_na  x0_o  x0_sa  x1_a  x1_d  x1_s  \\\n",
       "0   21  3000  30.0     1     0.0    1.0    0.0   0.0    0.0   1.0   0.0   0.0   \n",
       "1   17   800  14.0     0     0.0    1.0    0.0   0.0    0.0   0.0   0.0   1.0   \n",
       "2   17  2500   0.0     0     1.0    0.0    0.0   0.0    0.0   0.0   0.0   1.0   \n",
       "3   24  5500  10.0     1     0.0    1.0    0.0   0.0    0.0   0.0   0.0   1.0   \n",
       "4   24  6969  24.0     0     0.0    1.0    0.0   0.0    0.0   0.0   0.0   1.0   \n",
       "\n",
       "   x1_z  \n",
       "0   0.0  \n",
       "1   0.0  \n",
       "2   0.0  \n",
       "3   0.0  \n",
       "4   0.0  "
      ]
     },
     "execution_count": 103,
     "metadata": {},
     "output_type": "execute_result"
    }
   ],
   "source": [
    "X_train1.head()"
   ]
  },
  {
   "cell_type": "code",
   "execution_count": 104,
   "id": "01243a97",
   "metadata": {},
   "outputs": [
    {
     "data": {
      "text/html": [
       "<div>\n",
       "<style scoped>\n",
       "    .dataframe tbody tr th:only-of-type {\n",
       "        vertical-align: middle;\n",
       "    }\n",
       "\n",
       "    .dataframe tbody tr th {\n",
       "        vertical-align: top;\n",
       "    }\n",
       "\n",
       "    .dataframe thead th {\n",
       "        text-align: right;\n",
       "    }\n",
       "</style>\n",
       "<table border=\"1\" class=\"dataframe\">\n",
       "  <thead>\n",
       "    <tr style=\"text-align: right;\">\n",
       "      <th></th>\n",
       "      <th>age</th>\n",
       "      <th>th</th>\n",
       "      <th>2wh</th>\n",
       "      <th>snip</th>\n",
       "      <th>x0_cis</th>\n",
       "      <th>x0_eu</th>\n",
       "      <th>x0_na</th>\n",
       "      <th>x0_o</th>\n",
       "      <th>x0_sa</th>\n",
       "      <th>x1_a</th>\n",
       "      <th>x1_d</th>\n",
       "      <th>x1_s</th>\n",
       "      <th>x1_z</th>\n",
       "    </tr>\n",
       "  </thead>\n",
       "  <tbody>\n",
       "    <tr>\n",
       "      <th>0</th>\n",
       "      <td>22</td>\n",
       "      <td>2000</td>\n",
       "      <td>15.0</td>\n",
       "      <td>0</td>\n",
       "      <td>0.0</td>\n",
       "      <td>0.0</td>\n",
       "      <td>0.0</td>\n",
       "      <td>0.0</td>\n",
       "      <td>1.0</td>\n",
       "      <td>0.0</td>\n",
       "      <td>0.0</td>\n",
       "      <td>1.0</td>\n",
       "      <td>0.0</td>\n",
       "    </tr>\n",
       "    <tr>\n",
       "      <th>1</th>\n",
       "      <td>19</td>\n",
       "      <td>1500</td>\n",
       "      <td>0.0</td>\n",
       "      <td>0</td>\n",
       "      <td>0.0</td>\n",
       "      <td>1.0</td>\n",
       "      <td>0.0</td>\n",
       "      <td>0.0</td>\n",
       "      <td>0.0</td>\n",
       "      <td>0.0</td>\n",
       "      <td>0.0</td>\n",
       "      <td>1.0</td>\n",
       "      <td>0.0</td>\n",
       "    </tr>\n",
       "    <tr>\n",
       "      <th>2</th>\n",
       "      <td>16</td>\n",
       "      <td>1700</td>\n",
       "      <td>110.0</td>\n",
       "      <td>0</td>\n",
       "      <td>0.0</td>\n",
       "      <td>1.0</td>\n",
       "      <td>0.0</td>\n",
       "      <td>0.0</td>\n",
       "      <td>0.0</td>\n",
       "      <td>1.0</td>\n",
       "      <td>0.0</td>\n",
       "      <td>0.0</td>\n",
       "      <td>0.0</td>\n",
       "    </tr>\n",
       "    <tr>\n",
       "      <th>3</th>\n",
       "      <td>16</td>\n",
       "      <td>1123</td>\n",
       "      <td>32.0</td>\n",
       "      <td>1</td>\n",
       "      <td>0.0</td>\n",
       "      <td>1.0</td>\n",
       "      <td>0.0</td>\n",
       "      <td>0.0</td>\n",
       "      <td>0.0</td>\n",
       "      <td>0.0</td>\n",
       "      <td>0.0</td>\n",
       "      <td>1.0</td>\n",
       "      <td>0.0</td>\n",
       "    </tr>\n",
       "    <tr>\n",
       "      <th>4</th>\n",
       "      <td>18</td>\n",
       "      <td>1183</td>\n",
       "      <td>20.0</td>\n",
       "      <td>0</td>\n",
       "      <td>0.0</td>\n",
       "      <td>1.0</td>\n",
       "      <td>0.0</td>\n",
       "      <td>0.0</td>\n",
       "      <td>0.0</td>\n",
       "      <td>0.0</td>\n",
       "      <td>0.0</td>\n",
       "      <td>1.0</td>\n",
       "      <td>0.0</td>\n",
       "    </tr>\n",
       "  </tbody>\n",
       "</table>\n",
       "</div>"
      ],
      "text/plain": [
       "   age    th    2wh  snip  x0_cis  x0_eu  x0_na  x0_o  x0_sa  x1_a  x1_d  \\\n",
       "0   22  2000   15.0     0     0.0    0.0    0.0   0.0    1.0   0.0   0.0   \n",
       "1   19  1500    0.0     0     0.0    1.0    0.0   0.0    0.0   0.0   0.0   \n",
       "2   16  1700  110.0     0     0.0    1.0    0.0   0.0    0.0   1.0   0.0   \n",
       "3   16  1123   32.0     1     0.0    1.0    0.0   0.0    0.0   0.0   0.0   \n",
       "4   18  1183   20.0     0     0.0    1.0    0.0   0.0    0.0   0.0   0.0   \n",
       "\n",
       "   x1_s  x1_z  \n",
       "0   1.0   0.0  \n",
       "1   1.0   0.0  \n",
       "2   0.0   0.0  \n",
       "3   1.0   0.0  \n",
       "4   1.0   0.0  "
      ]
     },
     "execution_count": 104,
     "metadata": {},
     "output_type": "execute_result"
    }
   ],
   "source": [
    "X_test1.head()"
   ]
  },
  {
   "cell_type": "code",
   "execution_count": 105,
   "id": "026b1372",
   "metadata": {},
   "outputs": [],
   "source": [
    "pr_test1 = lin1.predict(X_test1)"
   ]
  },
  {
   "cell_type": "code",
   "execution_count": 106,
   "id": "f6d25297",
   "metadata": {},
   "outputs": [],
   "source": [
    "pr_test2 = rfr.predict(X_test1)"
   ]
  },
  {
   "cell_type": "code",
   "execution_count": 107,
   "id": "ef699782",
   "metadata": {},
   "outputs": [
    {
     "data": {
      "text/html": [
       "<div>\n",
       "<style scoped>\n",
       "    .dataframe tbody tr th:only-of-type {\n",
       "        vertical-align: middle;\n",
       "    }\n",
       "\n",
       "    .dataframe tbody tr th {\n",
       "        vertical-align: top;\n",
       "    }\n",
       "\n",
       "    .dataframe thead th {\n",
       "        text-align: right;\n",
       "    }\n",
       "</style>\n",
       "<table border=\"1\" class=\"dataframe\">\n",
       "  <thead>\n",
       "    <tr style=\"text-align: right;\">\n",
       "      <th></th>\n",
       "      <th>age</th>\n",
       "      <th>th</th>\n",
       "      <th>2wh</th>\n",
       "      <th>snip</th>\n",
       "      <th>x0_cis</th>\n",
       "      <th>x0_eu</th>\n",
       "      <th>x0_na</th>\n",
       "      <th>x0_o</th>\n",
       "      <th>x0_sa</th>\n",
       "      <th>x1_a</th>\n",
       "      <th>x1_d</th>\n",
       "      <th>x1_s</th>\n",
       "      <th>x1_z</th>\n",
       "    </tr>\n",
       "  </thead>\n",
       "  <tbody>\n",
       "    <tr>\n",
       "      <th>0</th>\n",
       "      <td>22</td>\n",
       "      <td>2000</td>\n",
       "      <td>15.0</td>\n",
       "      <td>0</td>\n",
       "      <td>0.0</td>\n",
       "      <td>0.0</td>\n",
       "      <td>0.0</td>\n",
       "      <td>0.0</td>\n",
       "      <td>1.0</td>\n",
       "      <td>0.0</td>\n",
       "      <td>0.0</td>\n",
       "      <td>1.0</td>\n",
       "      <td>0.0</td>\n",
       "    </tr>\n",
       "    <tr>\n",
       "      <th>1</th>\n",
       "      <td>19</td>\n",
       "      <td>1500</td>\n",
       "      <td>0.0</td>\n",
       "      <td>0</td>\n",
       "      <td>0.0</td>\n",
       "      <td>1.0</td>\n",
       "      <td>0.0</td>\n",
       "      <td>0.0</td>\n",
       "      <td>0.0</td>\n",
       "      <td>0.0</td>\n",
       "      <td>0.0</td>\n",
       "      <td>1.0</td>\n",
       "      <td>0.0</td>\n",
       "    </tr>\n",
       "    <tr>\n",
       "      <th>2</th>\n",
       "      <td>16</td>\n",
       "      <td>1700</td>\n",
       "      <td>110.0</td>\n",
       "      <td>0</td>\n",
       "      <td>0.0</td>\n",
       "      <td>1.0</td>\n",
       "      <td>0.0</td>\n",
       "      <td>0.0</td>\n",
       "      <td>0.0</td>\n",
       "      <td>1.0</td>\n",
       "      <td>0.0</td>\n",
       "      <td>0.0</td>\n",
       "      <td>0.0</td>\n",
       "    </tr>\n",
       "    <tr>\n",
       "      <th>3</th>\n",
       "      <td>16</td>\n",
       "      <td>1123</td>\n",
       "      <td>32.0</td>\n",
       "      <td>1</td>\n",
       "      <td>0.0</td>\n",
       "      <td>1.0</td>\n",
       "      <td>0.0</td>\n",
       "      <td>0.0</td>\n",
       "      <td>0.0</td>\n",
       "      <td>0.0</td>\n",
       "      <td>0.0</td>\n",
       "      <td>1.0</td>\n",
       "      <td>0.0</td>\n",
       "    </tr>\n",
       "    <tr>\n",
       "      <th>4</th>\n",
       "      <td>18</td>\n",
       "      <td>1183</td>\n",
       "      <td>20.0</td>\n",
       "      <td>0</td>\n",
       "      <td>0.0</td>\n",
       "      <td>1.0</td>\n",
       "      <td>0.0</td>\n",
       "      <td>0.0</td>\n",
       "      <td>0.0</td>\n",
       "      <td>0.0</td>\n",
       "      <td>0.0</td>\n",
       "      <td>1.0</td>\n",
       "      <td>0.0</td>\n",
       "    </tr>\n",
       "  </tbody>\n",
       "</table>\n",
       "</div>"
      ],
      "text/plain": [
       "   age    th    2wh  snip  x0_cis  x0_eu  x0_na  x0_o  x0_sa  x1_a  x1_d  \\\n",
       "0   22  2000   15.0     0     0.0    0.0    0.0   0.0    1.0   0.0   0.0   \n",
       "1   19  1500    0.0     0     0.0    1.0    0.0   0.0    0.0   0.0   0.0   \n",
       "2   16  1700  110.0     0     0.0    1.0    0.0   0.0    0.0   1.0   0.0   \n",
       "3   16  1123   32.0     1     0.0    1.0    0.0   0.0    0.0   0.0   0.0   \n",
       "4   18  1183   20.0     0     0.0    1.0    0.0   0.0    0.0   0.0   0.0   \n",
       "\n",
       "   x1_s  x1_z  \n",
       "0   1.0   0.0  \n",
       "1   1.0   0.0  \n",
       "2   0.0   0.0  \n",
       "3   1.0   0.0  \n",
       "4   1.0   0.0  "
      ]
     },
     "execution_count": 107,
     "metadata": {},
     "output_type": "execute_result"
    }
   ],
   "source": [
    "X_test1.head()"
   ]
  },
  {
   "cell_type": "code",
   "execution_count": 108,
   "id": "7778ed0b",
   "metadata": {},
   "outputs": [
    {
     "data": {
      "text/plain": [
       "array([17.27826359, 32.35969884,  6.20553237,  1.10266291,  0.3313362 ,\n",
       "        1.01427494, 30.76715132,  4.55093503,  0.28827532,  2.44937809,\n",
       "        2.78873555,  0.51658149,  0.34717436])"
      ]
     },
     "execution_count": 108,
     "metadata": {},
     "output_type": "execute_result"
    }
   ],
   "source": [
    "np.set_printoptions(suppress=True)\n",
    "rfr.feature_importances_ * 100"
   ]
  },
  {
   "cell_type": "code",
   "execution_count": 109,
   "id": "dc60d1fe",
   "metadata": {},
   "outputs": [
    {
     "data": {
      "text/plain": [
       "{'age': 0.10231147667843285,\n",
       " 'th': 0.0007637733535518897,\n",
       " '2wh': 0.00014052977483544333,\n",
       " 'snip': 0.5234420205317242,\n",
       " 'x0_cis': 3.497861449916713,\n",
       " 'x0_eu': 1.28812110111757,\n",
       " 'x0_na': -6.37812380229982,\n",
       " 'x0_o': -1.167978181201774,\n",
       " 'x0_sa': 2.760119432467308,\n",
       " 'x1_a': 0.24438534046079005,\n",
       " 'x1_d': -1.2655678162344908,\n",
       " 'x1_s': -0.24392139845848815,\n",
       " 'x1_z': 1.2651038742321865}"
      ]
     },
     "execution_count": 109,
     "metadata": {},
     "output_type": "execute_result"
    }
   ],
   "source": [
    "dict(zip(X_test1.columns, lin1.coef_))"
   ]
  },
  {
   "cell_type": "code",
   "execution_count": 110,
   "id": "18220912",
   "metadata": {},
   "outputs": [
    {
     "data": {
      "text/plain": [
       "9.470029861026504"
      ]
     },
     "execution_count": 110,
     "metadata": {},
     "output_type": "execute_result"
    }
   ],
   "source": [
    "lin1.intercept_"
   ]
  },
  {
   "cell_type": "code",
   "execution_count": 111,
   "id": "808f869b",
   "metadata": {},
   "outputs": [
    {
     "data": {
      "text/plain": [
       "GridSearchCV(cv=5, estimator=RandomForestRegressor(),\n",
       "             param_grid={'max_depth': [2, 3, 4, 5, None],\n",
       "                         'max_samples': [None, 0.9],\n",
       "                         'n_estimators': [50, 30, 20, 10],\n",
       "                         'random_state': [42]})"
      ]
     },
     "execution_count": 111,
     "metadata": {},
     "output_type": "execute_result"
    }
   ],
   "source": [
    "from sklearn.model_selection import GridSearchCV\n",
    "gcv = GridSearchCV(\n",
    "    rfr, param_grid={\n",
    "    'n_estimators': [50 ,30, 20, 10], \n",
    "    'max_depth': [2, 3, 4, 5, None],\n",
    "    'max_samples': [None, 0.9],\n",
    "    'random_state': [42]\n",
    "    },\n",
    "    cv=5\n",
    ")\n",
    "gcv.fit(X_train1, y)"
   ]
  },
  {
   "cell_type": "code",
   "execution_count": 112,
   "id": "b2685735",
   "metadata": {},
   "outputs": [
    {
     "data": {
      "text/plain": [
       "{'max_depth': 3, 'max_samples': None, 'n_estimators': 50, 'random_state': 42}"
      ]
     },
     "execution_count": 112,
     "metadata": {},
     "output_type": "execute_result"
    }
   ],
   "source": [
    "gcv.best_params_"
   ]
  },
  {
   "cell_type": "code",
   "execution_count": 113,
   "id": "51260aa1",
   "metadata": {},
   "outputs": [
    {
     "data": {
      "text/plain": [
       "0.4190121895184924"
      ]
     },
     "execution_count": 113,
     "metadata": {},
     "output_type": "execute_result"
    }
   ],
   "source": [
    "gcv.best_score_"
   ]
  },
  {
   "cell_type": "code",
   "execution_count": 114,
   "id": "ff3aca32",
   "metadata": {},
   "outputs": [],
   "source": [
    "gcv.best_estimator_.fit(X_train1, y)\n",
    "pr3 = gcv.best_estimator_.predict(X_test1)"
   ]
  },
  {
   "cell_type": "code",
   "execution_count": 115,
   "id": "5f03dcd7",
   "metadata": {},
   "outputs": [
    {
     "data": {
      "text/plain": [
       "{'age': 0.14183452857318465,\n",
       " 'th': 0.4104693364072838,\n",
       " '2wh': 0.01350010385788959,\n",
       " 'snip': 0.0006524317622337227,\n",
       " 'x0_cis': 0.0,\n",
       " 'x0_eu': 0.006222734662522923,\n",
       " 'x0_na': 0.37342823615392867,\n",
       " 'x0_o': 0.022719417921916098,\n",
       " 'x0_sa': 0.0007548217455147494,\n",
       " 'x1_a': 0.011966093797661859,\n",
       " 'x1_d': 0.017556052954469194,\n",
       " 'x1_s': 0.0004308787154707207,\n",
       " 'x1_z': 0.0004653634479238829}"
      ]
     },
     "execution_count": 115,
     "metadata": {},
     "output_type": "execute_result"
    }
   ],
   "source": [
    "dict(zip(X_test1.columns, gcv.best_estimator_.feature_importances_))"
   ]
  },
  {
   "cell_type": "code",
   "execution_count": 116,
   "id": "ff7c009a",
   "metadata": {},
   "outputs": [],
   "source": [
    "from sklearn.svm import SVR\n",
    "svr = SVR()"
   ]
  },
  {
   "cell_type": "code",
   "execution_count": 117,
   "id": "fdcedb91",
   "metadata": {},
   "outputs": [
    {
     "data": {
      "text/plain": [
       "{'C': 10, 'epsilon': 1.0, 'kernel': 'rbf'}"
      ]
     },
     "execution_count": 117,
     "metadata": {},
     "output_type": "execute_result"
    }
   ],
   "source": [
    "gcv3 = GridSearchCV(\n",
    "    svr, param_grid={\n",
    "    'kernel': ['poly', 'rbf', 'linear', 'sigmoid'],\n",
    "    'C': [27, 25, 23, 20, 15, 10, 8],\n",
    "    'epsilon': [0.1, 0.3, 0.65, 1., 1.3, 1.65, 2, 2.3, 2.65]\n",
    "    },\n",
    "    cv=5\n",
    ")\n",
    "gcv3.fit(X_train1_sc, y)\n",
    "gcv3.best_params_"
   ]
  },
  {
   "cell_type": "code",
   "execution_count": 118,
   "id": "3ab10270",
   "metadata": {},
   "outputs": [],
   "source": [
    "from sklearn.model_selection import cross_validate "
   ]
  },
  {
   "cell_type": "code",
   "execution_count": 119,
   "id": "0bcf4c2a",
   "metadata": {},
   "outputs": [
    {
     "name": "stdout",
     "output_type": "stream",
     "text": [
      "-4.554514683353154\n",
      "-1.6578206201125227\n",
      "-4.611526516353167\n",
      "-0.9233591520889702\n",
      "-4.783051967423461\n",
      "-1.252868376239275\n"
     ]
    }
   ],
   "source": [
    "# Linear Regression\n",
    "#print(np.mean(cross_validate(lin1, X_train1, y, cv=5, scoring='neg_mean_absolute_error')['test_score']))\n",
    "print(np.mean(cross_validate(lin1, X_train1, y, cv=5, scoring='neg_root_mean_squared_error')['test_score']))\n",
    "print(np.mean(cross_validate(lin1, X_train1, y, cv=5, scoring='r2')['test_score']))\n",
    "#print(np.mean(cross_validate(lin1, X_train1, y, cv=4, scoring='neg_mean_absolute_error')['test_score']))\n",
    "print(np.mean(cross_validate(lin1, X_train1, y, cv=4, scoring='neg_root_mean_squared_error')['test_score']))\n",
    "print(np.mean(cross_validate(lin1, X_train1, y, cv=4, scoring='r2')['test_score']))\n",
    "#print(np.mean(cross_validate(lin1, X_train1, y, cv=3, scoring='neg_mean_absolute_error')['test_score']))\n",
    "print(np.mean(cross_validate(lin1, X_train1, y, cv=3, scoring='neg_root_mean_squared_error')['test_score']))\n",
    "print(np.mean(cross_validate(lin1, X_train1, y, cv=3, scoring='r2')['test_score']))"
   ]
  },
  {
   "cell_type": "code",
   "execution_count": 120,
   "id": "2142beb7",
   "metadata": {},
   "outputs": [
    {
     "name": "stdout",
     "output_type": "stream",
     "text": [
      "-2.848073227991489\n",
      "0.35673178795772836\n",
      "-2.9757117045166472\n",
      "0.34497122173779116\n",
      "-3.0342685901575877\n",
      "0.3302387503477409\n",
      "0.3439805866810868\n"
     ]
    }
   ],
   "source": [
    "# RF\n",
    "#print(np.mean(cross_validate(rfr, X_train1, y, cv=5, scoring='neg_mean_absolute_error')['test_score']))\n",
    "print(np.mean(cross_validate(rfr, X_train1, y, cv=5, scoring='neg_root_mean_squared_error')['test_score']))\n",
    "r2_5 = np.mean(cross_validate(rfr, X_train1, y, cv=5, scoring='r2')['test_score'])\n",
    "print(r2_5)\n",
    "#print(np.mean(cross_validate(rfr, X_train1, y, cv=4, scoring='neg_mean_absolute_error')['test_score']))\n",
    "print(np.mean(cross_validate(rfr, X_train1, y, cv=4, scoring='neg_root_mean_squared_error')['test_score']))\n",
    "r2_4 = np.mean(cross_validate(rfr, X_train1, y, cv=4, scoring='r2')['test_score'])\n",
    "print(r2_4)\n",
    "#print(np.mean(cross_validate(rfr, X_train1, y, cv=3, scoring='neg_mean_absolute_error')['test_score']))\n",
    "print(np.mean(cross_validate(rfr, X_train1, y, cv=3, scoring='neg_root_mean_squared_error')['test_score']))\n",
    "r2_3 = np.mean(cross_validate(rfr, X_train1, y, cv=3, scoring='r2')['test_score'])\n",
    "print(r2_3)\n",
    "print(np.mean([r2_3, r2_4, r2_5]))"
   ]
  },
  {
   "cell_type": "code",
   "execution_count": 121,
   "id": "51b9ac7e",
   "metadata": {},
   "outputs": [
    {
     "name": "stdout",
     "output_type": "stream",
     "text": [
      "-2.7709925269371842\n",
      "0.4190121895184924\n",
      "-2.967206996754592\n",
      "0.3505927211902776\n",
      "-2.9336535077817807\n",
      "0.38296111336668687\n",
      "0.384188674691819\n"
     ]
    }
   ],
   "source": [
    "# Optimized RF\n",
    "#print(np.mean(cross_validate(gcv.best_estimator_, X_train1, y, cv=5, scoring='neg_mean_absolute_error')['test_score']))\n",
    "print(np.mean(cross_validate(gcv.best_estimator_, X_train1, y, cv=5, scoring='neg_root_mean_squared_error')['test_score']))\n",
    "r2_5 = np.mean(cross_validate(gcv.best_estimator_, X_train1, y, cv=5, scoring='r2')['test_score'])\n",
    "print(r2_5)\n",
    "#print(np.mean(cross_validate(gcv.best_estimator_, X_train1, y, cv=4, scoring='neg_mean_absolute_error')['test_score']))\n",
    "print(np.mean(cross_validate(gcv.best_estimator_, X_train1, y, cv=4, scoring='neg_root_mean_squared_error')['test_score']))\n",
    "r2_4 = np.mean(cross_validate(gcv.best_estimator_, X_train1, y, cv=4, scoring='r2')['test_score'])\n",
    "print(r2_4)\n",
    "#print(np.mean(cross_validate(gcv.best_estimator_, X_train1, y, cv=3, scoring='neg_mean_absolute_error')['test_score']))\n",
    "print(np.mean(cross_validate(gcv.best_estimator_, X_train1, y, cv=3, scoring='neg_root_mean_squared_error')['test_score']))\n",
    "r2_3 = np.mean(cross_validate(gcv.best_estimator_, X_train1, y, cv=3, scoring='r2')['test_score'])\n",
    "print(r2_3)\n",
    "print(np.mean([r2_3, r2_4, r2_5]))"
   ]
  },
  {
   "cell_type": "code",
   "execution_count": 122,
   "id": "3a80e97f",
   "metadata": {},
   "outputs": [
    {
     "name": "stdout",
     "output_type": "stream",
     "text": [
      "-2.7066736110283673\n",
      "0.4482294038188825\n",
      "-2.9340113711018594\n",
      "0.37253743095216785\n",
      "-2.848297993081768\n",
      "0.41729686603430466\n",
      "0.41268790026845165\n"
     ]
    }
   ],
   "source": [
    "#SVR\n",
    "#print(np.mean(cross_validate(gcv3.best_estimator_, X_train1_sc, y, cv=5, scoring='neg_mean_absolute_error')['test_score']))\n",
    "print(np.mean(cross_validate(gcv3.best_estimator_, X_train1_sc, y, cv=5, scoring='neg_root_mean_squared_error')['test_score']))\n",
    "r2_5 = np.mean(cross_validate(gcv3.best_estimator_, X_train1_sc, y, cv=5, scoring='r2')['test_score'])\n",
    "print(r2_5)\n",
    "#print(np.mean(cross_validate(gcv3.best_estimator_, X_train1_sc, y, cv=4, scoring='neg_mean_absolute_error')['test_score']))\n",
    "print(np.mean(cross_validate(gcv3.best_estimator_, X_train1_sc, y, cv=4, scoring='neg_root_mean_squared_error')['test_score']))\n",
    "r2_4 = np.mean(cross_validate(gcv3.best_estimator_, X_train1_sc, y, cv=4, scoring='r2')['test_score'])\n",
    "print(r2_4)\n",
    "#print(np.mean(cross_validate(gcv3.best_estimator_, X_train1_sc, y, cv=3, scoring='neg_mean_absolute_error')['test_score']))\n",
    "print(np.mean(cross_validate(gcv3.best_estimator_, X_train1_sc, y, cv=3, scoring='neg_root_mean_squared_error')['test_score']))\n",
    "r2_3 = np.mean(cross_validate(gcv3.best_estimator_, X_train1_sc, y, cv=3, scoring='r2')['test_score'])\n",
    "print(r2_3)\n",
    "print(np.mean([r2_3, r2_4, r2_5]))"
   ]
  },
  {
   "cell_type": "code",
   "execution_count": 123,
   "id": "8a5f620b",
   "metadata": {},
   "outputs": [],
   "source": [
    "from sklearn.neighbors import KNeighborsRegressor\n",
    "knr = KNeighborsRegressor()"
   ]
  },
  {
   "cell_type": "code",
   "execution_count": 124,
   "id": "ea86255b",
   "metadata": {},
   "outputs": [
    {
     "data": {
      "text/plain": [
       "({'n_neighbors': 3, 'weights': 'uniform'}, 0.4686976669142859)"
      ]
     },
     "execution_count": 124,
     "metadata": {},
     "output_type": "execute_result"
    }
   ],
   "source": [
    "gcv2 = GridSearchCV(\n",
    "    knr, \n",
    "    param_grid={\n",
    "        'n_neighbors': [10,8,6,5,4,3,2],\n",
    "        'weights': ['uniform', 'distance']\n",
    "    }, \n",
    "    cv=5\n",
    ")\n",
    "gcv2.fit(X_train1_sc, y)\n",
    "(gcv2.best_params_, gcv2.best_score_)"
   ]
  },
  {
   "cell_type": "code",
   "execution_count": 125,
   "id": "7c82f1db",
   "metadata": {},
   "outputs": [
    {
     "name": "stdout",
     "output_type": "stream",
     "text": [
      "-2.6111880722302607\n",
      "0.4686976669142859\n",
      "-2.679140865782795\n",
      "0.454200805519419\n",
      "-2.8421534781381155\n",
      "0.4180437646931841\n",
      "0.446980745708963\n"
     ]
    }
   ],
   "source": [
    "# KNR\n",
    "#print(np.mean(cross_validate(gcv2.best_estimator_, X_train1_sc, y, cv=5, scoring='neg_mean_absolute_error')['test_score']))\n",
    "print(np.mean(cross_validate(gcv2.best_estimator_, X_train1_sc, y, cv=5, scoring='neg_root_mean_squared_error')['test_score']))\n",
    "r2_5 = np.mean(cross_validate(gcv2.best_estimator_, X_train1_sc, y, cv=5, scoring='r2')['test_score'])\n",
    "print(r2_5)\n",
    "#print(np.mean(cross_validate(gcv2.best_estimator_, X_train1_sc, y, cv=4, scoring='neg_mean_absolute_error')['test_score']))\n",
    "print(np.mean(cross_validate(gcv2.best_estimator_, X_train1_sc, y, cv=4, scoring='neg_root_mean_squared_error')['test_score']))\n",
    "r2_4 = np.mean(cross_validate(gcv2.best_estimator_, X_train1_sc, y, cv=4, scoring='r2')['test_score'])\n",
    "print(r2_4)\n",
    "#print(np.mean(cross_validate(gcv2.best_estimator_, X_train1_sc, y, cv=3, scoring='neg_mean_absolute_error')['test_score']))\n",
    "print(np.mean(cross_validate(gcv2.best_estimator_, X_train1_sc, y, cv=3, scoring='neg_root_mean_squared_error')['test_score']))\n",
    "r2_3 = np.mean(cross_validate(gcv2.best_estimator_, X_train1_sc, y, cv=3, scoring='r2')['test_score'])\n",
    "print(r2_3)\n",
    "print(np.mean([r2_3, r2_4, r2_5]))"
   ]
  },
  {
   "cell_type": "code",
   "execution_count": 126,
   "id": "6645a792",
   "metadata": {},
   "outputs": [],
   "source": [
    "from sklearn.linear_model import BayesianRidge\n",
    "br = BayesianRidge()"
   ]
  },
  {
   "cell_type": "code",
   "execution_count": 127,
   "id": "1960cd02",
   "metadata": {},
   "outputs": [
    {
     "data": {
      "text/plain": [
       "({'alpha_1': 1e-07, 'alpha_2': 1e-05, 'lambda_1': 1e-05, 'lambda_2': 1e-07},\n",
       " 0.4052323354659911)"
      ]
     },
     "execution_count": 127,
     "metadata": {},
     "output_type": "execute_result"
    }
   ],
   "source": [
    "gcv5 = GridSearchCV(br, \n",
    "                    param_grid={'alpha_1':[1e-05,1e-06,1e-07], \n",
    "                                'alpha_2':[1e-05,1e-06,1e-07], \n",
    "                                'lambda_1':[1e-05,1e-06,1e-07], \n",
    "                                'lambda_2':[1e-05,1e-06,1e-07]}, \n",
    "                    cv=5\n",
    ")\n",
    "gcv5.fit(X_train1_sc, y)\n",
    "(gcv5.best_params_, gcv5.best_score_)"
   ]
  },
  {
   "cell_type": "code",
   "execution_count": 128,
   "id": "e62d904e",
   "metadata": {},
   "outputs": [
    {
     "name": "stdout",
     "output_type": "stream",
     "text": [
      "-2.78897134476114\n",
      "0.4052323354659911\n",
      "-2.8750902616181424\n",
      "0.3853064300826057\n",
      "-2.8412959729798772\n",
      "0.4216315010877952\n",
      "0.40405675554546394\n"
     ]
    }
   ],
   "source": [
    "# BR\n",
    "#print(np.mean(cross_validate(gcv5.best_estimator_, X_train1_sc, y, cv=5, scoring='neg_mean_absolute_error')['test_score']))\n",
    "print(np.mean(cross_validate(gcv5.best_estimator_, X_train1_sc, y, cv=5, scoring='neg_root_mean_squared_error')['test_score']))\n",
    "r2_5 = np.mean(cross_validate(gcv5.best_estimator_, X_train1_sc, y, cv=5, scoring='r2')['test_score'])\n",
    "print(r2_5)\n",
    "#print(np.mean(cross_validate(gcv5.best_estimator_, X_train1_sc, y, cv=4, scoring='neg_mean_absolute_error')['test_score']))\n",
    "print(np.mean(cross_validate(gcv5.best_estimator_, X_train1_sc, y, cv=4, scoring='neg_root_mean_squared_error')['test_score']))\n",
    "r2_4 = np.mean(cross_validate(gcv5.best_estimator_, X_train1_sc, y, cv=4, scoring='r2')['test_score'])\n",
    "print(r2_4)\n",
    "#print(np.mean(cross_validate(gcv5.best_estimator_, X_train1_sc, y, cv=3, scoring='neg_mean_absolute_error')['test_score']))\n",
    "print(np.mean(cross_validate(gcv5.best_estimator_, X_train1_sc, y, cv=3, scoring='neg_root_mean_squared_error')['test_score']))\n",
    "r2_3 = np.mean(cross_validate(gcv5.best_estimator_, X_train1_sc, y, cv=3, scoring='r2')['test_score'])\n",
    "print(r2_3)\n",
    "print(np.mean([r2_3, r2_4, r2_5]))"
   ]
  },
  {
   "cell_type": "code",
   "execution_count": 129,
   "id": "9f2468b9",
   "metadata": {},
   "outputs": [],
   "source": [
    "# KNR\n",
    "gcv2.best_estimator_.fit(X_train1_sc, y)\n",
    "pr4 = gcv2.best_estimator_.predict(X_test1_sc)"
   ]
  },
  {
   "cell_type": "code",
   "execution_count": 130,
   "id": "15f7e95b",
   "metadata": {},
   "outputs": [],
   "source": [
    "# SVR\n",
    "gcv3.best_estimator_.fit(X_train1_sc, y)\n",
    "pr5 = gcv3.best_estimator_.predict(X_test1_sc)"
   ]
  },
  {
   "cell_type": "code",
   "execution_count": 131,
   "id": "6637873f",
   "metadata": {},
   "outputs": [],
   "source": [
    "# BR\n",
    "gcv5.best_estimator_.fit(X_train1_sc, y)\n",
    "pr6 = gcv5.best_estimator_.predict(X_test1_sc)"
   ]
  },
  {
   "cell_type": "code",
   "execution_count": 132,
   "id": "dd39eb28",
   "metadata": {},
   "outputs": [
    {
     "data": {
      "text/plain": [
       "148"
      ]
     },
     "execution_count": 132,
     "metadata": {},
     "output_type": "execute_result"
    }
   ],
   "source": [
    "len(pr4)"
   ]
  },
  {
   "cell_type": "code",
   "execution_count": 133,
   "id": "b695d59d",
   "metadata": {},
   "outputs": [
    {
     "data": {
      "text/plain": [
       "148"
      ]
     },
     "execution_count": 133,
     "metadata": {},
     "output_type": "execute_result"
    }
   ],
   "source": [
    "pr_ens = pr3*0.2 + pr4 * 0.26 + pr5 * 0.28 + pr6 * 0.26\n",
    "len(pr_ens)"
   ]
  },
  {
   "cell_type": "code",
   "execution_count": 134,
   "id": "4ccce65c",
   "metadata": {},
   "outputs": [
    {
     "data": {
      "text/html": [
       "<div>\n",
       "<style scoped>\n",
       "    .dataframe tbody tr th:only-of-type {\n",
       "        vertical-align: middle;\n",
       "    }\n",
       "\n",
       "    .dataframe tbody tr th {\n",
       "        vertical-align: top;\n",
       "    }\n",
       "\n",
       "    .dataframe thead th {\n",
       "        text-align: right;\n",
       "    }\n",
       "</style>\n",
       "<table border=\"1\" class=\"dataframe\">\n",
       "  <thead>\n",
       "    <tr style=\"text-align: right;\">\n",
       "      <th>name</th>\n",
       "      <th>BoDaddy</th>\n",
       "      <th>Azusa</th>\n",
       "      <th>Alekira</th>\n",
       "      <th>ThatGuyBill</th>\n",
       "      <th>Disolligawedere</th>\n",
       "    </tr>\n",
       "  </thead>\n",
       "  <tbody>\n",
       "    <tr>\n",
       "      <th>LR</th>\n",
       "      <td>7.495689</td>\n",
       "      <td>12.943518</td>\n",
       "      <td>17.196516</td>\n",
       "      <td>14.187407</td>\n",
       "      <td>12.343215</td>\n",
       "    </tr>\n",
       "    <tr>\n",
       "      <th>RFR</th>\n",
       "      <td>9.770000</td>\n",
       "      <td>15.865000</td>\n",
       "      <td>15.395000</td>\n",
       "      <td>16.370000</td>\n",
       "      <td>11.865000</td>\n",
       "    </tr>\n",
       "    <tr>\n",
       "      <th>RFR_GC</th>\n",
       "      <td>9.684464</td>\n",
       "      <td>16.143083</td>\n",
       "      <td>16.083480</td>\n",
       "      <td>16.441084</td>\n",
       "      <td>12.554062</td>\n",
       "    </tr>\n",
       "    <tr>\n",
       "      <th>KNR_GC</th>\n",
       "      <td>7.333333</td>\n",
       "      <td>8.666667</td>\n",
       "      <td>11.333333</td>\n",
       "      <td>12.000000</td>\n",
       "      <td>14.833333</td>\n",
       "    </tr>\n",
       "    <tr>\n",
       "      <th>SVR_GC</th>\n",
       "      <td>7.994663</td>\n",
       "      <td>9.743609</td>\n",
       "      <td>13.642563</td>\n",
       "      <td>16.638964</td>\n",
       "      <td>12.699392</td>\n",
       "    </tr>\n",
       "    <tr>\n",
       "      <th>BR_GC</th>\n",
       "      <td>8.147692</td>\n",
       "      <td>13.027493</td>\n",
       "      <td>16.917096</td>\n",
       "      <td>14.220437</td>\n",
       "      <td>12.506437</td>\n",
       "    </tr>\n",
       "    <tr>\n",
       "      <th>ENC</th>\n",
       "      <td>8.200465</td>\n",
       "      <td>11.597309</td>\n",
       "      <td>14.381725</td>\n",
       "      <td>14.764440</td>\n",
       "      <td>13.174983</td>\n",
       "    </tr>\n",
       "  </tbody>\n",
       "</table>\n",
       "</div>"
      ],
      "text/plain": [
       "name     BoDaddy      Azusa    Alekira  ThatGuyBill  Disolligawedere\n",
       "LR      7.495689  12.943518  17.196516    14.187407        12.343215\n",
       "RFR     9.770000  15.865000  15.395000    16.370000        11.865000\n",
       "RFR_GC  9.684464  16.143083  16.083480    16.441084        12.554062\n",
       "KNR_GC  7.333333   8.666667  11.333333    12.000000        14.833333\n",
       "SVR_GC  7.994663   9.743609  13.642563    16.638964        12.699392\n",
       "BR_GC   8.147692  13.027493  16.917096    14.220437        12.506437\n",
       "ENC     8.200465  11.597309  14.381725    14.764440        13.174983"
      ]
     },
     "execution_count": 134,
     "metadata": {},
     "output_type": "execute_result"
    }
   ],
   "source": [
    "results = pd.DataFrame([pr_test1, pr_test2, pr3, pr4, pr5, pr6, pr_ens], \n",
    "                       index=['LR', 'RFR', 'RFR_GC', 'KNR_GC', 'SVR_GC', 'BR_GC', 'ENC'],\n",
    "                       columns=test1['name']\n",
    "                      )\n",
    "# results = results.reindex(['name', 'LR', 'RFR', 'RFR_GC', 'SVR_GC'])\n",
    "results.iloc[:,-5:]"
   ]
  },
  {
   "cell_type": "code",
   "execution_count": 135,
   "id": "70400754",
   "metadata": {},
   "outputs": [
    {
     "name": "stdout",
     "output_type": "stream",
     "text": [
      "a\n"
     ]
    }
   ],
   "source": [
    "print('a')"
   ]
  },
  {
   "cell_type": "code",
   "execution_count": 136,
   "id": "9afb6925",
   "metadata": {},
   "outputs": [
    {
     "data": {
      "text/html": [
       "<div>\n",
       "<style scoped>\n",
       "    .dataframe tbody tr th:only-of-type {\n",
       "        vertical-align: middle;\n",
       "    }\n",
       "\n",
       "    .dataframe tbody tr th {\n",
       "        vertical-align: top;\n",
       "    }\n",
       "\n",
       "    .dataframe thead th {\n",
       "        text-align: right;\n",
       "    }\n",
       "</style>\n",
       "<table border=\"1\" class=\"dataframe\">\n",
       "  <thead>\n",
       "    <tr style=\"text-align: right;\">\n",
       "      <th>name</th>\n",
       "      <th>burg3r</th>\n",
       "      <th>KipCarry</th>\n",
       "      <th>HShadows</th>\n",
       "      <th>quinxxxx</th>\n",
       "      <th>pronax_3_</th>\n",
       "    </tr>\n",
       "  </thead>\n",
       "  <tbody>\n",
       "    <tr>\n",
       "      <th>LR</th>\n",
       "      <td>18.279828</td>\n",
       "      <td>20.087673</td>\n",
       "      <td>20.367810</td>\n",
       "      <td>20.205219</td>\n",
       "      <td>19.355432</td>\n",
       "    </tr>\n",
       "    <tr>\n",
       "      <th>RFR</th>\n",
       "      <td>17.780000</td>\n",
       "      <td>16.480000</td>\n",
       "      <td>16.830000</td>\n",
       "      <td>17.415000</td>\n",
       "      <td>17.700000</td>\n",
       "    </tr>\n",
       "    <tr>\n",
       "      <th>RFR_GC</th>\n",
       "      <td>17.225672</td>\n",
       "      <td>16.673898</td>\n",
       "      <td>16.877990</td>\n",
       "      <td>16.988146</td>\n",
       "      <td>17.048223</td>\n",
       "    </tr>\n",
       "    <tr>\n",
       "      <th>KNR_GC</th>\n",
       "      <td>17.666667</td>\n",
       "      <td>17.666667</td>\n",
       "      <td>17.666667</td>\n",
       "      <td>18.000000</td>\n",
       "      <td>18.000000</td>\n",
       "    </tr>\n",
       "    <tr>\n",
       "      <th>SVR_GC</th>\n",
       "      <td>17.672992</td>\n",
       "      <td>17.047622</td>\n",
       "      <td>17.007559</td>\n",
       "      <td>17.000032</td>\n",
       "      <td>17.153836</td>\n",
       "    </tr>\n",
       "    <tr>\n",
       "      <th>BR_GC</th>\n",
       "      <td>17.997397</td>\n",
       "      <td>19.647888</td>\n",
       "      <td>19.891729</td>\n",
       "      <td>19.710873</td>\n",
       "      <td>18.868853</td>\n",
       "    </tr>\n",
       "    <tr>\n",
       "      <th>ENC</th>\n",
       "      <td>17.666229</td>\n",
       "      <td>17.809898</td>\n",
       "      <td>17.902897</td>\n",
       "      <td>17.962465</td>\n",
       "      <td>17.798620</td>\n",
       "    </tr>\n",
       "  </tbody>\n",
       "</table>\n",
       "</div>"
      ],
      "text/plain": [
       "name       burg3r   KipCarry   HShadows   quinxxxx  pronax_3_\n",
       "LR      18.279828  20.087673  20.367810  20.205219  19.355432\n",
       "RFR     17.780000  16.480000  16.830000  17.415000  17.700000\n",
       "RFR_GC  17.225672  16.673898  16.877990  16.988146  17.048223\n",
       "KNR_GC  17.666667  17.666667  17.666667  18.000000  18.000000\n",
       "SVR_GC  17.672992  17.047622  17.007559  17.000032  17.153836\n",
       "BR_GC   17.997397  19.647888  19.891729  19.710873  18.868853\n",
       "ENC     17.666229  17.809898  17.902897  17.962465  17.798620"
      ]
     },
     "execution_count": 136,
     "metadata": {},
     "output_type": "execute_result"
    }
   ],
   "source": [
    "results.loc[:,results.loc['ENC']>17.5]"
   ]
  },
  {
   "cell_type": "code",
   "execution_count": null,
   "id": "94bf35e7",
   "metadata": {},
   "outputs": [],
   "source": []
  }
 ],
 "metadata": {
  "kernelspec": {
   "display_name": "Python 3",
   "language": "python",
   "name": "python3"
  },
  "language_info": {
   "codemirror_mode": {
    "name": "ipython",
    "version": 3
   },
   "file_extension": ".py",
   "mimetype": "text/x-python",
   "name": "python",
   "nbconvert_exporter": "python",
   "pygments_lexer": "ipython3",
   "version": "3.8.8"
  }
 },
 "nbformat": 4,
 "nbformat_minor": 5
}
